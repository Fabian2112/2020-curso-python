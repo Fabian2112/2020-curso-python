{
 "cells": [
  {
   "cell_type": "markdown",
   "metadata": {},
   "source": [
    "#  Ejercicios  Clase 2"
   ]
  },
  {
   "cell_type": "markdown",
   "metadata": {},
   "source": [
    "#### Crear una lista y pedirle al usuario que agregue un elemento nuevo a la lista"
   ]
  },
  {
   "cell_type": "code",
   "execution_count": 8,
   "metadata": {},
   "outputs": [
    {
     "name": "stdout",
     "output_type": "stream",
     "text": [
      "[1, 23, 654, 'apeend']\n",
      "[1, 23, 654, 'apeend', 5]\n"
     ]
    }
   ],
   "source": [
    "lista = [1,23,654,\"apeend\"]\n",
    "print (lista)\n",
    "lista.append (5)\n",
    "print (lista)"
   ]
  },
  {
   "cell_type": "markdown",
   "metadata": {},
   "source": [
    "#### Crear una lista con seis elemetos, imprimirla en pantalla y pedirle al usuario que ingrese un elemento y en qué posición desea insertarlo. Luego imprimir la lista.\n"
   ]
  },
  {
   "cell_type": "code",
   "execution_count": 16,
   "metadata": {},
   "outputs": [
    {
     "name": "stdout",
     "output_type": "stream",
     "text": [
      "[0, 123, 'caruso', ['a', 'b'], 54, 8]\n",
      "[0, 5, 123, 'caruso', ['a', 'b'], 54, 8]\n"
     ]
    }
   ],
   "source": [
    "lista2 = [0,123,\"caruso\",[\"a\",\"b\"],54,8]\n",
    "print (lista2)\n",
    "lista2.insert (1,5)\n",
    "print (lista2)"
   ]
  },
  {
   "cell_type": "markdown",
   "metadata": {},
   "source": [
    "#### Crear una lista y pedirle al usuario que agregue dos elementos. Luego mostrar la lista y pedirle al usuario que ingrese el índice de un elemento para ser borrado. Borrar el elemento y mostrar nuevamente la lista."
   ]
  },
  {
   "cell_type": "code",
   "execution_count": 4,
   "metadata": {},
   "outputs": [
    {
     "name": "stdout",
     "output_type": "stream",
     "text": [
      "lista =  [21, 5, 9, 'cinco,cinco', [0, 1]]\n",
      "inserte su numero para agregar a  la lista:25\n",
      "lista = [21, 5, 9, 'cinco,cinco', [0, 1], 25]\n"
     ]
    }
   ],
   "source": [
    "lista1=[21,5,9,\"cinco,cinco\",[0,1]]\n",
    "print(\"lista = \", lista1)\n",
    "num = int(input(\"inserte su numero para agregar a  la lista:\"))\n",
    "lista1.append (num)\n",
    "print(\"lista =\", lista1)"
   ]
  },
  {
   "cell_type": "markdown",
   "metadata": {},
   "source": [
    "#### Crear una lista y pedirle al usuario que agregue dos elementos. Luego mostrar la lista y la cantidad de elementos que tiene. Pedirle al usuario que ingrese el índice de un elemento para ser borrado. Chequear si el número ingresado está dentro del rango válido de índices. Si es correcto borrar el elemento y mostrar nuevamente la lista y la cantidad de elementos. Si es incorrecto mostrar un mensaje de error."
   ]
  },
  {
   "cell_type": "code",
   "execution_count": null,
   "metadata": {},
   "outputs": [],
   "source": []
  },
  {
   "cell_type": "markdown",
   "metadata": {},
   "source": [
    "#### Crear una matriz 3x4 como lista de listas e imprimir el primer elemento de la primer fila, el último de la segunda fila y el segundo de la tercer fila."
   ]
  },
  {
   "cell_type": "code",
   "execution_count": null,
   "metadata": {},
   "outputs": [],
   "source": []
  },
  {
   "cell_type": "markdown",
   "metadata": {},
   "source": [
    "#### Dada una lista de números, encontrar el promedio de sus elementos"
   ]
  },
  {
   "cell_type": "code",
   "execution_count": 13,
   "metadata": {},
   "outputs": [
    {
     "name": "stdout",
     "output_type": "stream",
     "text": [
      "Lista: [1, 2, 3, 5, 4, 8, 7, 5, 6]\n",
      "El promedio de la lista  4.555555555555555\n"
     ]
    }
   ],
   "source": [
    "numeros=[1,2,3,5,4,8,7,5,6]\n",
    "print(\"Lista:\",numeros)\n",
    "print(\"El promedio de la lista \", sum(numeros)/len(numeros))\n"
   ]
  },
  {
   "cell_type": "markdown",
   "metadata": {},
   "source": [
    "#### Dada una lista de números, encontrar el promedio del cuadrado de sus elementos"
   ]
  },
  {
   "cell_type": "code",
   "execution_count": null,
   "metadata": {},
   "outputs": [],
   "source": []
  },
  {
   "cell_type": "markdown",
   "metadata": {},
   "source": [
    "#### Pedir al usuario que ingrese dos números y que muestre cual es el mayor o si son iguales."
   ]
  },
  {
   "cell_type": "code",
   "execution_count": null,
   "metadata": {},
   "outputs": [],
   "source": []
  },
  {
   "cell_type": "markdown",
   "metadata": {},
   "source": [
    "#### Lo mismo pero con tres números"
   ]
  },
  {
   "cell_type": "code",
   "execution_count": null,
   "metadata": {},
   "outputs": [],
   "source": []
  },
  {
   "cell_type": "markdown",
   "metadata": {},
   "source": [
    "#### Pedir al usuario que ingrese dos números para evaluar su división. Si el denominador es cero imprimir un mensaje de error. En otro caso mostrar la división."
   ]
  },
  {
   "cell_type": "code",
   "execution_count": null,
   "metadata": {},
   "outputs": [],
   "source": []
  },
  {
   "cell_type": "markdown",
   "metadata": {},
   "source": [
    "#### Pedir al usuario su edad y mostrarle un mensaje diciendo si está habilitado para votar y si su voto es obligatorio o no. Consideremos que los mayores de 16 pueden votar y es obligatorio en el rango de 18 a 65 años."
   ]
  },
  {
   "cell_type": "code",
   "execution_count": null,
   "metadata": {},
   "outputs": [],
   "source": []
  },
  {
   "cell_type": "markdown",
   "metadata": {},
   "source": [
    "#### Pedir al usuario su nombre e imprimirlo 10 veces en pantalla usando primero el bucle while y después el bucle for."
   ]
  },
  {
   "cell_type": "code",
   "execution_count": null,
   "metadata": {},
   "outputs": [],
   "source": []
  },
  {
   "cell_type": "markdown",
   "metadata": {},
   "source": [
    "#### Pedir al usuario un entero del 1 al 9 e imprimir la tabla de multiplicar de ese número con el siguiente formato\n",
    "\n",
    "\tIngrese un número entero del 1 al 9: 6\n",
    "\t6 x 1 = 6\n",
    "\t6 x 2 = 12\n",
    "\t...\n",
    "\t6 x 10 = 60"
   ]
  },
  {
   "cell_type": "code",
   "execution_count": null,
   "metadata": {},
   "outputs": [],
   "source": []
  },
  {
   "cell_type": "markdown",
   "metadata": {},
   "source": [
    "#### Hacer un programa que repita todo lo que el usuario ingrese hasta que ingrese el texto \"salir\".\n"
   ]
  },
  {
   "cell_type": "code",
   "execution_count": 1,
   "metadata": {},
   "outputs": [
    {
     "name": "stdout",
     "output_type": "stream",
     "text": [
      "ingrese cualquier cosa: 3\n",
      "SIGA PROBANDO COSAS HASTA SALIR\n",
      "ingrese cualquier cosa: 4\n",
      "SIGA PROBANDO COSAS HASTA SALIR\n",
      "ingrese cualquier cosa: 5\n",
      "SIGA PROBANDO COSAS HASTA SALIR\n",
      "ingrese cualquier cosa: 6\n",
      "SIGA PROBANDO COSAS HASTA SALIR\n",
      "ingrese cualquier cosa: 7\n",
      "SIGA PROBANDO COSAS HASTA SALIR\n",
      "ingrese cualquier cosa: 8\n",
      "SIGA PROBANDO COSAS HASTA SALIR\n",
      "ingrese cualquier cosa: SALIR\n",
      "SIGA PROBANDO COSAS HASTA SALIR\n",
      "ingrese cualquier cosa: salir\n"
     ]
    }
   ],
   "source": [
    "cosa = input (\"ingrese cualquier cosa: \")\n",
    "while cosa!=\"salir\":\n",
    "    print (\"SIGA PROBANDO COSAS HASTA SALIR\")\n",
    "    cosa = input (\"ingrese cualquier cosa: \")"
   ]
  },
  {
   "cell_type": "markdown",
   "metadata": {},
   "source": [
    "#### Dada una lista usar un bucle para generar otra lista con los mismos elementos pero en orden inverso."
   ]
  },
  {
   "cell_type": "code",
   "execution_count": null,
   "metadata": {},
   "outputs": [],
   "source": []
  },
  {
   "cell_type": "markdown",
   "metadata": {},
   "source": [
    "#### Dada una palabra imprimir lo que se obtiene al poner sus letras al revés."
   ]
  },
  {
   "cell_type": "code",
   "execution_count": 71,
   "metadata": {},
   "outputs": [
    {
     "name": "stdout",
     "output_type": "stream",
     "text": [
      "['P', 'A', 'L', 'A', 'B', 'R', 'A']\n",
      "\n",
      "\n",
      "P\n",
      "A\n",
      "L\n",
      "A\n",
      "B\n",
      "R\n",
      "A\n",
      "\n",
      "\n",
      "7\n"
     ]
    },
    {
     "data": {
      "text/plain": [
       "['A', 'A', 'A', 'B', 'L', 'P', 'R']"
      ]
     },
     "execution_count": 71,
     "metadata": {},
     "output_type": "execute_result"
    }
   ],
   "source": [
    "palabra=list(\"PALABRA\")\n",
    "print(palabra)\n",
    "print(\"\\n\")\n",
    "for i in palabra:\n",
    "    print(i)\n",
    "print(\"\\n\")\n",
    "s(len(palabra))\n",
    "ordenados"
   ]
  },
  {
   "cell_type": "code",
   "execution_count": 63,
   "metadata": {},
   "outputs": [
    {
     "data": {
      "text/plain": [
       "['A', 'A', 'A', 'B', 'L', 'P', 'R']"
      ]
     },
     "execution_count": 63,
     "metadata": {},
     "output_type": "execute_result"
    }
   ],
   "source": [
    "palabra.sort()\n",
    "palabra"
   ]
  },
  {
   "cell_type": "markdown",
   "metadata": {},
   "source": [
    "#### Dada una palabra ingresada por el usuario, imprimir varias líneas haciendo que cada línea tenga un caracter más que el anterior hasta completar la palabra.  \n",
    "Ejemplo:  \n",
    "```\t\n",
    "Palabra: perro\n",
    "\tp\n",
    "\tpe\n",
    "\tper\n",
    "\tperr\n",
    "\tperro\n",
    "``` "
   ]
  },
  {
   "cell_type": "code",
   "execution_count": null,
   "metadata": {},
   "outputs": [],
   "source": []
  },
  {
   "cell_type": "markdown",
   "metadata": {},
   "source": [
    "#### Dado un número entero positivo ingresado por el ususario, calcular el factorial de ese número"
   ]
  },
  {
   "cell_type": "code",
   "execution_count": null,
   "metadata": {},
   "outputs": [],
   "source": []
  },
  {
   "cell_type": "markdown",
   "metadata": {},
   "source": [
    "#### Generar una matriz de 2x3 como lista de listas y trasponerla.  \n",
    "Ej:  \n",
    "```\n",
    "    input: [[1,2,3], [4,5,6]]\n",
    "    output: [[1,4], [2,5], [3,6]]\n",
    "    ```"
   ]
  },
  {
   "cell_type": "code",
   "execution_count": null,
   "metadata": {},
   "outputs": [],
   "source": []
  },
  {
   "cell_type": "markdown",
   "metadata": {},
   "source": [
    "#### Hacer un diccionario vacío que va a contener los nombres de los alumnos y sus respectivas notas. Mostrarle al usuario las opciones  \n",
    "    1. Ingresar un registro\n",
    "    2. Mostrar los registros guardados\n",
    "    3. Salir\n",
    "\n",
    "#### Mediante un bucle permitirle al usuario hacer tantas operaciones como quiera hasta ingresar \"3\" y con un condicional dentro de ese bucle realizar las operaciones de las opciones"
   ]
  },
  {
   "cell_type": "code",
   "execution_count": null,
   "metadata": {},
   "outputs": [],
   "source": []
  }
 ],
 "metadata": {
  "kernelspec": {
   "display_name": "Python 3",
   "language": "python",
   "name": "python3"
  },
  "language_info": {
   "codemirror_mode": {
    "name": "ipython",
    "version": 3
   },
   "file_extension": ".py",
   "mimetype": "text/x-python",
   "name": "python",
   "nbconvert_exporter": "python",
   "pygments_lexer": "ipython3",
   "version": "3.7.6"
  }
 },
 "nbformat": 4,
 "nbformat_minor": 2
}
