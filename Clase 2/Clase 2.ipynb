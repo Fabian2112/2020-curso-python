{
 "cells": [
  {
   "cell_type": "code",
   "execution_count": null,
   "metadata": {},
   "outputs": [],
   "source": [
    "# Clase 2 - Introducción a la programación en Python\n",
    "\n",
    "*Por Ariel Thenon*"
   ]
  },
  {
   "cell_type": "markdown",
   "metadata": {},
   "source": [
    "## Built-in Functions\n",
    "\n",
    "Ya hemos utilizado algunas funciones como `print()`, `float()`, `type()` o `input()`. Python viene con una serie de funciones listas para utilizar, las built-in functions o funciones integradas. La lista completa de estas funciones de la versión 3.7 se puede consultar aquí: [Built-in functions doumentation](https://docs.python.org/3.7/library/functions.html). Vamos a ver algunas de esas funciones.\n",
    "\n",
    "\n",
    "A continuación algunas funciones útiles para usar con colecciones\n",
    "\n",
    "- **`len()`**\n",
    "\n",
    ">Es una función que retorna la cantidad de elementos de una colección, como las que acabamos de ver.\n",
    "\n",
    "- **`sum()`**\n",
    "\n",
    ">Devuelve la suma de todos los elementos de un iterable compuesto por números. Se puede especificar el valor inicial de la suma, que por defecto es cero\n",
    "\n",
    "- **`sorted()`**\n",
    "\n",
    ">Permite ordenar los elementos de un iterable\n",
    "\n",
    "- **`min()`, `max()`**\n",
    "\n",
    ">Retornan el mínimo y el máximo de un iterable."
   ]
  },
  {
   "cell_type": "code",
   "execution_count": 23,
   "metadata": {},
   "outputs": [],
   "source": [
    "lista = [12,32,45,46897,5,10]"
   ]
  },
  {
   "cell_type": "code",
   "execution_count": 15,
   "metadata": {},
   "outputs": [
    {
     "data": {
      "text/plain": [
       "6"
      ]
     },
     "execution_count": 15,
     "metadata": {},
     "output_type": "execute_result"
    }
   ],
   "source": [
    "len(lista)"
   ]
  },
  {
   "cell_type": "code",
   "execution_count": 16,
   "metadata": {},
   "outputs": [
    {
     "name": "stdout",
     "output_type": "stream",
     "text": [
      "escoja un numero del 1 al 10: \n"
     ]
    },
    {
     "data": {
      "text/plain": [
       "''"
      ]
     },
     "execution_count": 16,
     "metadata": {},
     "output_type": "execute_result"
    }
   ],
   "source": [
    "input(\"escoja un numero del 1 al 10: \")"
   ]
  },
  {
   "cell_type": "code",
   "execution_count": 17,
   "metadata": {},
   "outputs": [
    {
     "data": {
      "text/plain": [
       "47001"
      ]
     },
     "execution_count": 17,
     "metadata": {},
     "output_type": "execute_result"
    }
   ],
   "source": [
    "sum(lista)"
   ]
  },
  {
   "cell_type": "code",
   "execution_count": 18,
   "metadata": {},
   "outputs": [
    {
     "data": {
      "text/plain": [
       "37001"
      ]
     },
     "execution_count": 18,
     "metadata": {},
     "output_type": "execute_result"
    }
   ],
   "source": [
    "sum(lista,-10000)"
   ]
  },
  {
   "cell_type": "code",
   "execution_count": 19,
   "metadata": {},
   "outputs": [
    {
     "data": {
      "text/plain": [
       "15"
      ]
     },
     "execution_count": 19,
     "metadata": {},
     "output_type": "execute_result"
    }
   ],
   "source": [
    "sum (lista[4:])"
   ]
  },
  {
   "cell_type": "code",
   "execution_count": 21,
   "metadata": {},
   "outputs": [
    {
     "name": "stdout",
     "output_type": "stream",
     "text": [
      "hello 356 [12, 32, 45, 46897, 5, 10]\n"
     ]
    }
   ],
   "source": [
    "print (\"hello\", 356, lista)"
   ]
  },
  {
   "cell_type": "markdown",
   "metadata": {},
   "source": [
    "CON SHIFT + TAB VES SEPARADORES Y SALTO DE LINEA"
   ]
  },
  {
   "cell_type": "code",
   "execution_count": 22,
   "metadata": {},
   "outputs": [
    {
     "name": "stdout",
     "output_type": "stream",
     "text": [
      "hello-/-356-/-[12, 32, 45, 46897, 5, 10]\n"
     ]
    }
   ],
   "source": [
    "print (\"hello\", 356, lista, sep=\"-/-\")"
   ]
  },
  {
   "cell_type": "code",
   "execution_count": 24,
   "metadata": {},
   "outputs": [
    {
     "name": "stdout",
     "output_type": "stream",
     "text": [
      "SALTO DE LINEA 1\n",
      "SALTO DE LINEA 2\n",
      "SALTO DE LINEA 3\n"
     ]
    }
   ],
   "source": [
    "print (\"SALTO DE LINEA 1\\nSALTO DE LINEA 2\\nSALTO DE LINEA 3\")"
   ]
  },
  {
   "cell_type": "code",
   "execution_count": 25,
   "metadata": {},
   "outputs": [
    {
     "data": {
      "text/plain": [
       "5"
      ]
     },
     "execution_count": 25,
     "metadata": {},
     "output_type": "execute_result"
    }
   ],
   "source": [
    "min(lista)"
   ]
  },
  {
   "cell_type": "code",
   "execution_count": 26,
   "metadata": {},
   "outputs": [
    {
     "data": {
      "text/plain": [
       "[5, 10, 12, 32, 45, 46897]"
      ]
     },
     "execution_count": 26,
     "metadata": {},
     "output_type": "execute_result"
    }
   ],
   "source": [
    "sorted (lista)"
   ]
  },
  {
   "cell_type": "code",
   "execution_count": 27,
   "metadata": {},
   "outputs": [],
   "source": [
    "lista_3 = [\"trauobalj\", \"lau\", \"lugmbo\", \"p\"]"
   ]
  },
  {
   "cell_type": "code",
   "execution_count": 28,
   "metadata": {},
   "outputs": [
    {
     "data": {
      "text/plain": [
       "['lau', 'lugmbo', 'p', 'trauobalj']"
      ]
     },
     "execution_count": 28,
     "metadata": {},
     "output_type": "execute_result"
    }
   ],
   "source": [
    "sorted(lista_3)"
   ]
  },
  {
   "cell_type": "markdown",
   "metadata": {},
   "source": [
    "También encontramos funciones para conversión de tipos o casting:\n",
    "\n",
    "- `float()`\n",
    "- `int()`\n",
    "- `complex()`\n",
    "- `str()`\n",
    "- `bool()`\n",
    "- `list()`\n",
    "- `tuple()`\n",
    "- `dict()`\n",
    "\n"
   ]
  },
  {
   "cell_type": "code",
   "execution_count": 2,
   "metadata": {},
   "outputs": [
    {
     "name": "stdout",
     "output_type": "stream",
     "text": [
      "ingresar numero entre 1 a 10:9.5\n",
      "<class 'float'>\n"
     ]
    }
   ],
   "source": [
    "luck = input(\"ingresar numero entre 1 a 10:\")\n",
    "luck = float(luck)\n",
    "print(type(luck))"
   ]
  },
  {
   "cell_type": "code",
   "execution_count": 1,
   "metadata": {},
   "outputs": [
    {
     "data": {
      "text/plain": [
       "['s', 'o', 'y', ' ', 'u', 'n', ' ', 's', 't', 'r', 'i', 'n', 'g']"
      ]
     },
     "execution_count": 1,
     "metadata": {},
     "output_type": "execute_result"
    }
   ],
   "source": [
    "list (\"soy un string\")"
   ]
  },
  {
   "cell_type": "code",
   "execution_count": 4,
   "metadata": {},
   "outputs": [
    {
     "ename": "TypeError",
     "evalue": "can only concatenate str (not \"int\") to str",
     "output_type": "error",
     "traceback": [
      "\u001b[1;31m---------------------------------------------------------------------------\u001b[0m",
      "\u001b[1;31mTypeError\u001b[0m                                 Traceback (most recent call last)",
      "\u001b[1;32m<ipython-input-4-46141130597d>\u001b[0m in \u001b[0;36m<module>\u001b[1;34m\u001b[0m\n\u001b[0;32m      1\u001b[0m \u001b[0mnota\u001b[0m \u001b[1;33m=\u001b[0m \u001b[1;36m8\u001b[0m\u001b[1;33m\u001b[0m\u001b[1;33m\u001b[0m\u001b[0m\n\u001b[1;32m----> 2\u001b[1;33m \u001b[0mprint\u001b[0m \u001b[1;33m(\u001b[0m\u001b[1;34m\"nota de juan\"\u001b[0m\u001b[1;33m+\u001b[0m\u001b[0mnota\u001b[0m\u001b[1;33m)\u001b[0m\u001b[1;33m\u001b[0m\u001b[1;33m\u001b[0m\u001b[0m\n\u001b[0m",
      "\u001b[1;31mTypeError\u001b[0m: can only concatenate str (not \"int\") to str"
     ]
    }
   ],
   "source": [
    "nota = 8\n",
    "print (\"nota de juan\"+nota)"
   ]
  },
  {
   "cell_type": "code",
   "execution_count": 8,
   "metadata": {},
   "outputs": [
    {
     "name": "stdout",
     "output_type": "stream",
     "text": [
      "nota de juan: 8\n"
     ]
    }
   ],
   "source": [
    "nota = 8\n",
    "print (\"nota de juan: \" + str(nota))"
   ]
  },
  {
   "cell_type": "code",
   "execution_count": 9,
   "metadata": {},
   "outputs": [
    {
     "data": {
      "text/plain": [
       "(True, True)"
      ]
     },
     "execution_count": 9,
     "metadata": {},
     "output_type": "execute_result"
    }
   ],
   "source": [
    "\"asdf\"<\"cv\", \"hg\"<\"khpy\""
   ]
  },
  {
   "cell_type": "code",
   "execution_count": 10,
   "metadata": {},
   "outputs": [
    {
     "data": {
      "text/plain": [
       "False"
      ]
     },
     "execution_count": 10,
     "metadata": {},
     "output_type": "execute_result"
    }
   ],
   "source": [
    "\"a\"<\"Z\""
   ]
  },
  {
   "cell_type": "markdown",
   "metadata": {},
   "source": [
    "SEGUN LA POSICION EN NUMERO DE FORMATO UNICODE, se analiza con comando \"ord()\" o a la inversa con \"chr()\""
   ]
  },
  {
   "cell_type": "code",
   "execution_count": 11,
   "metadata": {},
   "outputs": [
    {
     "data": {
      "text/plain": [
       "(74, 106, 64)"
      ]
     },
     "execution_count": 11,
     "metadata": {},
     "output_type": "execute_result"
    }
   ],
   "source": [
    "ord(\"J\"),ord(\"j\"),ord(\"@\")"
   ]
  },
  {
   "cell_type": "code",
   "execution_count": 19,
   "metadata": {},
   "outputs": [
    {
     "data": {
      "text/plain": [
       "('#', '@', 'J')"
      ]
     },
     "execution_count": 19,
     "metadata": {},
     "output_type": "execute_result"
    }
   ],
   "source": [
    "chr(35),chr(64),chr(74)"
   ]
  },
  {
   "cell_type": "code",
   "execution_count": 21,
   "metadata": {},
   "outputs": [
    {
     "ename": "IndentationError",
     "evalue": "expected an indented block (<ipython-input-21-37a600efa5c1>, line 2)",
     "output_type": "error",
     "traceback": [
      "\u001b[1;36m  File \u001b[1;32m\"<ipython-input-21-37a600efa5c1>\"\u001b[1;36m, line \u001b[1;32m2\u001b[0m\n\u001b[1;33m    print(chr(i),end=\"\")\u001b[0m\n\u001b[1;37m        ^\u001b[0m\n\u001b[1;31mIndentationError\u001b[0m\u001b[1;31m:\u001b[0m expected an indented block\n"
     ]
    }
   ],
   "source": [
    "for i in range (200):\n",
    "print(chr(i),end=\"\")"
   ]
  },
  {
   "cell_type": "code",
   "execution_count": 17,
   "metadata": {},
   "outputs": [
    {
     "name": "stdout",
     "output_type": "stream",
     "text": [
      "\u0000\u0001\u0002\u0003\u0004\u0005\u0006\u0007\b\t\n",
      "\u000b",
      "\f",
      "\r",
      "\u000e\u000f\u0010\u0011\u0012\u0013\u0014\u0015\u0016\u0017\u0018\u0019\u001a\u001b\u001c",
      "\u001d",
      "\u001e",
      "\u001f !\"#$%&'()*+,-./0123456789:;<=>?@ABCDEFGHIJKLMNOPQRSTUVWXYZ[\\]^_`abcdefghijklmnopqrstuvwxyz{|}~",
      " ¡¢£¤¥¦§¨©ª«¬­®¯°±²³´µ¶·¸¹º»¼½¾¿ÀÁÂÃÄÅÆÇ\n"
     ]
    }
   ],
   "source": [
    "s=\"\"\n",
    "for i in range (200):\n",
    "    s = s + chr(i)\n",
    "print(s)"
   ]
  },
  {
   "cell_type": "code",
   "execution_count": null,
   "metadata": {},
   "outputs": [],
   "source": []
  },
  {
   "cell_type": "markdown",
   "metadata": {},
   "source": [
    "### Accediendo a la documentación\n",
    "\n",
    "La documentación es información oficial sobre las distintas características de Python o sus librerías. Jupyter nos permite acceder muy fácil a la documentación a través del atajo `[Shift-Tab]`\n"
   ]
  },
  {
   "cell_type": "code",
   "execution_count": null,
   "metadata": {},
   "outputs": [],
   "source": []
  },
  {
   "cell_type": "code",
   "execution_count": null,
   "metadata": {},
   "outputs": [],
   "source": []
  },
  {
   "cell_type": "markdown",
   "metadata": {},
   "source": [
    "## Métodos\n",
    "\n",
    "Los métodos son funciones asociadas a un tipo de dato particular. Nos permiten realizar acciones a partir de esa estructura de datos. Hay métodos para strings, métodos para listas, etc. Para utilizar un método hay que colocar su nombre y paréntesis inmediatamente después del dato con el que queremos trabajar separado por un punto. \n",
    "\n",
    "Por ejemplo, las listas tienen un método llamado `append()` que permite agregar más elementos al final de la lista. Si quisieramos utilizarlo deberiamos hacerlo de la siguiente forma\n",
    "\n",
    "```python\n",
    "lista = [1,2,3,4]\n",
    "lista.append(5)\n",
    "print(lista)\n",
    "\n",
    ">>>[1,2,3,4,5]\n",
    "```\n",
    "\n",
    "Algunos de los métodos que podemos mencionar son:\n",
    "\n",
    "* Para listas:\n",
    "    * `.append()`\n",
    "    * `.insert()`\n",
    "    * `.clear()`\n",
    "    * `.copy()`\n",
    "* Para strings:\n",
    "    * `.capitalize()`\n",
    "    * `.find()`\n",
    "    * `.format()`\n",
    "    * `.split()`\n",
    "* Para diccionarios:\n",
    "    * `.items()`\n",
    "    *  `.keys()`\n",
    "    * `.values()`\n"
   ]
  },
  {
   "cell_type": "code",
   "execution_count": 26,
   "metadata": {},
   "outputs": [
    {
     "name": "stdout",
     "output_type": "stream",
     "text": [
      "[12, 32, 45, 46897, 5, 10, 'soy un apendice', 'soy un apendice', 'soy un apendice']\n"
     ]
    }
   ],
   "source": [
    "lista.append(\"soy un apendice\")\n",
    "print(lista)"
   ]
  },
  {
   "cell_type": "code",
   "execution_count": 29,
   "metadata": {},
   "outputs": [
    {
     "name": "stdout",
     "output_type": "stream",
     "text": [
      "escriba su equipo: obrien\n",
      "['cabj', 'arg', 'loget', 'obrien']\n"
     ]
    }
   ],
   "source": [
    "nombres = [\"cabj\", \"arg\", \"loget\"]\n",
    "nombre = input(\"escriba su equipo: \")\n",
    "nombres.append(nombre)\n",
    "print(nombres)"
   ]
  },
  {
   "cell_type": "code",
   "execution_count": 30,
   "metadata": {},
   "outputs": [
    {
     "name": "stdout",
     "output_type": "stream",
     "text": [
      "['cabj', 'arg', 'loget', 'obrien']\n",
      "[]\n"
     ]
    }
   ],
   "source": [
    "print(nombres)\n",
    "nombres.clear()\n",
    "print(nombres)"
   ]
  },
  {
   "cell_type": "code",
   "execution_count": 34,
   "metadata": {},
   "outputs": [
    {
     "name": "stdout",
     "output_type": "stream",
     "text": [
      "[12, 32, 45]\n",
      "[12, 32, 45]\n"
     ]
    }
   ],
   "source": [
    "print(lista)\n",
    "del lista[3:]\n",
    "print (lista)"
   ]
  },
  {
   "cell_type": "code",
   "execution_count": 35,
   "metadata": {},
   "outputs": [
    {
     "ename": "NameError",
     "evalue": "name 'lista' is not defined",
     "output_type": "error",
     "traceback": [
      "\u001b[1;31m---------------------------------------------------------------------------\u001b[0m",
      "\u001b[1;31mNameError\u001b[0m                                 Traceback (most recent call last)",
      "\u001b[1;32m<ipython-input-35-a365b7d8c882>\u001b[0m in \u001b[0;36m<module>\u001b[1;34m\u001b[0m\n\u001b[0;32m      1\u001b[0m \u001b[1;32mdel\u001b[0m \u001b[0mlista\u001b[0m\u001b[1;33m\u001b[0m\u001b[1;33m\u001b[0m\u001b[0m\n\u001b[1;32m----> 2\u001b[1;33m \u001b[0mprint\u001b[0m\u001b[1;33m(\u001b[0m\u001b[0mlista\u001b[0m\u001b[1;33m)\u001b[0m\u001b[1;33m\u001b[0m\u001b[1;33m\u001b[0m\u001b[0m\n\u001b[0m",
      "\u001b[1;31mNameError\u001b[0m: name 'lista' is not defined"
     ]
    }
   ],
   "source": [
    "del lista\n",
    "print(lista)"
   ]
  },
  {
   "cell_type": "code",
   "execution_count": 36,
   "metadata": {},
   "outputs": [],
   "source": [
    "lista = [5,4,.7,6613,\"hello\"]"
   ]
  },
  {
   "cell_type": "code",
   "execution_count": 37,
   "metadata": {},
   "outputs": [
    {
     "name": "stdout",
     "output_type": "stream",
     "text": [
      "Variable   Type     Data/Info\n",
      "-----------------------------\n",
      "i          int      199\n",
      "lista      list     n=5\n",
      "luck       float    9.5\n",
      "nombre     str      obrien\n",
      "nombres    list     n=0\n",
      "nota       int      8\n",
      "s          str      \u0000\u0001\u0002\u0003\u0004\u0005\u0006\u0007\b\t\\n\u000b",
      "\f",
      "\r",
      "\u000e\u000f\u0010\u0011\u0012\u0013\u0014\u0015\u0016\u0017<...>¯°±²³´µ¶·¸¹º»¼½¾¿ÀÁÂÃÄÅÆÇ\n"
     ]
    }
   ],
   "source": [
    "%whos"
   ]
  },
  {
   "cell_type": "code",
   "execution_count": 38,
   "metadata": {},
   "outputs": [],
   "source": [
    "del nota"
   ]
  },
  {
   "cell_type": "code",
   "execution_count": 39,
   "metadata": {},
   "outputs": [
    {
     "name": "stdout",
     "output_type": "stream",
     "text": [
      "Variable   Type     Data/Info\n",
      "-----------------------------\n",
      "i          int      199\n",
      "lista      list     n=5\n",
      "luck       float    9.5\n",
      "nombre     str      obrien\n",
      "nombres    list     n=0\n",
      "s          str      \u0000\u0001\u0002\u0003\u0004\u0005\u0006\u0007\b\t\\n\u000b",
      "\f",
      "\r",
      "\u000e\u000f\u0010\u0011\u0012\u0013\u0014\u0015\u0016\u0017<...>¯°±²³´µ¶·¸¹º»¼½¾¿ÀÁÂÃÄÅÆÇ\n"
     ]
    }
   ],
   "source": [
    "%whos"
   ]
  },
  {
   "cell_type": "code",
   "execution_count": 40,
   "metadata": {},
   "outputs": [],
   "source": [
    "tupla = (51627,45,\"subsecuente\")"
   ]
  },
  {
   "cell_type": "code",
   "execution_count": 41,
   "metadata": {},
   "outputs": [
    {
     "name": "stdout",
     "output_type": "stream",
     "text": [
      "Variable   Type     Data/Info\n",
      "-----------------------------\n",
      "i          int      199\n",
      "lista      list     n=5\n",
      "luck       float    9.5\n",
      "nombre     str      obrien\n",
      "nombres    list     n=0\n",
      "s          str      \u0000\u0001\u0002\u0003\u0004\u0005\u0006\u0007\b\t\\n\u000b",
      "\f",
      "\r",
      "\u000e\u000f\u0010\u0011\u0012\u0013\u0014\u0015\u0016\u0017<...>¯°±²³´µ¶·¸¹º»¼½¾¿ÀÁÂÃÄÅÆÇ\n",
      "tupla      tuple    n=3\n"
     ]
    }
   ],
   "source": [
    "%whos"
   ]
  },
  {
   "cell_type": "code",
   "execution_count": 42,
   "metadata": {},
   "outputs": [
    {
     "ename": "TypeError",
     "evalue": "'tuple' object doesn't support item deletion",
     "output_type": "error",
     "traceback": [
      "\u001b[1;31m---------------------------------------------------------------------------\u001b[0m",
      "\u001b[1;31mTypeError\u001b[0m                                 Traceback (most recent call last)",
      "\u001b[1;32m<ipython-input-42-6d6f355a905c>\u001b[0m in \u001b[0;36m<module>\u001b[1;34m\u001b[0m\n\u001b[1;32m----> 1\u001b[1;33m \u001b[1;32mdel\u001b[0m \u001b[0mtupla\u001b[0m \u001b[1;33m[\u001b[0m\u001b[1;36m4\u001b[0m\u001b[1;33m]\u001b[0m\u001b[1;33m\u001b[0m\u001b[1;33m\u001b[0m\u001b[0m\n\u001b[0m",
      "\u001b[1;31mTypeError\u001b[0m: 'tuple' object doesn't support item deletion"
     ]
    }
   ],
   "source": [
    "del tupla [4]"
   ]
  },
  {
   "cell_type": "code",
   "execution_count": 43,
   "metadata": {},
   "outputs": [
    {
     "data": {
      "text/plain": [
       "'UN STRING COMUN Y CORRIENTE'"
      ]
     },
     "execution_count": 43,
     "metadata": {},
     "output_type": "execute_result"
    }
   ],
   "source": [
    "\"un string comun y corriente\".upper()"
   ]
  },
  {
   "cell_type": "code",
   "execution_count": 48,
   "metadata": {},
   "outputs": [
    {
     "data": {
      "text/plain": [
       "4"
      ]
     },
     "execution_count": 48,
     "metadata": {},
     "output_type": "execute_result"
    }
   ],
   "source": [
    "\"averquepasa\".find(\"q\")"
   ]
  },
  {
   "cell_type": "code",
   "execution_count": null,
   "metadata": {},
   "outputs": [],
   "source": []
  },
  {
   "cell_type": "markdown",
   "metadata": {},
   "source": [
    "### In-place vs out-of-place\n",
    "\n",
    "Hay dos tipos de métodos: los que actúan sobre el dato y lo modifican, y los que no, llamados métodos \"in-place\" y \"out-of-place\" respectivamente. Los primeros alteran el estado del dato mientras que los segundos lo dejan intacto y retornan otro dato. Algunos métodos in-place pueden retornar otro dato además de modificar el dato sobre el que trabajan. Hay que remarcar que para los tipos de datos inmutables (como tuplas y strings) todos los métodos son out-of-place.\n"
   ]
  },
  {
   "cell_type": "code",
   "execution_count": 52,
   "metadata": {},
   "outputs": [
    {
     "data": {
      "text/plain": [
       "[6, 98, 7, 5, 123, 1, 'el apendice final']"
      ]
     },
     "execution_count": 52,
     "metadata": {},
     "output_type": "execute_result"
    }
   ],
   "source": [
    "# in place modifica el objeto\n",
    "lista = [6,98,7,5,123,1]\n",
    "lista.append(\"el apendice final\")\n",
    "lista"
   ]
  },
  {
   "cell_type": "code",
   "execution_count": 60,
   "metadata": {},
   "outputs": [
    {
     "name": "stdout",
     "output_type": "stream",
     "text": [
      "OTRO STRING\n",
      "otro string\n"
     ]
    }
   ],
   "source": [
    "ST=\"OTRO STRING\"\n",
    "print(st)\n",
    "ST = ST.lower()\n",
    "print(ST)"
   ]
  },
  {
   "cell_type": "code",
   "execution_count": 61,
   "metadata": {},
   "outputs": [
    {
     "data": {
      "text/plain": [
       "'Otro String'"
      ]
     },
     "execution_count": 61,
     "metadata": {},
     "output_type": "execute_result"
    }
   ],
   "source": [
    "ST.title()"
   ]
  },
  {
   "cell_type": "markdown",
   "metadata": {},
   "source": [
    "## Estructuras de control (de flujo de ejecucion)\n",
    "\n",
    "Vimos que cuando ejecutamos una celda con código, Python ejecuta cada una de las instrucciones desde arriba hacia abajo. Sin embargo hay formas de modificar el flujo de ejecución de un programa: a través de las estructuras de control. Ahora vamos a hablar del condicional y los bucles while y for.\n",
    "\n",
    "### Condicional\n",
    "\n",
    "El condicional es una estructura que permite controlar si se ejecuta un bloque de código según el valor de una condición. Si la condición se evalúa a `True` entonces se ejecuta el bloque de código dentro del condicional, si se evalúa a `False` se omite todo el bloque de código.\n",
    "\n",
    "El condicional se declara con la palabra reservada `if` seguida de la condición a evaluar, seguido de dos puntos `:`. Luego se colocan las instrucciones que conforman el bloque de código. Para señalar cuáles son las instrucciones que pertenecen al bloque se usa sangría (o indentación). Se puede usar tabulación o espacios, aunque la convención es utilizar cuatro espacios, que es lo que inserta Jupyter cuando apretamos `tab`.\n",
    "\n",
    "```python\n",
    "if <condición>:\n",
    "    <instrucción>\n",
    "    ...\n",
    "    <instrucción>\n",
    "```"
   ]
  },
  {
   "cell_type": "code",
   "execution_count": 68,
   "metadata": {},
   "outputs": [
    {
     "name": "stdout",
     "output_type": "stream",
     "text": [
      "ingrese su edad: 35\n",
      "usted es mayor de edad\n",
      "Esta Fuera Del Alcance De Edad\n"
     ]
    }
   ],
   "source": [
    "edad = int (input(\"ingrese su edad: \"))\n",
    "if edad >= 18:\n",
    "    print(\"usted es mayor de edad\")\n",
    "print(\"esta fuera del alcance de edad\".title())"
   ]
  },
  {
   "cell_type": "code",
   "execution_count": null,
   "metadata": {},
   "outputs": [],
   "source": []
  },
  {
   "cell_type": "code",
   "execution_count": null,
   "metadata": {},
   "outputs": [],
   "source": []
  },
  {
   "cell_type": "markdown",
   "metadata": {},
   "source": [
    "#### `else`\n",
    "\n",
    "Esta instrucción permite ejecutar un bloque de código alternativo en caso de que la condición se evalúe a `False`. La palabra reservada `else` debe colocarse inmediatamente después del primer bloque del condicional y al mismo nivel de indentación que el `if`. Luego de dos puntos puede iniciarse otro bloque de código, que también debe estar indentado.\n",
    "\n",
    "```python\n",
    "if <condición>:\n",
    "    <instrucción>\n",
    "    ...\n",
    "    <instrucción>\n",
    "else:\n",
    "    <instrucción>\n",
    "    ...\n",
    "    <instrucción>\n",
    "    ```\n",
    "Esta estructura ejecuta uno y sólo uno de los bloques según el valor de la condición, por lo que se la puede considerar una bifurcación de código."
   ]
  },
  {
   "cell_type": "code",
   "execution_count": null,
   "metadata": {},
   "outputs": [],
   "source": [
    "nota = float(input(\"Ingresar nota: \"))\n",
    "if 6<=nota<=10:\n",
    "            print (\"usted está aprobado\".upper())\n",
    "            print(\"FELICITACIONES\")\n",
    "if 0<=nota<6:\n",
    "             print (\"Usted NO está aprobado\")\n",
    "             print (\"La proxima será\")\n",
    "elif nota>10 or nota<0:\n",
    "        print(\"ERROR\")"
   ]
  },
  {
   "cell_type": "code",
   "execution_count": null,
   "metadata": {},
   "outputs": [],
   "source": []
  },
  {
   "cell_type": "markdown",
   "metadata": {},
   "source": [
    "#### `elif`\n",
    "\n",
    "El condicional `if` se puede combinar con la instrucción `elif` para evaluar otras condiciones si la primera condición se evalúa a `False`. De hecho se pueden chequear tantas condiciones como se quiera. Sin embargo, en esta combinación de `if` y `elif` cuando alguna condición resulta ser verdadera el resto de las condiciones y bloques de los siguientes `elif` son omitidos. Adicionalmente se puede cerrar la estructura con la sentencia `else`, teniendo así la garantía de que uno y sólo uno de los bloques va a ser ejecutado.\n",
    "\n",
    "\n",
    "```python\n",
    "if <condición 1>:\n",
    "    <bloque 1>\n",
    "elif <condición 2>:\n",
    "    <bloque2>```    \n",
    "    ...   \n",
    "```python\n",
    "elif <condición n>:\n",
    "    <bloque n>\n",
    "```\n",
    "\n",
    "O bien poniendo un `else` al final:\n",
    "\n",
    "```python\n",
    "if <condición 1>:\n",
    "    <bloque 1>\n",
    "elif <condición 2>:\n",
    "    <bloque2>```    \n",
    "    ...   \n",
    "```python\n",
    "elif <condición n>:\n",
    "    <bloque n>\n",
    "else:\n",
    "    <bloque final>\n",
    "```"
   ]
  },
  {
   "cell_type": "code",
   "execution_count": null,
   "metadata": {},
   "outputs": [],
   "source": [
    "num = int(input(\"ingrese su numero: \"))\n",
    "if num == 1:\n",
    "      print (\"uno\")\n",
    "elif num == 2:\n",
    "      print (\"dos\")\n",
    "elif num == 3:\n",
    "      print(\"tres\")\n",
    "else:\n",
    "    print (\"ni 1 ni 2 ni 3\")"
   ]
  },
  {
   "cell_type": "code",
   "execution_count": 5,
   "metadata": {},
   "outputs": [
    {
     "name": "stdout",
     "output_type": "stream",
     "text": [
      "ingrese su edad: 17\n",
      "voto habilitado, NO obligatorio\n"
     ]
    }
   ],
   "source": [
    "edad = int(input(\"ingrese su edad: \"))\n",
    "if edad<16:\n",
    "    print(\"usted no está habilitado para votar\")\n",
    "elif 18<=edad<=65:\n",
    "    print(\"voto habilitado y obligatorio\")\n",
    "else:\n",
    "    print(\"voto habilitado, NO obligatorio\")"
   ]
  },
  {
   "cell_type": "code",
   "execution_count": null,
   "metadata": {},
   "outputs": [],
   "source": []
  },
  {
   "cell_type": "code",
   "execution_count": null,
   "metadata": {},
   "outputs": [],
   "source": []
  },
  {
   "cell_type": "code",
   "execution_count": null,
   "metadata": {},
   "outputs": [],
   "source": []
  },
  {
   "cell_type": "markdown",
   "metadata": {},
   "source": [
    "### Bucle `while`\n",
    "\n",
    "Los bucles son estructuras de control que permiten repetir un bloque de código tantas veces como sea necesario. Con el bucle `while` es posible ejecutar un bloque de código siempre que una condición sea verdadera. Cuando la condición se evalúe a `False` se sale del bucle y se continúa con el resto del programa.\n",
    "\n",
    "```python\n",
    "while <condición>:\n",
    "    <instrucción1>\n",
    "    ...\n",
    "    <instrucción n>```\n",
    "    "
   ]
  },
  {
   "cell_type": "code",
   "execution_count": 1,
   "metadata": {},
   "outputs": [
    {
     "name": "stdout",
     "output_type": "stream",
     "text": [
      "0\n",
      "1\n",
      "2\n",
      "3\n",
      "4\n",
      "5\n",
      "6\n",
      "7\n",
      "8\n",
      "9\n"
     ]
    }
   ],
   "source": [
    "numero = 0\n",
    "while (numero<10):\n",
    "    print(numero)\n",
    "    numero = numero + 1"
   ]
  },
  {
   "cell_type": "code",
   "execution_count": 5,
   "metadata": {},
   "outputs": [
    {
     "name": "stdout",
     "output_type": "stream",
     "text": [
      "4\n",
      "1\n",
      "64\n",
      "266256\n",
      "2916\n",
      "765625\n",
      "4\n",
      "64\n",
      "1\n",
      "64\n"
     ]
    }
   ],
   "source": [
    "lista=[2,1,8,516,54,875,2,8,1,8]\n",
    "indice=0\n",
    "while indice<len(lista):\n",
    "    print(lista[indice]**2)\n",
    "    indice=indice+1"
   ]
  },
  {
   "cell_type": "code",
   "execution_count": null,
   "metadata": {},
   "outputs": [],
   "source": []
  },
  {
   "cell_type": "code",
   "execution_count": null,
   "metadata": {},
   "outputs": [],
   "source": []
  },
  {
   "cell_type": "markdown",
   "metadata": {},
   "source": [
    "### Bucle `for`\n",
    "\n",
    "El bucle `for` trabaja con iterables. Un iterable es cualquier objeto de Python que puede recorrer sus elementos uno a uno. Por ejemplo las colecciones que vimos son iterables. Así el bucle for nos permite recorrer todos los elementos de un iterable como por ejemplo una lista. Esto lo hace creando una variable que a cada repetición del bucle le asigna un nuevo elemento del iterable hasta agotar todos los elementos. Así podemos trabajar con estos elementos de una forma inmediata en el bloque de código haciendo referencia al nombre de la variable.\n",
    "\n",
    "```python\n",
    "for <variable> in <iterable>:\n",
    "    <bloque de código>\n",
    "    ```"
   ]
  },
  {
   "cell_type": "code",
   "execution_count": 6,
   "metadata": {},
   "outputs": [
    {
     "name": "stdout",
     "output_type": "stream",
     "text": [
      "2\n",
      "1\n",
      "8\n",
      "516\n",
      "54\n",
      "875\n",
      "2\n",
      "8\n",
      "1\n",
      "8\n"
     ]
    }
   ],
   "source": [
    "for elemento in lista:\n",
    "    print (elemento)"
   ]
  },
  {
   "cell_type": "code",
   "execution_count": 7,
   "metadata": {},
   "outputs": [
    {
     "name": "stdout",
     "output_type": "stream",
     "text": [
      "4\n",
      "1\n",
      "64\n",
      "266256\n",
      "2916\n",
      "765625\n",
      "4\n",
      "64\n",
      "1\n",
      "64\n"
     ]
    }
   ],
   "source": [
    "for numero in lista:\n",
    "    print(numero**2)"
   ]
  },
  {
   "cell_type": "code",
   "execution_count": 14,
   "metadata": {},
   "outputs": [
    {
     "name": "stdout",
     "output_type": "stream",
     "text": [
      "15\n",
      "6\n",
      "7\n",
      "8\n",
      "321\n",
      "scape\n"
     ]
    }
   ],
   "source": [
    "tuple = (15,6,7,8,321,\"scape\")\n",
    "for element in tuple:\n",
    "    print(element)"
   ]
  },
  {
   "cell_type": "code",
   "execution_count": 19,
   "metadata": {},
   "outputs": [
    {
     "name": "stdout",
     "output_type": "stream",
     "text": [
      "la suma de la matriz es: 38\n",
      "la suma de la matriz es: 149\n"
     ]
    }
   ],
   "source": [
    "matriz = [[1,5,32],[5,8,98]]\n",
    "suma = 0\n",
    "for i in matriz:\n",
    "    for numero in i:\n",
    "        suma = suma + numero\n",
    "    print(\"la suma de la matriz es:\", suma)"
   ]
  },
  {
   "cell_type": "code",
   "execution_count": 24,
   "metadata": {},
   "outputs": [
    {
     "name": "stdout",
     "output_type": "stream",
     "text": [
      "clave1\n",
      "clave2\n",
      "clave3\n"
     ]
    }
   ],
   "source": [
    "dicc = {\"clave1\":\"valor1\",\"clave2\":\"valor2\",\"clave3\":\"valor3\"}\n",
    "for i in dicc:\n",
    "    print(i)"
   ]
  },
  {
   "cell_type": "code",
   "execution_count": 27,
   "metadata": {},
   "outputs": [
    {
     "name": "stdout",
     "output_type": "stream",
     "text": [
      "clave: edad - valor: 23\n",
      "clave: club - valor: boca\n",
      "clave: nombre - valor: Pupi\n"
     ]
    }
   ],
   "source": [
    "dicc = {\"edad\":23,\"club\":\"boca\" ,\"nombre\":\"Pupi\"}\n",
    "for i in dicc:\n",
    "    print(\"clave:\",i,\"- valor:\",dicc[i])"
   ]
  },
  {
   "cell_type": "code",
   "execution_count": 28,
   "metadata": {},
   "outputs": [
    {
     "name": "stdout",
     "output_type": "stream",
     "text": [
      "321\n",
      "1\n",
      "strin\n",
      "5\n",
      "veoveo\n",
      "987\n"
     ]
    }
   ],
   "source": [
    "conjunto = {1,5,987,321,\"strin\",\"veoveo\"}\n",
    "for i in conjunto:\n",
    "    print (i)"
   ]
  },
  {
   "cell_type": "code",
   "execution_count": null,
   "metadata": {},
   "outputs": [],
   "source": []
  },
  {
   "cell_type": "markdown",
   "metadata": {},
   "source": [
    "### Sentencias `break` y `continue`\n",
    "\n",
    "Estas sentencias permiten alterar la forma en la que se ejecuta el bucle. La sentencia `break` permite terminar la ejecución del bucle, salir de él y continuar con el resto del programa. La sentencia `continue`permite interrumpir la ejecución del bloque de código y pasar a la siguiente iteración del bucle."
   ]
  },
  {
   "cell_type": "code",
   "execution_count": 30,
   "metadata": {},
   "outputs": [
    {
     "name": "stdout",
     "output_type": "stream",
     "text": [
      "ingrese algo: el chiste\n",
      "ingrese algo: comer\n",
      "ingrese algo: la \n",
      "ingrese algo: cosquin\n",
      "ingrese algo: salir\n"
     ]
    }
   ],
   "source": [
    "while True:\n",
    "    ingreso = input(\"ingrese algo: \")\n",
    "    if ingreso == \"salir\":\n",
    "        break"
   ]
  },
  {
   "cell_type": "code",
   "execution_count": 35,
   "metadata": {},
   "outputs": [
    {
     "name": "stdout",
     "output_type": "stream",
     "text": [
      "1234"
     ]
    }
   ],
   "source": [
    "i=0\n",
    "while i < 10:\n",
    "    i=i+1\n",
    "    print(i, end=\"\")\n",
    "    if i==4:\n",
    "        break"
   ]
  },
  {
   "cell_type": "code",
   "execution_count": 42,
   "metadata": {},
   "outputs": [
    {
     "data": {
      "text/plain": [
       "4"
      ]
     },
     "execution_count": 42,
     "metadata": {},
     "output_type": "execute_result"
    }
   ],
   "source": [
    "str = [\"cancion de varios minutos\",5]\n",
    "int(len(str[0:])) + 2"
   ]
  },
  {
   "cell_type": "code",
   "execution_count": 46,
   "metadata": {},
   "outputs": [
    {
     "data": {
      "text/plain": [
       "True"
      ]
     },
     "execution_count": 46,
     "metadata": {},
     "output_type": "execute_result"
    }
   ],
   "source": [
    "True == 1"
   ]
  },
  {
   "cell_type": "code",
   "execution_count": null,
   "metadata": {},
   "outputs": [],
   "source": []
  },
  {
   "cell_type": "code",
   "execution_count": null,
   "metadata": {},
   "outputs": [],
   "source": []
  },
  {
   "cell_type": "markdown",
   "metadata": {},
   "source": [
    "### Función `range()`\n",
    "\n",
    "Es una función incorporada que se suele usar mucho junto al bucle `for`. Esta función permite crear secuencias de números enteros. Se la puede llamar con uno, dos o tres argumentos. Llamada con un argumento `n` genera una secuencia desde cero hasta `n-1` con incrementos de a uno. Llamada con dos argumentos `n1` y `n2`, una secuencia desde `n1` hasta `n2-1` con el mismo incremento. Y si se utiliza un tercer argumento, éste representa el incremento entre cada número de la secuencia. "
   ]
  },
  {
   "cell_type": "code",
   "execution_count": null,
   "metadata": {},
   "outputs": [],
   "source": []
  },
  {
   "cell_type": "markdown",
   "metadata": {},
   "source": [
    "Podemos usar esta función en combinación con el bucle `for` para repetir cierto código una determinada cantidad de veces.\n",
    "\n",
    "```python\n",
    "for i in range(4):\n",
    "    print(\"Python\")\n",
    "\n",
    ">>>Python\n",
    ">>>Python\n",
    ">>>Python\n",
    ">>>Python```"
   ]
  },
  {
   "cell_type": "code",
   "execution_count": 47,
   "metadata": {},
   "outputs": [
    {
     "name": "stdout",
     "output_type": "stream",
     "text": [
      "0\n",
      "1\n",
      "2\n",
      "3\n",
      "4\n",
      "5\n",
      "6\n",
      "7\n",
      "8\n",
      "9\n"
     ]
    }
   ],
   "source": [
    "for i in range (10):\n",
    "    print (i)"
   ]
  },
  {
   "cell_type": "code",
   "execution_count": 53,
   "metadata": {},
   "outputs": [
    {
     "name": "stdout",
     "output_type": "stream",
     "text": [
      "3\n",
      "10\n",
      "17\n",
      "24\n",
      "31\n",
      "38\n"
     ]
    }
   ],
   "source": [
    "for i in range (3,45,7):\n",
    "    print (i)"
   ]
  },
  {
   "cell_type": "code",
   "execution_count": 54,
   "metadata": {},
   "outputs": [
    {
     "name": "stdout",
     "output_type": "stream",
     "text": [
      "ocho veces este string\n",
      "ocho veces este string\n",
      "ocho veces este string\n",
      "ocho veces este string\n",
      "ocho veces este string\n",
      "ocho veces este string\n",
      "ocho veces este string\n",
      "ocho veces este string\n"
     ]
    }
   ],
   "source": [
    "for i in range (8):\n",
    "    print (\"ocho veces este string\")"
   ]
  },
  {
   "cell_type": "code",
   "execution_count": null,
   "metadata": {},
   "outputs": [],
   "source": []
  },
  {
   "cell_type": "code",
   "execution_count": null,
   "metadata": {},
   "outputs": [],
   "source": []
  }
 ],
 "metadata": {
  "kernelspec": {
   "display_name": "Python 3",
   "language": "python",
   "name": "python3"
  },
  "language_info": {
   "codemirror_mode": {
    "name": "ipython",
    "version": 3
   },
   "file_extension": ".py",
   "mimetype": "text/x-python",
   "name": "python",
   "nbconvert_exporter": "python",
   "pygments_lexer": "ipython3",
   "version": "3.7.6"
  }
 },
 "nbformat": 4,
 "nbformat_minor": 2
}
