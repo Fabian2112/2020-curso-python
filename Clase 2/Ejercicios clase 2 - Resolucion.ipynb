{
 "cells": [
  {
   "cell_type": "markdown",
   "metadata": {},
   "source": [
    "#  Ejercicios  Clase 2"
   ]
  },
  {
   "cell_type": "markdown",
   "metadata": {},
   "source": [
    "#### Crear una lista y pedirle al usuario que agregue un elemento nuevo a la lista"
   ]
  },
  {
   "cell_type": "code",
   "execution_count": 1,
   "metadata": {},
   "outputs": [
    {
     "name": "stdout",
     "output_type": "stream",
     "text": [
      "Ingrese un elemento: jhtjh\n",
      "['jhtjh']\n"
     ]
    }
   ],
   "source": [
    "lista = []\n",
    "elemento = input(\"Ingrese un elemento: \")\n",
    "lista.append(elemento)\n",
    "print(lista)"
   ]
  },
  {
   "cell_type": "markdown",
   "metadata": {},
   "source": [
    "#### Crear una lista con seis elemetos, imprimirla en pantalla y pedirle al usuario que ingrese un elemento y en qué posición desea insertarlo. Luego imprimir la lista.\n"
   ]
  },
  {
   "cell_type": "code",
   "execution_count": 2,
   "metadata": {},
   "outputs": [
    {
     "name": "stdout",
     "output_type": "stream",
     "text": [
      "Lista: ['Una', 'lista', 'con', '6', 'elementos', 'distintos']\n",
      "Ingrese la palabra que desea añadir a la lista: kjghjk\n",
      "En que posición desea que esté la palabra?: 2\n",
      "Lista: ['Una', 'lista', 'kjghjk', 'con', '6', 'elementos', 'distintos']\n"
     ]
    }
   ],
   "source": [
    "lista = ['Una', 'lista', 'con', '6', 'elementos', 'distintos']\n",
    "print(\"Lista:\", lista)\n",
    "elemento = input(\"Ingrese la palabra que desea añadir a la lista: \")\n",
    "indice = int(input(\"En que posición desea que esté la palabra?: \"))\n",
    "lista.insert(indice, elemento)\n",
    "print(\"Lista:\", lista)"
   ]
  },
  {
   "cell_type": "markdown",
   "metadata": {},
   "source": [
    "#### Crear una lista y pedirle al usuario que agregue dos elementos. Luego mostrar la lista y pedirle al usuario que ingrese el índice de un elemento para ser borrado. Borrar el elemento y mostrar nuevamente la lista."
   ]
  },
  {
   "cell_type": "code",
   "execution_count": 3,
   "metadata": {},
   "outputs": [
    {
     "name": "stdout",
     "output_type": "stream",
     "text": [
      "Ingrese una palabra para añadir a la lista: ;lkj\n",
      "Ingrese otra palabra para añadir a la lista: vtiyu\n",
      "Lista: ['Una', 'lista', 'con', '6', 'elementos', 'distintos', ';lkj', 'vtiyu']\n",
      "Ahora ingrese el índice del elemento a borrar: 3\n",
      "Lista: ['Una', 'lista', 'con', 'elementos', 'distintos', ';lkj', 'vtiyu']\n"
     ]
    }
   ],
   "source": [
    "lista = ['Una', 'lista', 'con', '6', 'elementos', 'distintos']\n",
    "\n",
    "elemento = input(\"Ingrese una palabra para añadir a la lista: \")\n",
    "lista.append(elemento)\n",
    "\n",
    "#en una linea\n",
    "lista.append(input(\"Ingrese otra palabra para añadir a la lista: \"))\n",
    "\n",
    "print(\"Lista:\", lista)\n",
    "\n",
    "indice = int(input(\"Ahora ingrese el índice del elemento a borrar: \"))\n",
    "\n",
    "del lista[indice]\n",
    "\n",
    "print(\"Lista:\", lista)"
   ]
  },
  {
   "cell_type": "markdown",
   "metadata": {},
   "source": [
    "#### Crear una lista y pedirle al usuario que agregue dos elementos. Luego mostrar la lista y la cantidad de elementos que tiene. Pedirle al usuario que ingrese el índice de un elemento para ser borrado. Chequear si el número ingresado está dentro del rango válido de índices. Si es correcto borrar el elemento y mostrar nuevamente la lista y la cantidad de elementos. Si es incorrecto mostrar un mensaje de error."
   ]
  },
  {
   "cell_type": "code",
   "execution_count": 5,
   "metadata": {},
   "outputs": [
    {
     "name": "stdout",
     "output_type": "stream",
     "text": [
      "Ingrese una palabra para añadir a la lista: uihli\n",
      "Ingrese otra palabra para añadir a la lista: libli\n",
      "Lista: ['Una', 'lista', 'con', '6', 'elementos', 'distintos', 'uihli', 'libli']\n",
      "Cantidad de elementos: 8\n",
      "Ahora ingrese el índice del elemento a borrar: 9\n",
      "El número de índice tiene que estar en el rango 0 - 7\n"
     ]
    }
   ],
   "source": [
    "lista = ['Una', 'lista', 'con', '6', 'elementos', 'distintos']\n",
    "\n",
    "elemento = input(\"Ingrese una palabra para añadir a la lista: \")\n",
    "lista.append(elemento)\n",
    "\n",
    "#en una linea\n",
    "lista.append(input(\"Ingrese otra palabra para añadir a la lista: \"))\n",
    "\n",
    "print(\"Lista:\", lista)\n",
    "print(\"Cantidad de elementos:\", len(lista))\n",
    "\n",
    "indice = int(input(\"Ahora ingrese el índice del elemento a borrar: \"))\n",
    "\n",
    "if 0<= indice < len(lista):  # se podría considerar índices negativos también\n",
    "    del lista[indice]\n",
    "    print(\"Lista:\", lista)\n",
    "    print(\"Cantidad de elementos:\", len(lista))\n",
    "else:\n",
    "    print(\"El número de índice tiene que estar en el rango\", 0, \"-\", len(lista)-1)\n",
    "    "
   ]
  },
  {
   "cell_type": "markdown",
   "metadata": {},
   "source": [
    "#### Crear una matriz 3x4 como lista de listas e imprimir el primer elemento de la primer fila, el último de la segunda fila y el segundo de la tercer fila."
   ]
  },
  {
   "cell_type": "code",
   "execution_count": 6,
   "metadata": {},
   "outputs": [
    {
     "name": "stdout",
     "output_type": "stream",
     "text": [
      "5\n",
      "4\n",
      "6\n"
     ]
    }
   ],
   "source": [
    "matriz = [[5,8,6,2],[8,9,1,4],[3,6,2,4]]\n",
    "print(matriz[0][0])\n",
    "print(matriz[1][-1])\n",
    "print(matriz[2][1])"
   ]
  },
  {
   "cell_type": "markdown",
   "metadata": {},
   "source": [
    "#### Dada una lista de números, encontrar el promedio de sus elementos"
   ]
  },
  {
   "cell_type": "code",
   "execution_count": 7,
   "metadata": {},
   "outputs": [
    {
     "name": "stdout",
     "output_type": "stream",
     "text": [
      "4.909090909090909\n"
     ]
    }
   ],
   "source": [
    "numeros = [6,8,4,3,1,6,9,8,4,2,3]\n",
    "suma = 0\n",
    "for num in numeros:\n",
    "    suma = suma + num\n",
    "promedio = suma/len(numeros)\n",
    "print(promedio)\n"
   ]
  },
  {
   "cell_type": "markdown",
   "metadata": {},
   "source": [
    "#### Dada una lista de números, encontrar el promedio del cuadrado de sus elementos"
   ]
  },
  {
   "cell_type": "code",
   "execution_count": 8,
   "metadata": {},
   "outputs": [
    {
     "name": "stdout",
     "output_type": "stream",
     "text": [
      "30.545454545454547\n"
     ]
    }
   ],
   "source": [
    "numeros = [6,8,4,3,1,6,9,8,4,2,3]\n",
    "suma = 0\n",
    "for num in numeros:\n",
    "    suma = suma + num**2\n",
    "promedio = suma/len(numeros)\n",
    "print(promedio)\n"
   ]
  },
  {
   "cell_type": "markdown",
   "metadata": {},
   "source": [
    "#### Pedir al usuario que ingrese dos números y que muestre cual es el mayor o si son iguales."
   ]
  },
  {
   "cell_type": "code",
   "execution_count": 9,
   "metadata": {},
   "outputs": [
    {
     "name": "stdout",
     "output_type": "stream",
     "text": [
      "ingrese un número: 6\n",
      "ingrese otro número: 4\n",
      "el mayor es: 6.0\n"
     ]
    }
   ],
   "source": [
    "num1 = float(input(\"ingrese un número: \"))\n",
    "num2 = float(input(\"ingrese otro número: \"))\n",
    "\n",
    "if num1 > num2:\n",
    "    print(\"el mayor es:\", num1)\n",
    "elif num2 > num1:\n",
    "    print(\"el mayor es:\", num2)\n",
    "else:\n",
    "    print(\"los números son iguales\")"
   ]
  },
  {
   "cell_type": "markdown",
   "metadata": {},
   "source": [
    "#### Lo mismo pero con tres números"
   ]
  },
  {
   "cell_type": "code",
   "execution_count": 10,
   "metadata": {},
   "outputs": [
    {
     "name": "stdout",
     "output_type": "stream",
     "text": [
      "ingrese un número: 2\n",
      "ingrese otro número: 5\n",
      "ingrese otro número: 4\n",
      "el mayor es: 5.0\n"
     ]
    }
   ],
   "source": [
    "num1 = float(input(\"ingrese un número: \"))\n",
    "num2 = float(input(\"ingrese otro número: \"))\n",
    "num3 = float(input(\"ingrese otro número: \"))\n",
    "\n",
    "\n",
    "if num1 == num2 == num3:\n",
    "    print(\"los números son iguales\")\n",
    "elif num1 >= num2 and num1 >= num3:\n",
    "    print(\"el mayor es:\", num1)\n",
    "elif num1 <= num2 >= num3:        #equivalente a (num1 <= num2) and (num2 >= num3)\n",
    "    print(\"el mayor es:\", num2)\n",
    "elif num1 <= num3 >= num2:        #\n",
    "    print(\"el mayor es:\", num3)"
   ]
  },
  {
   "cell_type": "markdown",
   "metadata": {},
   "source": [
    "#### Pedir al usuario que ingrese dos números para evaluar su división. Si el denominador es cero imprimir un mensaje de error. En otro caso mostrar la división."
   ]
  },
  {
   "cell_type": "code",
   "execution_count": 11,
   "metadata": {},
   "outputs": [
    {
     "name": "stdout",
     "output_type": "stream",
     "text": [
      "numerador: 5\n",
      "denominador: 0\n",
      "No se puede dividor por cero\n"
     ]
    }
   ],
   "source": [
    "numerador = float(input(\"numerador: \"))\n",
    "denominador = float(input(\"denominador: \"))\n",
    "\n",
    "if denominador == 0:\n",
    "    print(\"No se puede dividor por cero\")\n",
    "else:\n",
    "    print(numerador/denominador)"
   ]
  },
  {
   "cell_type": "markdown",
   "metadata": {},
   "source": [
    "#### Pedir al usuario su edad y mostrarle un mensaje diciendo si está habilitado para votar y si su voto es obligatorio o no. Consideremos que los mayores de 16 pueden votar y es obligatorio en el rango de 18 a 65 años."
   ]
  },
  {
   "cell_type": "code",
   "execution_count": 12,
   "metadata": {},
   "outputs": [
    {
     "name": "stdout",
     "output_type": "stream",
     "text": [
      "ingrese su edad: 16\n",
      "Estás habilitado para votar y tu voto no es obligatorio\n"
     ]
    }
   ],
   "source": [
    "edad = float(input(\"ingrese su edad: \"))\n",
    "\n",
    "if edad < 16:\n",
    "    print(\"No estás habilitado para votar\")\n",
    "elif 18<= edad <= 65:\n",
    "    print(\"Estás habilitado para votar y tu voto es obligatorio\")\n",
    "else:\n",
    "    print(\"Estás habilitado para votar y tu voto no es obligatorio\")"
   ]
  },
  {
   "cell_type": "markdown",
   "metadata": {},
   "source": [
    "#### Pedir al usuario su nombre e imprimirlo 10 veces en pantalla usando primero el bucle while y después el bucle for."
   ]
  },
  {
   "cell_type": "code",
   "execution_count": 14,
   "metadata": {},
   "outputs": [
    {
     "name": "stdout",
     "output_type": "stream",
     "text": [
      "ingrese su nombre: utfkuh\n",
      "utfkuh\n",
      "utfkuh\n",
      "utfkuh\n",
      "utfkuh\n",
      "utfkuh\n",
      "utfkuh\n",
      "utfkuh\n",
      "utfkuh\n",
      "utfkuh\n",
      "utfkuh\n",
      "**************\n",
      "utfkuh\n",
      "utfkuh\n",
      "utfkuh\n",
      "utfkuh\n",
      "utfkuh\n",
      "utfkuh\n",
      "utfkuh\n",
      "utfkuh\n",
      "utfkuh\n",
      "utfkuh\n"
     ]
    }
   ],
   "source": [
    "nombre = input(\"ingrese su nombre: \")\n",
    "\n",
    "i=0\n",
    "while i<10:\n",
    "    print(nombre)\n",
    "    i = i + 1\n",
    "print(\"**************\")\n",
    "for i in range(10):\n",
    "    print(nombre)"
   ]
  },
  {
   "cell_type": "markdown",
   "metadata": {},
   "source": [
    "#### Pedir al usuario un entero del 1 al 9 e imprimir la tabla de multiplicar de ese número con el siguiente formato\n",
    "\n",
    "\tIngrese un número entero del 1 al 9: 6\n",
    "\t6 x 1 = 6\n",
    "\t6 x 2 = 12\n",
    "\t...\n",
    "\t6 x 10 = 60"
   ]
  },
  {
   "cell_type": "code",
   "execution_count": 15,
   "metadata": {},
   "outputs": [
    {
     "name": "stdout",
     "output_type": "stream",
     "text": [
      "Ingrese un entero entre 1 y 9: 4\n",
      "4 x 1 = 4\n",
      "4 x 2 = 8\n",
      "4 x 3 = 12\n",
      "4 x 4 = 16\n",
      "4 x 5 = 20\n",
      "4 x 6 = 24\n",
      "4 x 7 = 28\n",
      "4 x 8 = 32\n",
      "4 x 9 = 36\n",
      "4 x 10 = 40\n"
     ]
    }
   ],
   "source": [
    "num = int(input(\"Ingrese un entero entre 1 y 9: \"))\n",
    "\n",
    "for i in range(1,11):\n",
    "    print(num, \"x\", i, \"=\", num*i)"
   ]
  },
  {
   "cell_type": "markdown",
   "metadata": {},
   "source": [
    "#### Hacer un programa que repita todo lo que el usuario ingrese hasta que ingrese el texto \"salir\".\n"
   ]
  },
  {
   "cell_type": "code",
   "execution_count": 16,
   "metadata": {},
   "outputs": [
    {
     "name": "stdout",
     "output_type": "stream",
     "text": [
      "sads\n",
      "sads\n",
      "adfb\n",
      "adfb\n",
      "drjdtyjtyj\n",
      "drjdtyjtyj\n",
      "\n",
      "\n",
      "eg\n",
      "eg\n",
      "salir\n"
     ]
    }
   ],
   "source": [
    "ingreso = input()\n",
    "while ingreso != \"salir\":\n",
    "    print(ingreso)\n",
    "    ingreso=input()"
   ]
  },
  {
   "cell_type": "markdown",
   "metadata": {},
   "source": [
    "#### Dada una lista usar un bucle para generar otra lista con los mismos elementos pero en orden inverso."
   ]
  },
  {
   "cell_type": "code",
   "execution_count": 17,
   "metadata": {},
   "outputs": [
    {
     "name": "stdout",
     "output_type": "stream",
     "text": [
      "[9, 8, 7, 6, 5, 4, 3, 2, 1]\n"
     ]
    }
   ],
   "source": [
    "lista = [1,2,3,4,5,6,7,8,9]\n",
    "\n",
    "reves = []\n",
    "for num in lista:\n",
    "    reves.insert(0,num)\n",
    "\n",
    "print(reves)\n",
    "\n",
    "# esto mismo se puede hacer con slices de forma más facil\n",
    "# print(lista[::-1])"
   ]
  },
  {
   "cell_type": "markdown",
   "metadata": {},
   "source": [
    "#### Dada una palabra imprimir lo que se obtiene al poner sus letras al revés."
   ]
  },
  {
   "cell_type": "code",
   "execution_count": 20,
   "metadata": {},
   "outputs": [
    {
     "name": "stdout",
     "output_type": "stream",
     "text": [
      "arbalap\n"
     ]
    }
   ],
   "source": [
    "palabra = \"palabra\"\n",
    "\n",
    "print(palabra[::-1])\n",
    "\n",
    "#Si quisiera hacerlo con bucles\n",
    "#reves = ''\n",
    "#for letra in palabra:\n",
    "#    reves = letra + reves   #concateno adelante\n",
    "#print(reves)\n"
   ]
  },
  {
   "cell_type": "markdown",
   "metadata": {},
   "source": [
    "#### Dada una palabra ingresada por el usuario, imprimir varias líneas haciendo que cada línea tenga un caracter más que el anterior hasta completar la palabra.  \n",
    "Ejemplo:  \n",
    "```\t\n",
    "Palabra: perro\n",
    "\tp\n",
    "\tpe\n",
    "\tper\n",
    "\tperr\n",
    "\tperro\n",
    "``` "
   ]
  },
  {
   "cell_type": "code",
   "execution_count": 21,
   "metadata": {},
   "outputs": [
    {
     "name": "stdout",
     "output_type": "stream",
     "text": [
      "Ingrese una palabra: poiugfdessd\n",
      "p\n",
      "po\n",
      "poi\n",
      "poiu\n",
      "poiug\n",
      "poiugf\n",
      "poiugfd\n",
      "poiugfde\n",
      "poiugfdes\n",
      "poiugfdess\n",
      "poiugfdessd\n"
     ]
    }
   ],
   "source": [
    "palabra = input(\"Ingrese una palabra: \")\n",
    "\n",
    "for i in range(1,len(palabra)+1):\n",
    "    print(palabra[:i])"
   ]
  },
  {
   "cell_type": "markdown",
   "metadata": {},
   "source": [
    "#### Dado un número entero positivo ingresado por el ususario, calcular el factorial de ese número"
   ]
  },
  {
   "cell_type": "code",
   "execution_count": 22,
   "metadata": {},
   "outputs": [
    {
     "name": "stdout",
     "output_type": "stream",
     "text": [
      "ingrese un entero positivo: 9\n",
      "362880\n"
     ]
    }
   ],
   "source": [
    "n = int(input(\"ingrese un entero positivo: \"))\n",
    "factorial=1\n",
    "for i in range(1,n+1):\n",
    "    factorial = factorial*i\n",
    "print(factorial)"
   ]
  },
  {
   "cell_type": "markdown",
   "metadata": {},
   "source": [
    "#### Generar una matriz de 2x3 como lista de listas y trasponerla.  \n",
    "Ej:  \n",
    "```\n",
    "    input: [[1,2,3], [4,5,6]]\n",
    "    output: [[1,4], [2,5], [3,6]]\n",
    "    ```"
   ]
  },
  {
   "cell_type": "code",
   "execution_count": 24,
   "metadata": {},
   "outputs": [
    {
     "name": "stdout",
     "output_type": "stream",
     "text": [
      "[[1, 4], [2, 5], [3, 6]]\n"
     ]
    }
   ],
   "source": [
    "matriz =[[1,2,3], [4,5,6]]\n",
    "\n",
    "traspuesta = []\n",
    "\n",
    "for columna in range(len(matriz[0])):\n",
    "    nueva_fila = []\n",
    "    for fila in matriz:\n",
    "        nueva_fila.append(fila[columna])\n",
    "    traspuesta.append(nueva_fila)\n",
    "    \n",
    "print(traspuesta)"
   ]
  },
  {
   "cell_type": "markdown",
   "metadata": {},
   "source": [
    "#### Hacer un diccionario vacío que va a contener los nombres de los alumnos y sus respectivas notas. Mostrarle al usuario las opciones  \n",
    "    1. Ingresar un registro\n",
    "    2. Mostrar los registros guardados\n",
    "    3. Salir\n",
    "\n",
    "#### Mediante un bucle permitirle al usuario hacer tantas operaciones como quiera hasta ingresar \"3\" y con un condicional dentro de ese bucle realizar las operaciones de las opciones"
   ]
  },
  {
   "cell_type": "code",
   "execution_count": null,
   "metadata": {},
   "outputs": [
    {
     "name": "stdout",
     "output_type": "stream",
     "text": [
      "1. Ingresar un registro\n",
      "2. Mostrar los registros guardados\n",
      "3. Salir1\n",
      "Ingrese el nombre: 2\n",
      "Ingrese la notasofia\n"
     ]
    }
   ],
   "source": [
    "notas = {}\n",
    "\n",
    "while True:\n",
    "    opcion = input(\"\"\"1. Ingresar un registro\n",
    "2. Mostrar los registros guardados\n",
    "3. Salir\"\"\")\n",
    "    \n",
    "    if opcion == \"1\":\n",
    "        nombre = input(\"Ingrese el nombre: \")\n",
    "        nota = input(\"Ingrese la nota\")\n",
    "        notas[nombre] = nota\n",
    "    elif opcion == \"2\":\n",
    "        for nombre in notas:\n",
    "            print(\"Alumno:\", nombre, \"- Nota:\", notas[alumno])\n",
    "    elif opcion == \"3\":\n",
    "        break\n",
    "    else:\n",
    "        print(opcion, \"no es una opcion válida\")"
   ]
  },
  {
   "cell_type": "code",
   "execution_count": null,
   "metadata": {},
   "outputs": [],
   "source": []
  }
 ],
 "metadata": {
  "kernelspec": {
   "display_name": "Python 3",
   "language": "python",
   "name": "python3"
  },
  "language_info": {
   "codemirror_mode": {
    "name": "ipython",
    "version": 3
   },
   "file_extension": ".py",
   "mimetype": "text/x-python",
   "name": "python",
   "nbconvert_exporter": "python",
   "pygments_lexer": "ipython3",
   "version": "3.7.6"
  }
 },
 "nbformat": 4,
 "nbformat_minor": 2
}
