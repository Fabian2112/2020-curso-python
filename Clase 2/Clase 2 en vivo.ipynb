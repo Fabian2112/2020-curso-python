{
 "cells": [
  {
   "cell_type": "markdown",
   "metadata": {},
   "source": [
    "# Clase 2 - Introducción a la programación en Python\n",
    "\n",
    "*Por Ariel Thenon*"
   ]
  },
  {
   "cell_type": "markdown",
   "metadata": {},
   "source": [
    "## Built-in Functions\n",
    "\n",
    "Ya hemos utilizado algunas funciones como `print()`, `float()`, `type()` o `input()`. Python viene con una serie de funciones listas para utilizar, las built-in functions o funciones integradas. La lista completa de estas funciones de la versión 3.7 se puede consultar aquí: [Built-in functions doumentation](https://docs.python.org/3.7/library/functions.html). Vamos a ver algunas de esas funciones.\n",
    "\n",
    "\n",
    "A continuación algunas funciones útiles para usar con colecciones\n",
    "\n",
    "- **`len()`**\n",
    "\n",
    ">Es una función que retorna la cantidad de elementos de una colección, como las que acabamos de ver.\n",
    "\n",
    "- **`sum()`**\n",
    "\n",
    ">Devuelve la suma de todos los elementos de un iterable compuesto por números. Se puede especificar el valor inicial de la suma, que por defecto es cero\n",
    "\n",
    "- **`sorted()`**\n",
    "\n",
    ">Permite ordenar los elementos de un iterable\n",
    "\n",
    "- **`min()`, `max()`**\n",
    "\n",
    ">Retornan el mínimo y el máximo de un iterable."
   ]
  },
  {
   "cell_type": "code",
   "execution_count": 1,
   "metadata": {},
   "outputs": [],
   "source": [
    "lista = [3,2,5,9,7,5,6,58,4,3]"
   ]
  },
  {
   "cell_type": "code",
   "execution_count": 2,
   "metadata": {},
   "outputs": [
    {
     "data": {
      "text/plain": [
       "10"
      ]
     },
     "execution_count": 2,
     "metadata": {},
     "output_type": "execute_result"
    }
   ],
   "source": [
    "len(lista)"
   ]
  },
  {
   "cell_type": "code",
   "execution_count": 3,
   "metadata": {},
   "outputs": [
    {
     "data": {
      "text/plain": [
       "102"
      ]
     },
     "execution_count": 3,
     "metadata": {},
     "output_type": "execute_result"
    }
   ],
   "source": [
    "sum(lista)"
   ]
  },
  {
   "cell_type": "code",
   "execution_count": 7,
   "metadata": {},
   "outputs": [
    {
     "data": {
      "text/plain": [
       "102"
      ]
     },
     "execution_count": 7,
     "metadata": {},
     "output_type": "execute_result"
    }
   ],
   "source": [
    "sum(lista)"
   ]
  },
  {
   "cell_type": "code",
   "execution_count": 8,
   "metadata": {},
   "outputs": [
    {
     "data": {
      "text/plain": [
       "2615.2365"
      ]
     },
     "execution_count": 8,
     "metadata": {},
     "output_type": "execute_result"
    }
   ],
   "source": [
    "sum(lista[4:], 2532.2365)"
   ]
  },
  {
   "cell_type": "code",
   "execution_count": 20,
   "metadata": {},
   "outputs": [
    {
     "name": "stdout",
     "output_type": "stream",
     "text": [
      "Hola -/- 356 -/- [3, 2, 5, 9, 7, 5, 6, 58, 4, 3]-esto termina aca-python\n"
     ]
    }
   ],
   "source": [
    "print(\"Hola\", 356, lista, sep=\" -/- \", end=\"-esto termina aca-\")\n",
    "print(\"python\")"
   ]
  },
  {
   "cell_type": "code",
   "execution_count": 17,
   "metadata": {},
   "outputs": [
    {
     "name": "stdout",
     "output_type": "stream",
     "text": [
      "Linea 1\n",
      "Linea 1\n",
      "\tLinea 3\n"
     ]
    }
   ],
   "source": [
    "print(\"Linea 1\\nLinea 1\\n\\tLinea 3\")"
   ]
  },
  {
   "cell_type": "code",
   "execution_count": 22,
   "metadata": {},
   "outputs": [
    {
     "data": {
      "text/plain": [
       "[58, 9, 7, 6, 5, 5, 4, 3, 3, 2]"
      ]
     },
     "execution_count": 22,
     "metadata": {},
     "output_type": "execute_result"
    }
   ],
   "source": [
    "sorted(lista, reverse=True)"
   ]
  },
  {
   "cell_type": "code",
   "execution_count": 23,
   "metadata": {},
   "outputs": [
    {
     "data": {
      "text/plain": [
       "2"
      ]
     },
     "execution_count": 23,
     "metadata": {},
     "output_type": "execute_result"
    }
   ],
   "source": [
    "min(lista)"
   ]
  },
  {
   "cell_type": "code",
   "execution_count": 24,
   "metadata": {},
   "outputs": [
    {
     "data": {
      "text/plain": [
       "58"
      ]
     },
     "execution_count": 24,
     "metadata": {},
     "output_type": "execute_result"
    }
   ],
   "source": [
    "max(lista)"
   ]
  },
  {
   "cell_type": "code",
   "execution_count": 25,
   "metadata": {},
   "outputs": [],
   "source": [
    "lista2 = [3,6,54,5,2,2, \"asfg\", \"htrht\"]"
   ]
  },
  {
   "cell_type": "code",
   "execution_count": 26,
   "metadata": {},
   "outputs": [
    {
     "ename": "TypeError",
     "evalue": "'<' not supported between instances of 'str' and 'int'",
     "output_type": "error",
     "traceback": [
      "\u001b[0;31m---------------------------------------------------------------------------\u001b[0m",
      "\u001b[0;31mTypeError\u001b[0m                                 Traceback (most recent call last)",
      "\u001b[0;32m<ipython-input-26-a16b4f46bcd3>\u001b[0m in \u001b[0;36m<module>\u001b[0;34m\u001b[0m\n\u001b[0;32m----> 1\u001b[0;31m \u001b[0msorted\u001b[0m\u001b[0;34m(\u001b[0m\u001b[0mlista2\u001b[0m\u001b[0;34m)\u001b[0m\u001b[0;34m\u001b[0m\u001b[0;34m\u001b[0m\u001b[0m\n\u001b[0m",
      "\u001b[0;31mTypeError\u001b[0m: '<' not supported between instances of 'str' and 'int'"
     ]
    }
   ],
   "source": [
    "sorted(lista2)"
   ]
  },
  {
   "cell_type": "code",
   "execution_count": 27,
   "metadata": {},
   "outputs": [],
   "source": [
    "lista3 = [\"sdhsg\", \"sehsrth\", \"knfnk\", \"vvrvver\"]"
   ]
  },
  {
   "cell_type": "code",
   "execution_count": 28,
   "metadata": {},
   "outputs": [
    {
     "data": {
      "text/plain": [
       "['knfnk', 'sdhsg', 'sehsrth', 'vvrvver']"
      ]
     },
     "execution_count": 28,
     "metadata": {},
     "output_type": "execute_result"
    }
   ],
   "source": [
    "sorted(lista3)"
   ]
  },
  {
   "cell_type": "code",
   "execution_count": null,
   "metadata": {},
   "outputs": [],
   "source": []
  },
  {
   "cell_type": "markdown",
   "metadata": {},
   "source": [
    "También encontramos funciones para conversión de tipos o casting:\n",
    "\n",
    "- `float()`\n",
    "- `int()`\n",
    "- `complex()`\n",
    "- `str()`\n",
    "- `bool()`\n",
    "- `list()`\n",
    "- `tuple()`\n",
    "- `dict()`\n",
    "\n"
   ]
  },
  {
   "cell_type": "code",
   "execution_count": 29,
   "metadata": {},
   "outputs": [
    {
     "name": "stdout",
     "output_type": "stream",
     "text": [
      "ingrese un numero: 654\n",
      "<class 'float'>\n"
     ]
    }
   ],
   "source": [
    "num = input(\"ingrese un numero: \")\n",
    "num = float(num)\n",
    "print(type(num))"
   ]
  },
  {
   "cell_type": "code",
   "execution_count": 4,
   "metadata": {},
   "outputs": [
    {
     "name": "stdout",
     "output_type": "stream",
     "text": [
      "Juan tiene nota 8\n"
     ]
    }
   ],
   "source": [
    "nota = 8\n",
    "print(\"Juan tiene nota \" + str(nota))"
   ]
  },
  {
   "cell_type": "code",
   "execution_count": 32,
   "metadata": {},
   "outputs": [],
   "source": [
    "tupla = (6,3,1,5,56)"
   ]
  },
  {
   "cell_type": "code",
   "execution_count": 33,
   "metadata": {},
   "outputs": [
    {
     "name": "stdout",
     "output_type": "stream",
     "text": [
      "[6, 3, 1, 5, 56]\n"
     ]
    }
   ],
   "source": [
    "lista = list(tupla)\n",
    "print(lista)"
   ]
  },
  {
   "cell_type": "code",
   "execution_count": 6,
   "metadata": {},
   "outputs": [
    {
     "data": {
      "text/plain": [
       "['u', 'n', ' ', 's', 't', 'r', 'i', 'n', 'g']"
      ]
     },
     "execution_count": 6,
     "metadata": {},
     "output_type": "execute_result"
    }
   ],
   "source": [
    "list(\"un string\")"
   ]
  },
  {
   "cell_type": "code",
   "execution_count": null,
   "metadata": {},
   "outputs": [],
   "source": []
  },
  {
   "cell_type": "code",
   "execution_count": 36,
   "metadata": {},
   "outputs": [
    {
     "data": {
      "text/plain": [
       "(True, True)"
      ]
     },
     "execution_count": 36,
     "metadata": {},
     "output_type": "execute_result"
    }
   ],
   "source": [
    "\"a\" < \"b\", \"asanj\"< \"oetjobe\""
   ]
  },
  {
   "cell_type": "code",
   "execution_count": 37,
   "metadata": {},
   "outputs": [
    {
     "data": {
      "text/plain": [
       "False"
      ]
     },
     "execution_count": 37,
     "metadata": {},
     "output_type": "execute_result"
    }
   ],
   "source": [
    "\"a\" < \"Z\""
   ]
  },
  {
   "cell_type": "code",
   "execution_count": 40,
   "metadata": {},
   "outputs": [
    {
     "data": {
      "text/plain": [
       "(106, 74, 64)"
      ]
     },
     "execution_count": 40,
     "metadata": {},
     "output_type": "execute_result"
    }
   ],
   "source": [
    "ord(\"j\"), ord(\"J\"), ord(\"@\")"
   ]
  },
  {
   "cell_type": "code",
   "execution_count": 44,
   "metadata": {},
   "outputs": [
    {
     "data": {
      "text/plain": [
       "('#', '}', '@')"
      ]
     },
     "execution_count": 44,
     "metadata": {},
     "output_type": "execute_result"
    }
   ],
   "source": [
    "chr(35), chr(125), chr(64)"
   ]
  },
  {
   "cell_type": "code",
   "execution_count": 52,
   "metadata": {},
   "outputs": [
    {
     "name": "stdout",
     "output_type": "stream",
     "text": [
      "\u0000\u0001\u0002\u0003\u0004\u0005\u0006\u0007\b\t\n",
      "\u000b",
      "\f",
      "\r",
      "\u000e\u000f\u0010\u0011\u0012\u0013\u0014\u0015\u0016\u0017\u0018\u0019\u001a\u001b\u001c",
      "\u001d",
      "\u001e",
      "\u001f !\"#$%&'()*+,-./0123456789:;<=>?@ABCDEFGHIJKLMNOPQRSTUVWXYZ[\\]^_`abcdefghijklmnopqrstuvwxyz{|}~",
      " ¡¢£¤¥¦§¨©ª«¬­®¯°±²³´µ¶·¸¹º»¼½¾¿ÀÁÂÃÄÅÆÇ\n"
     ]
    }
   ],
   "source": [
    "s = \"\"\n",
    "for i in range(200):\n",
    "    s = s + chr(i)\n",
    "print(s)"
   ]
  },
  {
   "cell_type": "code",
   "execution_count": 53,
   "metadata": {},
   "outputs": [
    {
     "name": "stdout",
     "output_type": "stream",
     "text": [
      "\u0000\u0001\u0002\u0003\u0004\u0005\u0006\u0007\b\t\n",
      "\u000b",
      "\f",
      "\r",
      "\u000e\u000f\u0010\u0011\u0012\u0013\u0014\u0015\u0016\u0017\u0018\u0019\u001a\u001b\u001c",
      "\u001d",
      "\u001e",
      "\u001f !\"#$%&'()*+,-./0123456789:;<=>?@ABCDEFGHIJKLMNOPQRSTUVWXYZ[\\]^_`abcdefghijklmnopqrstuvwxyz{|}~",
      " ¡¢£¤¥¦§¨©ª«¬­®¯°±²³´µ¶·¸¹º»¼½¾¿ÀÁÂÃÄÅÆÇ"
     ]
    }
   ],
   "source": [
    "for i in range(200):\n",
    "    print(chr(i), end=\"\")"
   ]
  },
  {
   "cell_type": "markdown",
   "metadata": {},
   "source": [
    "### Accediendo a la documentación\n",
    "\n",
    "La documentación es información oficial sobre las distintas características de Python o sus librerías. Jupyter nos permite acceder muy fácil a la documentación a través del atajo `[Shift-Tab]`\n"
   ]
  },
  {
   "cell_type": "code",
   "execution_count": null,
   "metadata": {},
   "outputs": [],
   "source": []
  },
  {
   "cell_type": "code",
   "execution_count": null,
   "metadata": {},
   "outputs": [],
   "source": []
  },
  {
   "cell_type": "markdown",
   "metadata": {},
   "source": [
    "## Métodos\n",
    "\n",
    "Los métodos son funciones asociadas a un tipo de dato particular. Nos permiten realizar acciones a partir de esa estructura de datos. Hay métodos para strings, métodos para listas, etc. Para utilizar un método hay que colocar su nombre y paréntesis inmediatamente después del dato con el que queremos trabajar separado por un punto. \n",
    "\n",
    "Por ejemplo, las listas tienen un método llamado `append()` que permite agregar más elementos al final de la lista. Si quisieramos utilizarlo deberiamos hacerlo de la siguiente forma\n",
    "\n",
    "```python\n",
    "lista = [1,2,3,4]\n",
    "lista.append(5)\n",
    "print(lista)\n",
    "\n",
    ">>>[1,2,3,4,5]\n",
    "```\n",
    "\n",
    "Algunos de los métodos que podemos mencionar son:\n",
    "\n",
    "* Para listas:\n",
    "    * `.append()`\n",
    "    * `.insert()`\n",
    "    * `.clear()`\n",
    "    * `.copy()`\n",
    "* Para strings:\n",
    "    * `.capitalize()`\n",
    "    * `.find()`\n",
    "    * `.format()`\n",
    "    * `.split()`\n",
    "* Para diccionarios:\n",
    "    * `.items()`\n",
    "    *  `.keys()`\n",
    "    * `.values()`\n"
   ]
  },
  {
   "cell_type": "code",
   "execution_count": 54,
   "metadata": {},
   "outputs": [
    {
     "name": "stdout",
     "output_type": "stream",
     "text": [
      "Ingrese un nombre: Mariano\n",
      "La lista de nombres es ['Juan', 'Lucia', 'Martín', 'Mariano']\n"
     ]
    }
   ],
   "source": [
    "nombres = [\"Juan\", \"Lucia\", \"Martín\"]\n",
    "nombre = input(\"Ingrese un nombre: \")\n",
    "nombres.append(nombre)\n",
    "print(\"La lista de nombres es\", nombres)"
   ]
  },
  {
   "cell_type": "code",
   "execution_count": 58,
   "metadata": {},
   "outputs": [
    {
     "data": {
      "text/plain": [
       "['Carolina', 'Carolina', 'Carolina', 'Juan', 'Lucia', 'Martín', 'Mariano']"
      ]
     },
     "execution_count": 58,
     "metadata": {},
     "output_type": "execute_result"
    }
   ],
   "source": [
    "nombres.insert(0, \"Carolina\")\n",
    "nombres"
   ]
  },
  {
   "cell_type": "code",
   "execution_count": 59,
   "metadata": {},
   "outputs": [
    {
     "name": "stdout",
     "output_type": "stream",
     "text": [
      "['Carolina', 'Carolina', 'Carolina', 'Juan', 'Lucia', 'Martín', 'Mariano']\n",
      "[]\n"
     ]
    }
   ],
   "source": [
    "print(nombres)\n",
    "nombres.clear()\n",
    "print(nombres)"
   ]
  },
  {
   "cell_type": "code",
   "execution_count": 62,
   "metadata": {},
   "outputs": [
    {
     "name": "stdout",
     "output_type": "stream",
     "text": [
      "[6, 3, 1, 5, 56]\n",
      "[3, 1, 5, 56]\n"
     ]
    },
    {
     "ename": "NameError",
     "evalue": "name 'lista' is not defined",
     "output_type": "error",
     "traceback": [
      "\u001b[0;31m---------------------------------------------------------------------------\u001b[0m",
      "\u001b[0;31mNameError\u001b[0m                                 Traceback (most recent call last)",
      "\u001b[0;32m<ipython-input-62-f96e1bded3b1>\u001b[0m in \u001b[0;36m<module>\u001b[0;34m\u001b[0m\n\u001b[1;32m      3\u001b[0m \u001b[0mprint\u001b[0m\u001b[0;34m(\u001b[0m\u001b[0mlista\u001b[0m\u001b[0;34m)\u001b[0m\u001b[0;34m\u001b[0m\u001b[0;34m\u001b[0m\u001b[0m\n\u001b[1;32m      4\u001b[0m \u001b[0;32mdel\u001b[0m \u001b[0mlista\u001b[0m\u001b[0;34m\u001b[0m\u001b[0;34m\u001b[0m\u001b[0m\n\u001b[0;32m----> 5\u001b[0;31m \u001b[0mprint\u001b[0m\u001b[0;34m(\u001b[0m\u001b[0mlista\u001b[0m\u001b[0;34m)\u001b[0m\u001b[0;34m\u001b[0m\u001b[0;34m\u001b[0m\u001b[0m\n\u001b[0m",
      "\u001b[0;31mNameError\u001b[0m: name 'lista' is not defined"
     ]
    }
   ],
   "source": [
    "print(lista)\n",
    "del lista[0]\n",
    "print(lista)\n",
    "del lista\n",
    "print(lista)"
   ]
  },
  {
   "cell_type": "code",
   "execution_count": 64,
   "metadata": {},
   "outputs": [],
   "source": [
    "lista = [3,6,5,3,5]"
   ]
  },
  {
   "cell_type": "code",
   "execution_count": 65,
   "metadata": {},
   "outputs": [
    {
     "name": "stdout",
     "output_type": "stream",
     "text": [
      "Variable   Type     Data/Info\n",
      "-----------------------------\n",
      "i          int      199\n",
      "lista      list     n=5\n",
      "lista2     list     n=8\n",
      "lista3     list     n=4\n",
      "nombre     str      Mariano\n",
      "nombres    list     n=0\n",
      "nota       int      8\n",
      "num        float    654.0\n",
      "s          str      \u0000\u0001\u0002\u0003\u0004\u0005\u0006\u0007\b\t\\n\u000b",
      "\f",
      "\r",
      "\u000e\u000f\u0010\u0011\u0012\u0013\u0014\u0015\u0016\u0017<...>¯°±²³´µ¶·¸¹º»¼½¾¿ÀÁÂÃÄÅÆÇ\n",
      "tupla      tuple    n=5\n"
     ]
    }
   ],
   "source": [
    "%whos"
   ]
  },
  {
   "cell_type": "code",
   "execution_count": 66,
   "metadata": {},
   "outputs": [],
   "source": [
    "del nota\n",
    "del lista3"
   ]
  },
  {
   "cell_type": "code",
   "execution_count": 67,
   "metadata": {},
   "outputs": [
    {
     "name": "stdout",
     "output_type": "stream",
     "text": [
      "Variable   Type     Data/Info\n",
      "-----------------------------\n",
      "i          int      199\n",
      "lista      list     n=5\n",
      "lista2     list     n=8\n",
      "nombre     str      Mariano\n",
      "nombres    list     n=0\n",
      "num        float    654.0\n",
      "s          str      \u0000\u0001\u0002\u0003\u0004\u0005\u0006\u0007\b\t\\n\u000b",
      "\f",
      "\r",
      "\u000e\u000f\u0010\u0011\u0012\u0013\u0014\u0015\u0016\u0017<...>¯°±²³´µ¶·¸¹º»¼½¾¿ÀÁÂÃÄÅÆÇ\n",
      "tupla      tuple    n=5\n"
     ]
    }
   ],
   "source": [
    "%whos"
   ]
  },
  {
   "cell_type": "code",
   "execution_count": 68,
   "metadata": {},
   "outputs": [
    {
     "data": {
      "text/plain": [
       "(6, 3, 1, 5, 56)"
      ]
     },
     "execution_count": 68,
     "metadata": {},
     "output_type": "execute_result"
    }
   ],
   "source": [
    "tupla"
   ]
  },
  {
   "cell_type": "code",
   "execution_count": 69,
   "metadata": {},
   "outputs": [
    {
     "ename": "TypeError",
     "evalue": "'tuple' object doesn't support item deletion",
     "output_type": "error",
     "traceback": [
      "\u001b[0;31m---------------------------------------------------------------------------\u001b[0m",
      "\u001b[0;31mTypeError\u001b[0m                                 Traceback (most recent call last)",
      "\u001b[0;32m<ipython-input-69-e1f4142d6397>\u001b[0m in \u001b[0;36m<module>\u001b[0;34m\u001b[0m\n\u001b[0;32m----> 1\u001b[0;31m \u001b[0;32mdel\u001b[0m \u001b[0mtupla\u001b[0m\u001b[0;34m[\u001b[0m\u001b[0;36m2\u001b[0m\u001b[0;34m]\u001b[0m\u001b[0;34m\u001b[0m\u001b[0;34m\u001b[0m\u001b[0m\n\u001b[0m",
      "\u001b[0;31mTypeError\u001b[0m: 'tuple' object doesn't support item deletion"
     ]
    }
   ],
   "source": [
    "del tupla[2]"
   ]
  },
  {
   "cell_type": "code",
   "execution_count": 70,
   "metadata": {},
   "outputs": [],
   "source": [
    "del tupla"
   ]
  },
  {
   "cell_type": "code",
   "execution_count": 71,
   "metadata": {},
   "outputs": [
    {
     "name": "stdout",
     "output_type": "stream",
     "text": [
      "Variable   Type     Data/Info\n",
      "-----------------------------\n",
      "i          int      199\n",
      "lista      list     n=5\n",
      "lista2     list     n=8\n",
      "nombre     str      Mariano\n",
      "nombres    list     n=0\n",
      "num        float    654.0\n",
      "s          str      \u0000\u0001\u0002\u0003\u0004\u0005\u0006\u0007\b\t\\n\u000b",
      "\f",
      "\r",
      "\u000e\u000f\u0010\u0011\u0012\u0013\u0014\u0015\u0016\u0017<...>¯°±²³´µ¶·¸¹º»¼½¾¿ÀÁÂÃÄÅÆÇ\n"
     ]
    }
   ],
   "source": [
    "%whos"
   ]
  },
  {
   "cell_type": "code",
   "execution_count": 105,
   "metadata": {},
   "outputs": [
    {
     "data": {
      "text/plain": [
       "[1111, 3333, 4444]"
      ]
     },
     "execution_count": 105,
     "metadata": {},
     "output_type": "execute_result"
    }
   ],
   "source": [
    "lista = [1111, 2222, 3333, 4444, 5555]\n",
    "\n",
    "del lista[1], lista[3]\n",
    "lista"
   ]
  },
  {
   "cell_type": "code",
   "execution_count": 106,
   "metadata": {},
   "outputs": [
    {
     "data": {
      "text/plain": [
       "[1111, 2222, 7777, 8888]"
      ]
     },
     "execution_count": 106,
     "metadata": {},
     "output_type": "execute_result"
    }
   ],
   "source": [
    "lista = [1111, 2222, 3333, 4444, 5555, 6666, 7777, 8888]\n",
    "del lista[2:6]\n",
    "lista"
   ]
  },
  {
   "cell_type": "code",
   "execution_count": 107,
   "metadata": {},
   "outputs": [
    {
     "data": {
      "text/plain": [
       "[5555, 6666, 7777, 8888]"
      ]
     },
     "execution_count": 107,
     "metadata": {},
     "output_type": "execute_result"
    }
   ],
   "source": [
    "lista = [1111, 2222, 3333, 4444, 5555, 6666, 7777, 8888]\n",
    "del lista[:4]\n",
    "lista"
   ]
  },
  {
   "cell_type": "code",
   "execution_count": 108,
   "metadata": {},
   "outputs": [
    {
     "data": {
      "text/plain": [
       "[1111, 2222, 4444, 5555, 7777, 8888]"
      ]
     },
     "execution_count": 108,
     "metadata": {},
     "output_type": "execute_result"
    }
   ],
   "source": [
    "lista = [1111, 2222, 3333, 4444, 5555, 6666, 7777, 8888]\n",
    "del lista[2::3]\n",
    "lista"
   ]
  },
  {
   "cell_type": "code",
   "execution_count": null,
   "metadata": {},
   "outputs": [],
   "source": []
  },
  {
   "cell_type": "code",
   "execution_count": null,
   "metadata": {},
   "outputs": [],
   "source": []
  },
  {
   "cell_type": "code",
   "execution_count": null,
   "metadata": {},
   "outputs": [],
   "source": []
  },
  {
   "cell_type": "code",
   "execution_count": null,
   "metadata": {},
   "outputs": [],
   "source": []
  },
  {
   "cell_type": "code",
   "execution_count": 72,
   "metadata": {},
   "outputs": [
    {
     "data": {
      "text/plain": [
       "5"
      ]
     },
     "execution_count": 72,
     "metadata": {},
     "output_type": "execute_result"
    }
   ],
   "source": [
    "len(lista)"
   ]
  },
  {
   "cell_type": "code",
   "execution_count": 73,
   "metadata": {},
   "outputs": [
    {
     "data": {
      "text/plain": [
       "12"
      ]
     },
     "execution_count": 73,
     "metadata": {},
     "output_type": "execute_result"
    }
   ],
   "source": [
    "len(\"alisufghlaiu\")"
   ]
  },
  {
   "cell_type": "code",
   "execution_count": null,
   "metadata": {},
   "outputs": [],
   "source": []
  },
  {
   "cell_type": "code",
   "execution_count": 74,
   "metadata": {},
   "outputs": [
    {
     "data": {
      "text/plain": [
       "'UN STRING CUALQUIERA'"
      ]
     },
     "execution_count": 74,
     "metadata": {},
     "output_type": "execute_result"
    }
   ],
   "source": [
    "\"un string cualquiera\".upper()"
   ]
  },
  {
   "cell_type": "code",
   "execution_count": 75,
   "metadata": {},
   "outputs": [
    {
     "data": {
      "text/plain": [
       "'otro string'"
      ]
     },
     "execution_count": 75,
     "metadata": {},
     "output_type": "execute_result"
    }
   ],
   "source": [
    "st = \"Otro STRING\"\n",
    "st.lower()"
   ]
  },
  {
   "cell_type": "code",
   "execution_count": 85,
   "metadata": {},
   "outputs": [
    {
     "data": {
      "text/plain": [
       "'Otro String'"
      ]
     },
     "execution_count": 85,
     "metadata": {},
     "output_type": "execute_result"
    }
   ],
   "source": [
    "st.title()"
   ]
  },
  {
   "cell_type": "code",
   "execution_count": 86,
   "metadata": {},
   "outputs": [
    {
     "data": {
      "text/plain": [
       "'Un String Cualquiera'"
      ]
     },
     "execution_count": 86,
     "metadata": {},
     "output_type": "execute_result"
    }
   ],
   "source": [
    "\"un string cualquiera\".title()"
   ]
  },
  {
   "cell_type": "code",
   "execution_count": null,
   "metadata": {},
   "outputs": [],
   "source": []
  },
  {
   "cell_type": "code",
   "execution_count": null,
   "metadata": {},
   "outputs": [],
   "source": []
  },
  {
   "cell_type": "code",
   "execution_count": null,
   "metadata": {},
   "outputs": [],
   "source": []
  },
  {
   "cell_type": "markdown",
   "metadata": {},
   "source": [
    "### In-place vs out-of-place\n",
    "\n",
    "Hay dos tipos de métodos: los que actúan sobre el dato y lo modifican, y los que no, llamados métodos \"in-place\" y \"out-of-place\" respectivamente. Los primeros alteran el estado del dato mientras que los segundos lo dejan intacto y retornan otro dato. Algunos métodos in-place pueden retornar otro dato además de modificar el dato sobre el que trabajan. Hay que remarcar que para los tipos de datos inmutables (como tuplas y strings) todos los métodos son out-of-place.\n"
   ]
  },
  {
   "cell_type": "code",
   "execution_count": 76,
   "metadata": {},
   "outputs": [
    {
     "data": {
      "text/plain": [
       "[6, 8, 9, 5, 30, 5, 'otra cosa mas']"
      ]
     },
     "execution_count": 76,
     "metadata": {},
     "output_type": "execute_result"
    }
   ],
   "source": [
    "# in place modifica el objeto\n",
    "lista = [6,8,9,5,30,5]\n",
    "lista.append(\"otra cosa mas\")  \n",
    "lista"
   ]
  },
  {
   "cell_type": "code",
   "execution_count": 80,
   "metadata": {},
   "outputs": [
    {
     "name": "stdout",
     "output_type": "stream",
     "text": [
      "Otro STRING\n",
      "otro string\n",
      "Otro STRING\n"
     ]
    }
   ],
   "source": [
    "# out of place deja el objeto intacto\n",
    "print(st)\n",
    "print(st.lower())\n",
    "print(st)"
   ]
  },
  {
   "cell_type": "code",
   "execution_count": 84,
   "metadata": {},
   "outputs": [
    {
     "name": "stdout",
     "output_type": "stream",
     "text": [
      "O\n"
     ]
    },
    {
     "ename": "TypeError",
     "evalue": "'str' object does not support item assignment",
     "output_type": "error",
     "traceback": [
      "\u001b[0;31m---------------------------------------------------------------------------\u001b[0m",
      "\u001b[0;31mTypeError\u001b[0m                                 Traceback (most recent call last)",
      "\u001b[0;32m<ipython-input-84-8074fb919be5>\u001b[0m in \u001b[0;36m<module>\u001b[0;34m\u001b[0m\n\u001b[1;32m      1\u001b[0m \u001b[0mprint\u001b[0m\u001b[0;34m(\u001b[0m\u001b[0mst\u001b[0m\u001b[0;34m[\u001b[0m\u001b[0;36m0\u001b[0m\u001b[0;34m]\u001b[0m\u001b[0;34m)\u001b[0m\u001b[0;34m\u001b[0m\u001b[0;34m\u001b[0m\u001b[0m\n\u001b[0;32m----> 2\u001b[0;31m \u001b[0mst\u001b[0m\u001b[0;34m[\u001b[0m\u001b[0;36m0\u001b[0m\u001b[0;34m]\u001b[0m \u001b[0;34m=\u001b[0m \u001b[0;34m\"o\"\u001b[0m\u001b[0;34m\u001b[0m\u001b[0;34m\u001b[0m\u001b[0m\n\u001b[0m",
      "\u001b[0;31mTypeError\u001b[0m: 'str' object does not support item assignment"
     ]
    }
   ],
   "source": [
    "print(st[0])\n",
    "st[0] = \"o\""
   ]
  },
  {
   "cell_type": "code",
   "execution_count": null,
   "metadata": {},
   "outputs": [],
   "source": []
  },
  {
   "cell_type": "code",
   "execution_count": null,
   "metadata": {},
   "outputs": [],
   "source": []
  },
  {
   "cell_type": "code",
   "execution_count": null,
   "metadata": {},
   "outputs": [],
   "source": []
  },
  {
   "cell_type": "code",
   "execution_count": null,
   "metadata": {},
   "outputs": [],
   "source": []
  },
  {
   "cell_type": "markdown",
   "metadata": {},
   "source": [
    "## Estructuras de control \n",
    "\n",
    "Vimos que cuando ejecutamos una celda con código, Python ejecuta cada una de las instrucciones desde arriba hacia abajo. Sin embargo hay formas de modificar el flujo de ejecución de un programa: a través de las estructuras de control. Ahora vamos a hablar del condicional y los bucles while y for.\n",
    "\n",
    "### Condicional\n",
    "\n",
    "El condicional es una estructura que permite controlar si se ejecuta un bloque de código según el valor de una condición. Si la condición se evalúa a `True` entonces se ejecuta el bloque de código dentro del condicional, si se evalúa a `False` se omite todo el bloque de código.\n",
    "\n",
    "El condicional se declara con la palabra reservada `if` seguida de la condición a evaluar, seguido de dos puntos `:`. Luego se colocan las instrucciones que conforman el bloque de código. Para señalar cuáles son las instrucciones que pertenecen al bloque se usa sangría (o indentación). Se puede usar tabulación o espacios, aunque la convención es utilizar cuatro espacios, que es lo que inserta Jupyter cuando apretamos `tab`.\n",
    "\n",
    "```python\n",
    "if <condición>:\n",
    "    <instrucción>\n",
    "    ...\n",
    "    <instrucción>\n",
    "```"
   ]
  },
  {
   "cell_type": "code",
   "execution_count": 93,
   "metadata": {},
   "outputs": [
    {
     "name": "stdout",
     "output_type": "stream",
     "text": [
      "ingrese su edad: 22\n",
      "Usted es mayor de edad\n",
      "esto está adentro del condicional\n",
      "esto está fuera del condicional\n"
     ]
    }
   ],
   "source": [
    "edad = int(input(\"ingrese su edad: \"))\n",
    "\n",
    "if edad>=18:\n",
    "    print(\"Usted es mayor de edad\")\n",
    "    print(\"esto está adentro del condicional\")\n",
    "    \n",
    "print(\"esto está fuera del condicional\")"
   ]
  },
  {
   "cell_type": "code",
   "execution_count": null,
   "metadata": {},
   "outputs": [],
   "source": []
  },
  {
   "cell_type": "code",
   "execution_count": null,
   "metadata": {},
   "outputs": [],
   "source": []
  },
  {
   "cell_type": "code",
   "execution_count": null,
   "metadata": {},
   "outputs": [],
   "source": []
  },
  {
   "cell_type": "code",
   "execution_count": null,
   "metadata": {},
   "outputs": [],
   "source": []
  },
  {
   "cell_type": "code",
   "execution_count": null,
   "metadata": {},
   "outputs": [],
   "source": []
  },
  {
   "cell_type": "markdown",
   "metadata": {},
   "source": [
    "#### `else`\n",
    "\n",
    "Esta instrucción permite ejecutar un bloque de código alternativo en caso de que la condición se evalúe a `False`. La palabra reservada `else` debe colocarse inmediatamente después del primer bloque del condicional y al mismo nivel de indentación que el `if`. Luego de dos puntos puede iniciarse otro bloque de código, que también debe estar indentado.\n",
    "\n",
    "```python\n",
    "if <condición>:\n",
    "    <instrucción>\n",
    "    ...\n",
    "    <instrucción>\n",
    "else:\n",
    "    <instrucción>\n",
    "    ...\n",
    "    <instrucción>\n",
    "    ```\n",
    "Esta estructura ejecuta uno y sólo uno de los bloques según el valor de la condición, por lo que se la puede considerar una bifurcación de código."
   ]
  },
  {
   "cell_type": "code",
   "execution_count": 95,
   "metadata": {},
   "outputs": [
    {
     "name": "stdout",
     "output_type": "stream",
     "text": [
      "Ingrese su edad: 12\n",
      "Usted es menor de edad\n",
      "Gracias por usar nuestros servicios\n"
     ]
    }
   ],
   "source": [
    "edad = int(input(\"Ingrese su edad: \"))\n",
    "\n",
    "if edad>=18:\n",
    "    print(\"Usted es mayor de edad\")\n",
    "else:\n",
    "    print(\"Usted es menor de edad\")\n",
    "    \n",
    "print(\"Gracias por usar nuestros servicios\")"
   ]
  },
  {
   "cell_type": "code",
   "execution_count": 97,
   "metadata": {},
   "outputs": [
    {
     "name": "stdout",
     "output_type": "stream",
     "text": [
      "Ingrese su edad: 35\n",
      "Usted es mayor de edad\n",
      "Además sos un treintañero\n",
      "Gracias por usar nuestros servicios\n"
     ]
    }
   ],
   "source": [
    "edad = int(input(\"Ingrese su edad: \"))\n",
    "\n",
    "if edad>=18:\n",
    "    print(\"Usted es mayor de edad\")\n",
    "    if 30<=edad<=39:\n",
    "        print(\"Además sos un treintañero\")\n",
    "else:\n",
    "    print(\"Usted es menor de edad\")\n",
    "    \n",
    "print(\"Gracias por usar nuestros servicios\")"
   ]
  },
  {
   "cell_type": "markdown",
   "metadata": {},
   "source": [
    "Pedir al ususario sus edad y decirle si está habilitado para votar y además si su voto es obligatorio o no. Se está habilitado para votar son 16 años o más y solo es obligatorio en el rango de 18 a 65"
   ]
  },
  {
   "cell_type": "code",
   "execution_count": null,
   "metadata": {},
   "outputs": [],
   "source": [
    "edad = int(input(\"Ingrese su edad: \"))\n",
    "\n",
    "if edad>=16:\n",
    "    if 18<=edad<=65:\n",
    "        print(\"Habilitado para votar, voto obligatorio\")\n",
    "    else:\n",
    "        print(\"Habilitado para votar, voto no obligatorio\")\n",
    "else:\n",
    "    print(\"No habilitado para votar\")"
   ]
  },
  {
   "cell_type": "code",
   "execution_count": null,
   "metadata": {},
   "outputs": [],
   "source": []
  },
  {
   "cell_type": "code",
   "execution_count": 101,
   "metadata": {},
   "outputs": [
    {
     "name": "stdout",
     "output_type": "stream",
     "text": [
      "ingrese su edad:100\n",
      "Ud está habilitado para votar\n",
      "Su voto es obligatorio\n"
     ]
    }
   ],
   "source": [
    "edad = int(input(\"ingrese su edad:\" ))\n",
    "if edad>=16:\n",
    "    print (\"Ud está habilitado para votar\")\n",
    "    if edad>18<65:\n",
    "        print (\"Su voto es obligatorio\")\n",
    "    else:\n",
    "        print(\"esperamos su asistencia!\")\n",
    "else:\n",
    "    print (\"Ud, aún no está facultado para votar\")"
   ]
  },
  {
   "cell_type": "code",
   "execution_count": 100,
   "metadata": {},
   "outputs": [
    {
     "data": {
      "text/plain": [
       "True"
      ]
     },
     "execution_count": 100,
     "metadata": {},
     "output_type": "execute_result"
    }
   ],
   "source": [
    "edad = 90\n",
    "edad>18<65   # edad>18   and   18<65"
   ]
  },
  {
   "cell_type": "code",
   "execution_count": null,
   "metadata": {},
   "outputs": [],
   "source": [
    "18<edad<65   #  18<edad   and   edad<65"
   ]
  },
  {
   "cell_type": "code",
   "execution_count": null,
   "metadata": {},
   "outputs": [],
   "source": []
  },
  {
   "cell_type": "code",
   "execution_count": null,
   "metadata": {},
   "outputs": [],
   "source": []
  },
  {
   "cell_type": "markdown",
   "metadata": {},
   "source": [
    "#### `elif`\n",
    "\n",
    "El condicional `if` se puede combinar con la instrucción `elif` para evaluar otras condiciones si la primera condición se evalúa a `False`. De hecho se pueden chequear tantas condiciones como se quiera. Sin embargo, en esta combinación de `if` y `elif` cuando alguna condición resulta ser verdadera el resto de las condiciones y bloques de los siguientes `elif` son omitidos. Adicionalmente se puede cerrar la estructura con la sentencia `else`, teniendo así la garantía de que uno y sólo uno de los bloques va a ser ejecutado.\n",
    "\n",
    "\n",
    "```python\n",
    "if <condición 1>:\n",
    "    <bloque 1>\n",
    "elif <condición 2>:\n",
    "    <bloque2>```    \n",
    "    ...   \n",
    "```python\n",
    "elif <condición n>:\n",
    "    <bloque n>\n",
    "```\n",
    "\n",
    "O bien poniendo un `else` al final:\n",
    "\n",
    "```python\n",
    "if <condición 1>:\n",
    "    <bloque 1>\n",
    "elif <condición 2>:\n",
    "    <bloque2>```    \n",
    "    ...   \n",
    "```python\n",
    "elif <condición n>:\n",
    "    <bloque n>\n",
    "else:\n",
    "    <bloque final>\n",
    "```"
   ]
  },
  {
   "cell_type": "code",
   "execution_count": 117,
   "metadata": {},
   "outputs": [
    {
     "name": "stdout",
     "output_type": "stream",
     "text": [
      "numero par\n"
     ]
    }
   ],
   "source": [
    "num = 36\n",
    "\n",
    "if num == 1:\n",
    "    print(\"uno\")\n",
    "elif 10<=num<20:\n",
    "    print(\"rango 10 20\")\n",
    "elif num == 3:\n",
    "    print(\"tres\")\n",
    "elif num%2==0:\n",
    "    print(\"numero par\")\n",
    "else:\n",
    "    print(\"ningun caso anterior\")"
   ]
  },
  {
   "cell_type": "code",
   "execution_count": null,
   "metadata": {},
   "outputs": [],
   "source": [
    "# misma logica pero diferente ejecucion\n",
    "\n",
    "num = 36\n",
    "\n",
    "if num == 1:\n",
    "    print(\"uno\")\n",
    "if 10<=num<20 and not num==1:\n",
    "    print(\"rango 10 20\")\n",
    "if num == 3 and not 10<=num<20 and not num==1:\n",
    "    print(\"tres\")\n",
    "if num%2==0 and not num == 3 and not 10<=num<20 and not num==1:\n",
    "    print(\"numero par\")\n",
    "if not num%2==0 and not num == 3 and not 10<=num<20 and not num==1:\n",
    "    print(\"ningun caso anterior\")"
   ]
  },
  {
   "cell_type": "code",
   "execution_count": null,
   "metadata": {},
   "outputs": [],
   "source": [
    "num = 36\n",
    "\n",
    "if num == 1:\n",
    "    print(\"uno\")\n",
    "else:\n",
    "    if 10<=num<20:\n",
    "        print(\"rango 10 20\")\n",
    "    else:\n",
    "        if num == 3:\n",
    "            print(\"tres\")\n",
    "        else:\n",
    "            if num%2==0:\n",
    "                print(\"numero par\")\n",
    "            else:\n",
    "                print(\"ningun caso anterior\")"
   ]
  },
  {
   "cell_type": "markdown",
   "metadata": {},
   "source": [
    "Pedir al ususario sus edad y decirle si está habilitado para votar y además si su voto es obligatorio o no. Se está habilitado para votar son 16 años o más y solo es obligatorio en el rango de 18 a 65"
   ]
  },
  {
   "cell_type": "code",
   "execution_count": 121,
   "metadata": {},
   "outputs": [
    {
     "name": "stdout",
     "output_type": "stream",
     "text": [
      "Ingrese su edad: 80\n",
      "Habilitado y no obligatorio\n"
     ]
    }
   ],
   "source": [
    "edad = int(input(\"Ingrese su edad: \"))\n",
    "\n",
    "if edad<16:\n",
    "    print(\"No habilitado para votar\")\n",
    "elif 18<=edad<=65:\n",
    "    print(\"Habilitado y obligatorio\")\n",
    "else:\n",
    "    print(\"Habilitado y no obligatorio\")"
   ]
  },
  {
   "cell_type": "code",
   "execution_count": null,
   "metadata": {},
   "outputs": [],
   "source": []
  },
  {
   "cell_type": "code",
   "execution_count": null,
   "metadata": {},
   "outputs": [],
   "source": []
  },
  {
   "cell_type": "code",
   "execution_count": null,
   "metadata": {},
   "outputs": [],
   "source": []
  },
  {
   "cell_type": "code",
   "execution_count": null,
   "metadata": {},
   "outputs": [],
   "source": []
  },
  {
   "cell_type": "code",
   "execution_count": null,
   "metadata": {},
   "outputs": [],
   "source": []
  },
  {
   "cell_type": "markdown",
   "metadata": {},
   "source": [
    "### Bucle `while`\n",
    "\n",
    "Los bucles son estructuras de control que permiten repetir un bloque de código tantas veces como sea necesario. Con el bucle `while` es posible ejecutar un bloque de código siempre que una condición sea verdadera. Cuando la condición se evalúe a `False` se sale del bucle y se continúa con el resto del programa.\n",
    "\n",
    "```python\n",
    "while <condición>:\n",
    "    <instrucción1>\n",
    "    ...\n",
    "    <instrucción n>```\n",
    "    "
   ]
  },
  {
   "cell_type": "code",
   "execution_count": 125,
   "metadata": {},
   "outputs": [
    {
     "name": "stdout",
     "output_type": "stream",
     "text": [
      "0\n",
      "1\n",
      "2\n",
      "3\n",
      "4\n",
      "5\n",
      "6\n",
      "7\n",
      "8\n",
      "9\n"
     ]
    }
   ],
   "source": [
    "numero=0\n",
    "while numero<10:\n",
    "    print(numero)\n",
    "    numero = numero + 1"
   ]
  },
  {
   "cell_type": "code",
   "execution_count": 126,
   "metadata": {},
   "outputs": [
    {
     "name": "stdout",
     "output_type": "stream",
     "text": [
      "38\n",
      "11\n",
      "6\n",
      "38\n",
      "27\n",
      "7923\n",
      "51\n",
      "1683\n",
      "6\n",
      "6\n",
      "6\n"
     ]
    }
   ],
   "source": [
    "lista = [6,3,2,7,5,4,2,6,5,3,9,1,6,5,89,7,41,2,2,2]\n",
    "\n",
    "indice = 0\n",
    "while indice<len(lista):\n",
    "    print(lista[indice]**2+2)\n",
    "    indice = indice + 1"
   ]
  },
  {
   "cell_type": "code",
   "execution_count": 127,
   "metadata": {},
   "outputs": [
    {
     "name": "stdout",
     "output_type": "stream",
     "text": [
      "38\n",
      "6\n",
      "18\n",
      "6\n",
      "38\n",
      "38\n",
      "6\n",
      "6\n",
      "6\n"
     ]
    }
   ],
   "source": [
    "lista = [6,3,2,7,5,4,2,6,5,3,9,1,6,5,89,7,41,2,2,2]\n",
    "\n",
    "indice = 0\n",
    "while indice<len(lista):\n",
    "    if lista[indice]%2==0:\n",
    "        print(lista[indice]**2+2)\n",
    "    indice = indice + 1"
   ]
  },
  {
   "cell_type": "code",
   "execution_count": null,
   "metadata": {},
   "outputs": [],
   "source": []
  },
  {
   "cell_type": "code",
   "execution_count": null,
   "metadata": {},
   "outputs": [],
   "source": []
  },
  {
   "cell_type": "code",
   "execution_count": null,
   "metadata": {},
   "outputs": [],
   "source": []
  },
  {
   "cell_type": "code",
   "execution_count": null,
   "metadata": {},
   "outputs": [],
   "source": []
  },
  {
   "cell_type": "markdown",
   "metadata": {},
   "source": [
    "### Bucle `for`\n",
    "\n",
    "El bucle `for` trabaja con iterables. Un iterable es cualquier objeto de Python que puede recorrer sus elementos uno a uno. Por ejemplo las colecciones que vimos son iterables. Así el bucle for nos permite recorrer todos los elementos de un iterable como por ejemplo una lista. Esto lo hace creando una variable que a cada repetición del bucle le asigna un nuevo elemento del iterable hasta agotar todos los elementos. Así podemos trabajar con estos elementos de una forma inmediata en el bloque de código haciendo referencia al nombre de la variable.\n",
    "\n",
    "```python\n",
    "for <variable> in <iterable>:\n",
    "    <bloque de código>\n",
    "    ```"
   ]
  },
  {
   "cell_type": "code",
   "execution_count": 128,
   "metadata": {},
   "outputs": [
    {
     "name": "stdout",
     "output_type": "stream",
     "text": [
      "6\n",
      "3\n",
      "2\n",
      "7\n",
      "5\n",
      "4\n",
      "2\n",
      "6\n",
      "5\n",
      "3\n",
      "9\n",
      "1\n",
      "6\n",
      "5\n",
      "89\n",
      "7\n",
      "41\n",
      "2\n",
      "2\n",
      "2\n"
     ]
    }
   ],
   "source": [
    "for elemento in lista:\n",
    "    print(elemento)"
   ]
  },
  {
   "cell_type": "code",
   "execution_count": 129,
   "metadata": {},
   "outputs": [
    {
     "name": "stdout",
     "output_type": "stream",
     "text": [
      "38\n",
      "11\n",
      "6\n",
      "51\n",
      "27\n",
      "18\n",
      "6\n",
      "38\n",
      "27\n",
      "11\n",
      "83\n",
      "3\n",
      "38\n",
      "27\n",
      "7923\n",
      "51\n",
      "1683\n",
      "6\n",
      "6\n",
      "6\n"
     ]
    }
   ],
   "source": [
    "for numero in lista:\n",
    "    print(numero**2+2)"
   ]
  },
  {
   "cell_type": "code",
   "execution_count": 130,
   "metadata": {},
   "outputs": [
    {
     "name": "stdout",
     "output_type": "stream",
     "text": [
      "38\n",
      "11\n",
      "6\n",
      "51\n",
      "27\n",
      "18\n",
      "6\n",
      "38\n",
      "27\n",
      "11\n",
      "83\n",
      "3\n",
      "38\n",
      "27\n",
      "7923\n",
      "51\n",
      "1683\n",
      "6\n",
      "6\n",
      "6\n"
     ]
    }
   ],
   "source": [
    "indice = 0\n",
    "while indice<len(lista):\n",
    "    print(lista[indice]**2+2)\n",
    "    indice = indice + 1"
   ]
  },
  {
   "cell_type": "code",
   "execution_count": 132,
   "metadata": {},
   "outputs": [
    {
     "name": "stdout",
     "output_type": "stream",
     "text": [
      "3\n",
      "6\n",
      "8\n",
      "9\n",
      "3\n",
      "2\n",
      "6\n"
     ]
    }
   ],
   "source": [
    "tupla = (3,6,8,9,3,2,6)\n",
    "\n",
    "for num in tupla:\n",
    "    print(num)"
   ]
  },
  {
   "cell_type": "code",
   "execution_count": 133,
   "metadata": {},
   "outputs": [
    {
     "name": "stdout",
     "output_type": "stream",
     "text": [
      "U\n",
      "n\n",
      " \n",
      "s\n",
      "t\n",
      "r\n",
      "i\n",
      "n\n",
      "g\n",
      " \n",
      "d\n",
      "e\n",
      " \n",
      "p\n",
      "r\n",
      "u\n",
      "e\n",
      "b\n",
      "a\n"
     ]
    }
   ],
   "source": [
    "for char in \"Un string de prueba\":\n",
    "    print(char)"
   ]
  },
  {
   "cell_type": "code",
   "execution_count": 135,
   "metadata": {},
   "outputs": [],
   "source": [
    "matriz = [[6,9,8,5],[3,2,6,8],[1,4,8,2]]"
   ]
  },
  {
   "cell_type": "code",
   "execution_count": 136,
   "metadata": {},
   "outputs": [
    {
     "name": "stdout",
     "output_type": "stream",
     "text": [
      "[6, 9, 8, 5]\n",
      "[3, 2, 6, 8]\n",
      "[1, 4, 8, 2]\n"
     ]
    }
   ],
   "source": [
    "for i in matriz:\n",
    "    print(i)"
   ]
  },
  {
   "cell_type": "code",
   "execution_count": 137,
   "metadata": {},
   "outputs": [
    {
     "name": "stdout",
     "output_type": "stream",
     "text": [
      "6\n",
      "9\n",
      "8\n",
      "5\n",
      "3\n",
      "2\n",
      "6\n",
      "8\n",
      "1\n",
      "4\n",
      "8\n",
      "2\n"
     ]
    }
   ],
   "source": [
    "for fila in matriz:\n",
    "    for numero in fila:\n",
    "        print(numero)"
   ]
  },
  {
   "cell_type": "code",
   "execution_count": 138,
   "metadata": {},
   "outputs": [
    {
     "name": "stdout",
     "output_type": "stream",
     "text": [
      "la suma de los numeros de la matriz es: 62\n"
     ]
    }
   ],
   "source": [
    "suma = 0\n",
    "for fila in matriz:\n",
    "    for numero in fila:\n",
    "        suma = suma + numero\n",
    "print(\"la suma de los numeros de la matriz es:\", suma)"
   ]
  },
  {
   "cell_type": "code",
   "execution_count": null,
   "metadata": {},
   "outputs": [],
   "source": []
  },
  {
   "cell_type": "code",
   "execution_count": 1,
   "metadata": {},
   "outputs": [
    {
     "name": "stdout",
     "output_type": "stream",
     "text": [
      "Para imprimir 'Hola' ingrese 1\n",
      "Para salir ingrese 2.2\n"
     ]
    }
   ],
   "source": [
    "opcion = input(\"Para imprimir 'Hola' ingrese 1\\nPara salir ingrese 2.\")\n",
    "\n",
    "while opcion != \"2\":\n",
    "    if opcion== \"1\":\n",
    "        print(\"Hola\")\n",
    "    opcion = input(\"Para imprimir 'Hola' ingrese 1\\nPara salir ingrese 2.\")\n"
   ]
  },
  {
   "cell_type": "code",
   "execution_count": null,
   "metadata": {},
   "outputs": [],
   "source": []
  },
  {
   "cell_type": "code",
   "execution_count": 141,
   "metadata": {},
   "outputs": [],
   "source": [
    "dicc = {\"nombre\": \"Miguel\", \"edad\": 25, \"club\": \"River\"}"
   ]
  },
  {
   "cell_type": "code",
   "execution_count": 150,
   "metadata": {},
   "outputs": [
    {
     "name": "stdout",
     "output_type": "stream",
     "text": [
      "clave: nombre - Valor: Miguel\n",
      "clave: edad - Valor: 25\n",
      "clave: club - Valor: River\n"
     ]
    }
   ],
   "source": [
    "for clave in dicc:\n",
    "    print(\"clave:\", clave, \"- Valor:\", dicc[clave])"
   ]
  },
  {
   "cell_type": "code",
   "execution_count": 153,
   "metadata": {},
   "outputs": [
    {
     "name": "stdout",
     "output_type": "stream",
     "text": [
      "32\n",
      "2\n",
      "4\n",
      "6\n",
      "8\n",
      "9\n",
      "ojijo\n",
      "KJH\n",
      "asdf\n"
     ]
    }
   ],
   "source": [
    "conj = {9,6,8,9,4,2,32, \"asdf\",\"ojijo\",\"KJH\"}\n",
    "\n",
    "for elemento in conj:\n",
    "    print(elemento)"
   ]
  },
  {
   "cell_type": "code",
   "execution_count": 154,
   "metadata": {},
   "outputs": [
    {
     "name": "stdout",
     "output_type": "stream",
     "text": [
      "9\n",
      "6\n",
      "41\n",
      "8\n",
      "2\n"
     ]
    }
   ],
   "source": [
    "lista = [9,6,41,8,2]\n",
    "for i in lista:\n",
    "    print(i)"
   ]
  },
  {
   "cell_type": "code",
   "execution_count": null,
   "metadata": {},
   "outputs": [],
   "source": []
  },
  {
   "cell_type": "code",
   "execution_count": null,
   "metadata": {},
   "outputs": [],
   "source": []
  },
  {
   "cell_type": "code",
   "execution_count": null,
   "metadata": {},
   "outputs": [],
   "source": []
  },
  {
   "cell_type": "code",
   "execution_count": null,
   "metadata": {},
   "outputs": [],
   "source": []
  },
  {
   "cell_type": "markdown",
   "metadata": {},
   "source": [
    "### Sentencias `break` y `continue`\n",
    "\n",
    "Estas sentencias permiten alterar la forma en la que se ejecuta el bucle. La sentencia `break` permite terminar la ejecución del bucle, salir de él y continuar con el resto del programa. La sentencia `continue`permite interrumpir la ejecución del bloque de código y pasar a la siguiente iteración del bucle."
   ]
  },
  {
   "cell_type": "code",
   "execution_count": 155,
   "metadata": {},
   "outputs": [
    {
     "name": "stdout",
     "output_type": "stream",
     "text": [
      "Ingrese algo: hola\n",
      "Ingrese algo: skjdf\n",
      "Ingrese algo: ldgslais\n",
      "Ingrese algo: \n",
      "Ingrese algo: \n",
      "Ingrese algo: \n",
      "Ingrese algo: \n",
      "Ingrese algo: safg\n",
      "Ingrese algo: \n",
      "Ingrese algo: salir\n"
     ]
    }
   ],
   "source": [
    "while True:\n",
    "    ingreso = input(\"Ingrese algo: \")\n",
    "    if ingreso == \"salir\":\n",
    "        break"
   ]
  },
  {
   "cell_type": "code",
   "execution_count": 160,
   "metadata": {},
   "outputs": [
    {
     "name": "stdout",
     "output_type": "stream",
     "text": [
      "1 3\n",
      "2 6\n",
      "3 11\n",
      "4 18\n",
      "5 27\n",
      "6 38\n"
     ]
    }
   ],
   "source": []
  },
  {
   "cell_type": "code",
   "execution_count": 162,
   "metadata": {},
   "outputs": [],
   "source": [
    "lista = [6,5,8,9,6,2,1,5,6,5,63,5,6,4]\n",
    "\n",
    "suma = 0\n",
    "for num in lista:\n",
    "    suma = suma + num\n",
    "    if suma>20:\n",
    "        break"
   ]
  },
  {
   "cell_type": "code",
   "execution_count": 163,
   "metadata": {},
   "outputs": [
    {
     "data": {
      "text/plain": [
       "28"
      ]
     },
     "execution_count": 163,
     "metadata": {},
     "output_type": "execute_result"
    }
   ],
   "source": [
    "suma"
   ]
  },
  {
   "cell_type": "code",
   "execution_count": 164,
   "metadata": {},
   "outputs": [],
   "source": [
    "lista = [6,5,8,9,6,2,1,5,6,5,63,5,6,49,6,8,5,7]"
   ]
  },
  {
   "cell_type": "code",
   "execution_count": 168,
   "metadata": {},
   "outputs": [
    {
     "data": {
      "text/plain": [
       "48"
      ]
     },
     "execution_count": 168,
     "metadata": {},
     "output_type": "execute_result"
    }
   ],
   "source": [
    "suma = 0\n",
    "for num in lista:\n",
    "    if num%2==1:\n",
    "        continue\n",
    "    suma = suma + num\n",
    "suma"
   ]
  },
  {
   "cell_type": "code",
   "execution_count": 167,
   "metadata": {},
   "outputs": [
    {
     "data": {
      "text/plain": [
       "48"
      ]
     },
     "execution_count": 167,
     "metadata": {},
     "output_type": "execute_result"
    }
   ],
   "source": [
    "suma=0\n",
    "for num in lista:\n",
    "    if num%2==0:\n",
    "        suma = suma + num\n",
    "suma"
   ]
  },
  {
   "cell_type": "markdown",
   "metadata": {},
   "source": [
    "### Función `range()`\n",
    "\n",
    "Es una función incorporada que se suele usar mucho junto al bucle `for`. Esta función permite crear secuencias de números enteros. Se la puede llamar con uno, dos o tres argumentos. Llamada con un argumento `n` genera una secuencia desde cero hasta `n-1` con incrementos de a uno. Llamada con dos argumentos `n1` y `n2`, una secuencia desde `n1` hasta `n2-1` con el mismo incremento. Y si se utiliza un tercer argumento, éste representa el incremento entre cada número de la secuencia. "
   ]
  },
  {
   "cell_type": "code",
   "execution_count": null,
   "metadata": {},
   "outputs": [],
   "source": []
  },
  {
   "cell_type": "markdown",
   "metadata": {},
   "source": [
    "Podemos usar esta función en combinación con el bucle `for` para repetir cierto código una determinada cantidad de veces.\n",
    "\n",
    "```python\n",
    "for i in range(4):\n",
    "    print(\"Python\")\n",
    "\n",
    ">>>Python\n",
    ">>>Python\n",
    ">>>Python\n",
    ">>>Python```"
   ]
  },
  {
   "cell_type": "code",
   "execution_count": 169,
   "metadata": {},
   "outputs": [
    {
     "name": "stdout",
     "output_type": "stream",
     "text": [
      "0\n",
      "1\n",
      "2\n",
      "3\n",
      "4\n",
      "5\n",
      "6\n",
      "7\n",
      "8\n",
      "9\n"
     ]
    }
   ],
   "source": [
    "for i in range(10):\n",
    "    print(i)"
   ]
  },
  {
   "cell_type": "code",
   "execution_count": 170,
   "metadata": {},
   "outputs": [
    {
     "name": "stdout",
     "output_type": "stream",
     "text": [
      "5\n",
      "6\n",
      "7\n",
      "8\n",
      "9\n",
      "10\n",
      "11\n"
     ]
    }
   ],
   "source": [
    "for i in range(5,12):\n",
    "    print(i)"
   ]
  },
  {
   "cell_type": "code",
   "execution_count": 171,
   "metadata": {},
   "outputs": [
    {
     "name": "stdout",
     "output_type": "stream",
     "text": [
      "7\n",
      "10\n",
      "13\n",
      "16\n",
      "19\n",
      "22\n",
      "25\n",
      "28\n"
     ]
    }
   ],
   "source": [
    "for i in range(7,29,3):\n",
    "    print(i)"
   ]
  },
  {
   "cell_type": "code",
   "execution_count": 172,
   "metadata": {},
   "outputs": [
    {
     "name": "stdout",
     "output_type": "stream",
     "text": [
      "Esto lo imprimo 10 veces\n",
      "Esto lo imprimo 10 veces\n",
      "Esto lo imprimo 10 veces\n",
      "Esto lo imprimo 10 veces\n",
      "Esto lo imprimo 10 veces\n",
      "Esto lo imprimo 10 veces\n",
      "Esto lo imprimo 10 veces\n",
      "Esto lo imprimo 10 veces\n",
      "Esto lo imprimo 10 veces\n",
      "Esto lo imprimo 10 veces\n"
     ]
    }
   ],
   "source": [
    "for i in range(10):\n",
    "    print(\"Esto lo imprimo 10 veces\")"
   ]
  },
  {
   "cell_type": "code",
   "execution_count": null,
   "metadata": {},
   "outputs": [],
   "source": []
  },
  {
   "cell_type": "code",
   "execution_count": null,
   "metadata": {},
   "outputs": [],
   "source": []
  },
  {
   "cell_type": "code",
   "execution_count": null,
   "metadata": {},
   "outputs": [],
   "source": []
  },
  {
   "cell_type": "code",
   "execution_count": null,
   "metadata": {},
   "outputs": [],
   "source": []
  },
  {
   "cell_type": "code",
   "execution_count": 161,
   "metadata": {},
   "outputs": [
    {
     "name": "stdout",
     "output_type": "stream",
     "text": [
      "1 3\n",
      "2 6\n",
      "3 11\n",
      "4 18\n",
      "5 27\n",
      "6 38\n"
     ]
    }
   ],
   "source": [
    "lista=[1,2,3,4,5,6]\n",
    "\n",
    "for j in lista:\n",
    "    print(j, end=\" \")\n",
    "    print(pow(j, 2) + 2)"
   ]
  },
  {
   "cell_type": "code",
   "execution_count": null,
   "metadata": {},
   "outputs": [],
   "source": []
  }
 ],
 "metadata": {
  "kernelspec": {
   "display_name": "Python 3",
   "language": "python",
   "name": "python3"
  },
  "language_info": {
   "codemirror_mode": {
    "name": "ipython",
    "version": 3
   },
   "file_extension": ".py",
   "mimetype": "text/x-python",
   "name": "python",
   "nbconvert_exporter": "python",
   "pygments_lexer": "ipython3",
   "version": "3.7.6"
  }
 },
 "nbformat": 4,
 "nbformat_minor": 2
}
