{
 "cells": [
  {
   "cell_type": "markdown",
   "metadata": {},
   "source": [
    "# Clase 3 - Introducción a la programación en Python\n",
    "*Por Ariel Thenon*"
   ]
  },
  {
   "cell_type": "markdown",
   "metadata": {},
   "source": [
    "## Funciones \n",
    "\n",
    "Las funciones son bloques de código agrupados bajo un nombre y sólo son ejecutadas cuando son invocadas. Además pueden recibir parámetros y retornar un valor. Para definir una función se utiliza la palabra reservada `def`. Para retornar un valor hay que utilizar la palabra `return` en el bloque de código. Los parámetros que reciba la función los indicamos entre paréntesis.\n",
    "\n",
    "```python\n",
    "def mi_funcion(<parámetros>):\n",
    "    <Bloque de código>\n",
    "    <Para devolver un resultado>\n",
    "    <hay que usar la palabra return>\n",
    "```\n",
    "\n",
    "Por ejemplo, podemos hacer una función que calcule la raíz cuadrada de un número de la siguiente manera:\n",
    "\n",
    "```python\n",
    "def raiz_cuadrada(n):\n",
    "    return n**0.5\n",
    "```\n",
    "\n",
    "O si quisiéramos evaluar un polinomio en particular, por ejemplo cuadrático:\n",
    "\n",
    "```python\n",
    "def mi_polinomio(x):\n",
    "    return 3*x**2 + 2*x - 5\n",
    "```\n",
    "\n",
    "Aquí hacemos una función que toma un nombre como string y retorna otro string con un saludo:\n",
    "\n",
    "```python\n",
    "def saludo(nombre):\n",
    "    return 'Hola ' + nombre + '!'\n",
    "\n",
    "mensaje = saludo('Ariel')\n",
    "\n",
    "print(mensaje)\n",
    ">>>'Hola Ariel!'\n",
    "```\n",
    "\n",
    "No es necesario que una función reciba parámetros ni que devuelva algún valor. A continuación tenemos una función que siempre imprime el mismo mensaje:\n",
    "\n",
    "```python\n",
    "def bienvenida():\n",
    "    print(\"Hola a todos. Bienvenidos a la Clase 3 del curso\")\n",
    "\n",
    "bienvenida()\n",
    ">>>\"Hola a todos. Bienvenidos a la Clase 3 del curso\"\n",
    "```\n"
   ]
  },
  {
   "cell_type": "code",
   "execution_count": 1,
   "metadata": {},
   "outputs": [],
   "source": [
    "def cuadrado(x):\n",
    "    return x**2\n"
   ]
  },
  {
   "cell_type": "code",
   "execution_count": 3,
   "metadata": {},
   "outputs": [
    {
     "name": "stdout",
     "output_type": "stream",
     "text": [
      "25\n",
      "8 al cuadrado es 64\n"
     ]
    }
   ],
   "source": [
    "print(cuadrado(5))\n",
    "print(\"8 al cuadrado es\", cuadrado(8))"
   ]
  },
  {
   "cell_type": "code",
   "execution_count": null,
   "metadata": {},
   "outputs": [],
   "source": []
  },
  {
   "cell_type": "code",
   "execution_count": null,
   "metadata": {},
   "outputs": [],
   "source": []
  },
  {
   "cell_type": "code",
   "execution_count": null,
   "metadata": {},
   "outputs": [],
   "source": []
  },
  {
   "cell_type": "code",
   "execution_count": null,
   "metadata": {},
   "outputs": [],
   "source": []
  },
  {
   "cell_type": "markdown",
   "metadata": {},
   "source": [
    "Las funciones pueden recibir varios parámetros si es necesario.\n",
    "\n",
    "```python\n",
    "def raiz_enesima(x, n):\n",
    "    return x**(1/n)\n",
    "```\n"
   ]
  },
  {
   "cell_type": "code",
   "execution_count": 5,
   "metadata": {},
   "outputs": [
    {
     "name": "stdout",
     "output_type": "stream",
     "text": [
      "-462\n"
     ]
    }
   ],
   "source": [
    "def cuenta(x,y):\n",
    "    return x**2+x*y - 2*x**y\n",
    "\n",
    "print(cuenta(3,5))"
   ]
  },
  {
   "cell_type": "code",
   "execution_count": 7,
   "metadata": {},
   "outputs": [
    {
     "name": "stdout",
     "output_type": "stream",
     "text": [
      "Sofia es mayor de edad\n"
     ]
    }
   ],
   "source": [
    "def mayor(nombre, edad):\n",
    "    if edad >= 18:\n",
    "        return nombre + \" es mayor de edad\"\n",
    "        print(\"Esto no se imprime\")\n",
    "    else:\n",
    "        return nombre + \" es menor de edad\"\n",
    "    \n",
    "print(mayor(\"Sofia\", 22))"
   ]
  },
  {
   "cell_type": "markdown",
   "metadata": {},
   "source": [
    "hacer una funcion que tome nombre y edad y retornar un mensaje diciendo si está habilitado para votar y si su voto es obligatorio o no. Consideremos que los mayores de 16 pueden votar y es obligatorio en el rango de 18 a 65 años"
   ]
  },
  {
   "cell_type": "code",
   "execution_count": 8,
   "metadata": {},
   "outputs": [],
   "source": [
    "def votacion(nombre, edad):\n",
    "    if edad<16:\n",
    "        resultado = nombre + \" no puede votar\"\n",
    "    elif 18<edad<65:\n",
    "        resultado = nombre + \" puede votar y es obligatorio\"\n",
    "    else:\n",
    "        resultado = nombre + \" puede votar y no es obligatorio\"\n",
    "    return resultado"
   ]
  },
  {
   "cell_type": "code",
   "execution_count": 9,
   "metadata": {},
   "outputs": [
    {
     "data": {
      "text/plain": [
       "'miguel puede votar y no es obligatorio'"
      ]
     },
     "execution_count": 9,
     "metadata": {},
     "output_type": "execute_result"
    }
   ],
   "source": [
    "votacion(\"miguel\", 17)"
   ]
  },
  {
   "cell_type": "code",
   "execution_count": null,
   "metadata": {},
   "outputs": [],
   "source": [
    "def votacion(nombre, edad):\n",
    "    if edad<16:\n",
    "        resultado = nombre + \" no puede votar\"\n",
    "    if 18<edad<65 and not(edad<16):\n",
    "        resultado = nombre + \" puede votar y es obligatorio\"\n",
    "    if not(18<edad<65) and not(edad<16):\n",
    "        resultado = nombre + \" puede votar y no es obligatorio\"\n",
    "    return resultado"
   ]
  },
  {
   "cell_type": "code",
   "execution_count": null,
   "metadata": {},
   "outputs": [],
   "source": []
  },
  {
   "cell_type": "code",
   "execution_count": 10,
   "metadata": {},
   "outputs": [],
   "source": [
    "def cuadrados(lista):\n",
    "    resultado=[]\n",
    "    for num in lista:\n",
    "        resultado.append(num**2)\n",
    "    return resultado"
   ]
  },
  {
   "cell_type": "code",
   "execution_count": 11,
   "metadata": {},
   "outputs": [
    {
     "name": "stdout",
     "output_type": "stream",
     "text": [
      "[81, 36, 25, 64, 16, 1, 9, 1, 4, 3969, 25, 2916, 25, 25, 4, 4, 9]\n"
     ]
    }
   ],
   "source": [
    "numeros = [9,6,5,8,4,1,3,1,2,63,5,54,5,5,2,2,3]\n",
    "print(cuadrados(numeros))"
   ]
  },
  {
   "cell_type": "code",
   "execution_count": 14,
   "metadata": {},
   "outputs": [],
   "source": [
    "def suma(lista):\n",
    "    total = 0\n",
    "    for num in lista:\n",
    "        total = total + num\n",
    "    return total"
   ]
  },
  {
   "cell_type": "code",
   "execution_count": 15,
   "metadata": {},
   "outputs": [
    {
     "data": {
      "text/plain": [
       "54"
      ]
     },
     "execution_count": 15,
     "metadata": {},
     "output_type": "execute_result"
    }
   ],
   "source": [
    "suma([3,6,1,5,5,2,32,])"
   ]
  },
  {
   "cell_type": "code",
   "execution_count": 18,
   "metadata": {},
   "outputs": [
    {
     "name": "stdout",
     "output_type": "stream",
     "text": [
      "6.166666666666667\n"
     ]
    }
   ],
   "source": [
    "def promedio(lista):\n",
    "    suma=0\n",
    "    for num in lista:\n",
    "        suma = suma + num\n",
    "        \n",
    "    promedio = suma/len(lista)\n",
    "    return promedio\n",
    "\n",
    "print(promedio([6,9,5,6,6,5]))"
   ]
  },
  {
   "cell_type": "code",
   "execution_count": 19,
   "metadata": {},
   "outputs": [
    {
     "name": "stdout",
     "output_type": "stream",
     "text": [
      "6.166666666666667\n"
     ]
    }
   ],
   "source": [
    "def promedio(lista):\n",
    "    return suma(lista)/len(lista)\n",
    "\n",
    "print(promedio([6,9,5,6,6,5]))"
   ]
  },
  {
   "cell_type": "code",
   "execution_count": null,
   "metadata": {},
   "outputs": [],
   "source": []
  },
  {
   "cell_type": "code",
   "execution_count": null,
   "metadata": {},
   "outputs": [],
   "source": []
  },
  {
   "cell_type": "code",
   "execution_count": null,
   "metadata": {},
   "outputs": [],
   "source": []
  },
  {
   "cell_type": "markdown",
   "metadata": {},
   "source": [
    "defina una función que tome una lista de números y un número y eleve todos sus elementos a ese número y devuelva el promedio de esas potencias"
   ]
  },
  {
   "cell_type": "code",
   "execution_count": 20,
   "metadata": {},
   "outputs": [
    {
     "name": "stdout",
     "output_type": "stream",
     "text": [
      "17074.6\n"
     ]
    }
   ],
   "source": [
    "def funcion(lista, exp):\n",
    "    potencias = []\n",
    "    for num in lista:\n",
    "        potencias.append(num**exp)\n",
    "    \n",
    "    return promedio(potencias)\n",
    "\n",
    "print(funcion([9,6,2,3,1,5,54,1,2,23],3))"
   ]
  },
  {
   "cell_type": "code",
   "execution_count": null,
   "metadata": {},
   "outputs": [],
   "source": []
  },
  {
   "cell_type": "code",
   "execution_count": null,
   "metadata": {},
   "outputs": [],
   "source": []
  },
  {
   "cell_type": "code",
   "execution_count": 26,
   "metadata": {},
   "outputs": [],
   "source": [
    "def impuesto(monto, imp = 0.21):\n",
    "    return monto*(1+imp)"
   ]
  },
  {
   "cell_type": "code",
   "execution_count": 27,
   "metadata": {},
   "outputs": [
    {
     "name": "stdout",
     "output_type": "stream",
     "text": [
      "121.0\n",
      "287.02\n",
      "121.0\n"
     ]
    }
   ],
   "source": [
    "print(impuesto(100, 0.21))\n",
    "print(impuesto(254, 0.13))\n",
    "print(impuesto(100))"
   ]
  },
  {
   "cell_type": "code",
   "execution_count": 38,
   "metadata": {},
   "outputs": [],
   "source": [
    "def polinomio(x, a=2, b=-1, c=3):\n",
    "    return a*x**2 + b*x + c"
   ]
  },
  {
   "cell_type": "code",
   "execution_count": 29,
   "metadata": {},
   "outputs": [
    {
     "data": {
      "text/plain": [
       "20.93505"
      ]
     },
     "execution_count": 29,
     "metadata": {},
     "output_type": "execute_result"
    }
   ],
   "source": [
    "polinomio(3.255)"
   ]
  },
  {
   "cell_type": "code",
   "execution_count": 30,
   "metadata": {},
   "outputs": [
    {
     "data": {
      "text/plain": [
       "47.060075"
      ]
     },
     "execution_count": 30,
     "metadata": {},
     "output_type": "execute_result"
    }
   ],
   "source": [
    "polinomio(3.255, 3, 5, -1)"
   ]
  },
  {
   "cell_type": "code",
   "execution_count": 31,
   "metadata": {},
   "outputs": [
    {
     "data": {
      "text/plain": [
       "40.46505"
      ]
     },
     "execution_count": 31,
     "metadata": {},
     "output_type": "execute_result"
    }
   ],
   "source": [
    "polinomio(3.255, 2, 5, 3)"
   ]
  },
  {
   "cell_type": "code",
   "execution_count": 32,
   "metadata": {},
   "outputs": [
    {
     "data": {
      "text/plain": [
       "40.46505"
      ]
     },
     "execution_count": 32,
     "metadata": {},
     "output_type": "execute_result"
    }
   ],
   "source": [
    "polinomio(3.255, b=5)"
   ]
  },
  {
   "cell_type": "code",
   "execution_count": 33,
   "metadata": {},
   "outputs": [
    {
     "data": {
      "text/plain": [
       "-10.255074999999998"
      ]
     },
     "execution_count": 33,
     "metadata": {},
     "output_type": "execute_result"
    }
   ],
   "source": [
    "polinomio(3.255, a=-3,b=6,c=2)"
   ]
  },
  {
   "cell_type": "code",
   "execution_count": 34,
   "metadata": {},
   "outputs": [
    {
     "data": {
      "text/plain": [
       "-10.255074999999998"
      ]
     },
     "execution_count": 34,
     "metadata": {},
     "output_type": "execute_result"
    }
   ],
   "source": [
    "polinomio(3.255,c=2, a=-3,b=6)"
   ]
  },
  {
   "cell_type": "code",
   "execution_count": 35,
   "metadata": {},
   "outputs": [
    {
     "data": {
      "text/plain": [
       "-10.255074999999998"
      ]
     },
     "execution_count": 35,
     "metadata": {},
     "output_type": "execute_result"
    }
   ],
   "source": [
    "polinomio(c=2, a=-3, x=3.255,b=6)"
   ]
  },
  {
   "cell_type": "code",
   "execution_count": 36,
   "metadata": {},
   "outputs": [
    {
     "data": {
      "text/plain": [
       "-10.255074999999998"
      ]
     },
     "execution_count": 36,
     "metadata": {},
     "output_type": "execute_result"
    }
   ],
   "source": [
    "polinomio(3.255, -3, 6, 2)"
   ]
  },
  {
   "cell_type": "code",
   "execution_count": 39,
   "metadata": {},
   "outputs": [
    {
     "name": "stdout",
     "output_type": "stream",
     "text": [
      "6 5 3 2 6 5 9\n"
     ]
    }
   ],
   "source": [
    "print(6,5,3,2,6,5,9)"
   ]
  },
  {
   "cell_type": "code",
   "execution_count": 40,
   "metadata": {},
   "outputs": [
    {
     "name": "stdout",
     "output_type": "stream",
     "text": [
      "6/5/3/2/6/5/9\n"
     ]
    }
   ],
   "source": [
    "print(6,5,3,2,6,5,9, sep=\"/\")"
   ]
  },
  {
   "cell_type": "code",
   "execution_count": 41,
   "metadata": {},
   "outputs": [
    {
     "name": "stdout",
     "output_type": "stream",
     "text": [
      "6 -*/*- 5 -*/*- 3 -*/*- 2 -*/*- 6 -*/*- 5 -*/*- 9\n"
     ]
    }
   ],
   "source": [
    "print(6,5,3,2,6,5,9, sep=\" -*/*- \")"
   ]
  },
  {
   "cell_type": "code",
   "execution_count": 43,
   "metadata": {},
   "outputs": [
    {
     "name": "stdout",
     "output_type": "stream",
     "text": [
      "6 5 3 2 6 5 9  -*/*-  cualquier cosa\n"
     ]
    }
   ],
   "source": [
    "print(6,5,3,2,6,5,9, \" -*/*- \", \"cualquier cosa\")"
   ]
  },
  {
   "cell_type": "code",
   "execution_count": null,
   "metadata": {},
   "outputs": [],
   "source": []
  },
  {
   "cell_type": "code",
   "execution_count": 48,
   "metadata": {},
   "outputs": [],
   "source": [
    "def fun(*args):\n",
    "    print(type(args))\n",
    "    print(args)"
   ]
  },
  {
   "cell_type": "code",
   "execution_count": 49,
   "metadata": {},
   "outputs": [
    {
     "name": "stdout",
     "output_type": "stream",
     "text": [
      "<class 'tuple'>\n",
      "(6, 3, 2, 6, 5, 2, 3, 3, 2, 'sdfng', True, [3, 6, 2])\n"
     ]
    }
   ],
   "source": [
    "fun(6,3,2,6,5,2,3,3,2,\"sdfng\", True, [3,6,2])"
   ]
  },
  {
   "cell_type": "code",
   "execution_count": 56,
   "metadata": {},
   "outputs": [],
   "source": [
    "def sumar(*args, inicio=0):\n",
    "    suma=inicio\n",
    "    for num in args:\n",
    "        suma = suma + num\n",
    "    return suma"
   ]
  },
  {
   "cell_type": "code",
   "execution_count": 57,
   "metadata": {},
   "outputs": [
    {
     "data": {
      "text/plain": [
       "20"
      ]
     },
     "execution_count": 57,
     "metadata": {},
     "output_type": "execute_result"
    }
   ],
   "source": [
    "sumar(6,9,5)"
   ]
  },
  {
   "cell_type": "code",
   "execution_count": 58,
   "metadata": {},
   "outputs": [
    {
     "data": {
      "text/plain": [
       "57"
      ]
     },
     "execution_count": 58,
     "metadata": {},
     "output_type": "execute_result"
    }
   ],
   "source": [
    "sumar(6,9,5,6,9,2,3,5,6,4,2)"
   ]
  },
  {
   "cell_type": "code",
   "execution_count": 59,
   "metadata": {},
   "outputs": [
    {
     "data": {
      "text/plain": [
       "157"
      ]
     },
     "execution_count": 59,
     "metadata": {},
     "output_type": "execute_result"
    }
   ],
   "source": [
    "sumar(6,9,5,6,9,2,3,5,6,4,2, inicio=100)"
   ]
  },
  {
   "cell_type": "code",
   "execution_count": 60,
   "metadata": {},
   "outputs": [],
   "source": [
    "def funcion(a,b,c, *args, e=0, f=1, g=2):\n",
    "    print(\"a,b,c:\",a,b,c)\n",
    "    print(\"args:\", args)\n",
    "    print(\"e,f,g:\", e,f,g)"
   ]
  },
  {
   "cell_type": "code",
   "execution_count": 61,
   "metadata": {},
   "outputs": [
    {
     "name": "stdout",
     "output_type": "stream",
     "text": [
      "a,b,c: 1 2 3\n",
      "args: ()\n",
      "e,f,g: 0 1 2\n"
     ]
    }
   ],
   "source": [
    "funcion(1,2,3)"
   ]
  },
  {
   "cell_type": "code",
   "execution_count": 62,
   "metadata": {},
   "outputs": [
    {
     "name": "stdout",
     "output_type": "stream",
     "text": [
      "a,b,c: 1 2 3\n",
      "args: (4, 5, 6, 7, 8, 9, 10, 11)\n",
      "e,f,g: 0 1 2\n"
     ]
    }
   ],
   "source": [
    "funcion(1,2,3,4,5,6,7,8,9,10,11)"
   ]
  },
  {
   "cell_type": "code",
   "execution_count": 63,
   "metadata": {},
   "outputs": [
    {
     "name": "stdout",
     "output_type": "stream",
     "text": [
      "a,b,c: 1 2 3\n",
      "args: (4, 5, 6, 7, 8, 9, 10, 11)\n",
      "e,f,g: 111 1 2\n"
     ]
    }
   ],
   "source": [
    "funcion(1,2,3,4,5,6,7,8,9,10,11, e=111)"
   ]
  },
  {
   "cell_type": "code",
   "execution_count": 67,
   "metadata": {},
   "outputs": [
    {
     "name": "stdout",
     "output_type": "stream",
     "text": [
      "a,b,c: 1 2 3\n",
      "args: (4, 5, 10, 11)\n",
      "e,f,g: 111 555 999\n"
     ]
    }
   ],
   "source": [
    "funcion(1,2,3,4,5,10,11, f= 555, g=999, e=111)"
   ]
  },
  {
   "cell_type": "code",
   "execution_count": 66,
   "metadata": {},
   "outputs": [
    {
     "name": "stdout",
     "output_type": "stream",
     "text": [
      "a,b,c: 1 2 3\n",
      "args: ()\n",
      "e,f,g: 111 1 999\n"
     ]
    }
   ],
   "source": [
    "funcion(1,2,3, g=999, e=111)"
   ]
  },
  {
   "cell_type": "markdown",
   "metadata": {},
   "source": [
    "## Módulos\n",
    "\n",
    "Python viene con una gran cantidad de módulos instalados que podemos utlilizar. Muchos más se pueden descargar de internet. Podemos pensar en los módulos como grandes archivos de código escritos por otras personas con una cantidad de funcionalidades listas para usar. Por ejemplo, un módulo puede tener varias funciones implementadas que nos interesa usar en nuestro código.\n",
    "\n",
    "Los módulos están almacenados en el disco rígido. Para poder utilizarlos hay que cargarlos en la memoria RAM, es decir, hay que importarlos. Para eso utilizamos la palabra `import`.\n",
    "\n",
    "Existe el módulo `math`que implementa numerosas funciones matemáticas. Para importarlo escribimos\n",
    "\n",
    "```python\n",
    "import math\n",
    "```\n",
    "\n",
    "Luego de esto habremos cargado el módulo en la memoria. \n",
    "\n",
    "`math` contiene funciones a las que podemos acceder. Pero para ello debemos hacerlo con la sintaxis `math.funcion()` para indicarle a Python que debe buscar `funcion()` en el módulo `math`."
   ]
  },
  {
   "cell_type": "code",
   "execution_count": 69,
   "metadata": {},
   "outputs": [
    {
     "name": "stdout",
     "output_type": "stream",
     "text": [
      "\n",
      "Welcome to Python 3.8's help utility!\n",
      "\n",
      "If this is your first time using Python, you should definitely check out\n",
      "the tutorial on the Internet at https://docs.python.org/3.8/tutorial/.\n",
      "\n",
      "Enter the name of any module, keyword, or topic to get help on writing\n",
      "Python programs and using Python modules.  To quit this help utility and\n",
      "return to the interpreter, just type \"quit\".\n",
      "\n",
      "To get a list of available modules, keywords, symbols, or topics, type\n",
      "\"modules\", \"keywords\", \"symbols\", or \"topics\".  Each module also comes\n",
      "with a one-line summary of what it does; to list the modules whose name\n",
      "or summary contain a given string such as \"spam\", type \"modules spam\".\n",
      "\n",
      "help> modules\n",
      "\n",
      "Please wait a moment while I gather a list of all available modules...\n",
      "\n"
     ]
    },
    {
     "name": "stderr",
     "output_type": "stream",
     "text": [
      "/home/arielthenon/Software/anaconda3/lib/python3.8/site-packages/IPython/kernel/__init__.py:12: ShimWarning: The `IPython.kernel` package has been deprecated since IPython 4.0.You should import from ipykernel or jupyter_client instead.\n",
      "  warn(\"The `IPython.kernel` package has been deprecated since IPython 4.0.\"\n",
      "8077705 INFO: NumExpr defaulting to 4 threads.\n",
      "/home/arielthenon/Software/anaconda3/lib/python3.8/site-packages/nltk/twitter/__init__.py:21: UserWarning: The twython library has not been installed. Some functionality from the twitter package will not be available.\n",
      "  warnings.warn(\n",
      "/home/arielthenon/Software/anaconda3/lib/python3.8/site-packages/setuptools/distutils_patch.py:25: UserWarning: Distutils was imported before Setuptools. This usage is discouraged and may exhibit undesirable behaviors or errors. Please use Setuptools' objects directly or at least import Setuptools first.\n",
      "  warnings.warn(\n",
      "/home/arielthenon/Software/anaconda3/lib/python3.8/site-packages/skimage/viewer/utils/__init__.py:1: UserWarning: Recommended matplotlib backend is `Agg` for full skimage.viewer functionality.\n",
      "  from .core import *\n",
      "/home/arielthenon/Software/anaconda3/lib/python3.8/site-packages/qtawesome/iconic_font.py:312: UserWarning: You need to have a running QApplication to use QtAwesome!\n",
      "  warnings.warn(\"You need to have a running \"\n",
      "/home/arielthenon/Software/anaconda3/lib/python3.8/pkgutil.py:107: VisibleDeprecationWarning: zmq.eventloop.minitornado is deprecated in pyzmq 14.0 and will be removed.\n",
      "    Install tornado itself to use zmq with the tornado IOLoop.\n",
      "    \n",
      "  yield from walk_packages(path, info.name+'.', onerror)\n"
     ]
    },
    {
     "name": "stdout",
     "output_type": "stream",
     "text": [
      "Cython              brain_http          itertools           resource\n",
      "IPython             brain_io            itsdangerous        rlcompleter\n",
      "OpenSSL             brain_mechanize     jdcal               rmagic\n",
      "PIL                 brain_multiprocessing jedi                rope\n",
      "PyInstaller         brain_namedtuple_enum jeepney             rtree\n",
      "PyQt5               brain_nose          jinja2              ruamel_yaml\n",
      "__future__          brain_numpy_core_fromnumeric joblib              runpy\n",
      "_abc                brain_numpy_core_function_base json                sched\n",
      "_ast                brain_numpy_core_multiarray json5               scipy\n",
      "_asyncio            brain_numpy_core_numeric jsonschema          scripts\n",
      "_bisect             brain_numpy_core_numerictypes jupyter             seaborn\n",
      "_blake2             brain_numpy_core_umath jupyter_client      secrets\n",
      "_bootlocale         brain_numpy_ndarray jupyter_console     secretstorage\n",
      "_bz2                brain_numpy_random_mtrand jupyter_core        select\n",
      "_cffi_backend       brain_numpy_utils   jupyterlab          selectors\n",
      "_codecs             brain_pkg_resources jupyterlab_server   send2trash\n",
      "_codecs_cn          brain_pytest        keyring             setuptools\n",
      "_codecs_hk          brain_qt            keyword             shelve\n",
      "_codecs_iso2022     brain_random        kiwisolver          shlex\n",
      "_codecs_jp          brain_re            lazy_object_proxy   shutil\n",
      "_codecs_kr          brain_responses     lib2to3             signal\n",
      "_codecs_tw          brain_scipy_signal  libarchive          simplegeneric\n",
      "_collections        brain_six           libfuturize         singledispatch\n",
      "_collections_abc    brain_ssl           libpasteurize       singledispatch_helpers\n",
      "_compat_pickle      brain_subprocess    lief                sip\n",
      "_compression        brain_threading     linecache           sipconfig\n",
      "_contextvars        brain_typing        llvmlite            sipdistutils\n",
      "_crypt              brain_uuid          locale              site\n",
      "_csv                brotli              locket              six\n",
      "_ctypes             bs4                 logging             skimage\n",
      "_ctypes_test        builtins            lxml                sklearn\n",
      "_curses             bz2                 lzma                smtpd\n",
      "_curses_panel       cProfile            mailbox             smtplib\n",
      "_datetime           calendar            mailcap             sndhdr\n",
      "_decimal            certifi             markupsafe          snowballstemmer\n",
      "_dummy_thread       cffi                marshal             socket\n",
      "_elementtree        cgi                 math                socketserver\n",
      "_functools          cgitb               matplotlib          socks\n",
      "_hashlib            chardet             mccabe              sockshandler\n",
      "_heapq              chunk               mimetypes           sortedcollections\n",
      "_imp                click               mistune             sortedcontainers\n",
      "_io                 cloudpickle         mkl                 soupsieve\n",
      "_json               clyent              mkl_fft             sphinx\n",
      "_locale             cmath               mkl_random          sphinxcontrib\n",
      "_lsprof             cmd                 mmap                spwd\n",
      "_lzma               code                mock                spyder\n",
      "_markupbase         codecs              modulefinder        spyder_kernels\n",
      "_md5                codeop              more_itertools      sqlalchemy\n",
      "_multibytecodec     collections         mpmath              sqlite3\n",
      "_multiprocessing    colorama            msgpack             sre_compile\n",
      "_opcode             colorsys            multipledispatch    sre_constants\n",
      "_operator           compileall          multiprocessing     sre_parse\n",
      "_osx_support        concurrent          navigator_updater   ssl\n",
      "_pickle             conda               nbconvert           stat\n",
      "_posixshmem         conda_build         nbformat            statistics\n",
      "_posixsubprocess    conda_env           netrc               statsmodels\n",
      "_py_abc             conda_package_handling networkx            storemagic\n",
      "_pydecimal          conda_verify        nis                 string\n",
      "_pyinstaller_hooks_contrib configparser        nltk                stringprep\n",
      "_pyio               contextlib          nntplib             struct\n",
      "_pyrsistent_version contextlib2         nose                subprocess\n",
      "_pytest             contextvars         notebook            sunau\n",
      "_queue              copy                ntpath              symbol\n",
      "_random             copyreg             nturl2path          sympy\n",
      "_sha1               crypt               numba               sympyprinting\n",
      "_sha256             cryptography        numbers             symtable\n",
      "_sha3               csv                 numexpr             sys\n",
      "_sha512             ctypes              numpy               sysconfig\n",
      "_signal             curl                numpydoc            syslog\n",
      "_sitebuiltins       curses              olefile             tables\n",
      "_socket             cycler              opcode              tabnanny\n",
      "_sqlite3            cython              openpyxl            tarfile\n",
      "_sre                cythonmagic         operator            tblib\n",
      "_ssl                cytoolz             optparse            telnetlib\n",
      "_stat               dask                os                  tempfile\n",
      "_statistics         dataclasses         ossaudiodev         terminado\n",
      "_string             datetime            packaging           termios\n",
      "_strptime           dateutil            pandas              test\n",
      "_struct             dbm                 pandocfilters       test_data\n",
      "_symtable           decimal             parser              test_pycosat\n",
      "_sysconfigdata__linux_x86_64-linux-gnu decorator           parso               testpath\n",
      "_sysconfigdata_aarch64_conda_cos7_linux_gnu defusedxml          partd               tests\n",
      "_sysconfigdata_i686_conda_cos6_linux_gnu diff_match_patch    past                textwrap\n",
      "_sysconfigdata_powerpc64le_conda_cos7_linux_gnu difflib             path                this\n",
      "_sysconfigdata_x86_64_apple_darwin13_4_0 dis                 pathlib             threading\n",
      "_sysconfigdata_x86_64_conda_cos6_linux_gnu distributed         pathlib2            threadpoolctl\n",
      "_testbuffer         distutils           pathtools           time\n",
      "_testcapi           doctest             patsy               timeit\n",
      "_testimportmultiple docutils            pdb                 tkinter\n",
      "_testinternalcapi   dummy_threading     pep8                tlz\n",
      "_testmultiphase     easy_install        pexpect             token\n",
      "_thread             email               pickle              tokenize\n",
      "_threading_local    encodings           pickleshare         toml\n",
      "_tkinter            ensurepip           pickletools         toolz\n",
      "_tracemalloc        entrypoints         pip                 tornado\n",
      "_warnings           enum                pipes               tqdm\n",
      "_weakref            errno               pkg_resources       trace\n",
      "_weakrefset         et_xmlfile          pkginfo             traceback\n",
      "_xxsubinterpreters  fastcache           pkgutil             tracemalloc\n",
      "_xxtestfuzz         faulthandler        platform            traitlets\n",
      "_yaml               fcntl               plistlib            tty\n",
      "abc                 filecmp             pluggy              turtle\n",
      "aifc                fileinput           ply                 turtledemo\n",
      "alabaster           filelock            poplib              types\n",
      "altgraph            flake8              posix               typing\n",
      "anaconda_navigator  flask               posixpath           typing_extensions\n",
      "anaconda_project    fnmatch             pprint              ujson\n",
      "antigravity         formatter           profile             unicodecsv\n",
      "argh                fractions           prometheus_client   unicodedata\n",
      "argparse            fsspec              prompt_toolkit      unittest\n",
      "array               ftplib              pstats              urllib\n",
      "asn1crypto          functools           psutil              urllib3\n",
      "ast                 future              pty                 uu\n",
      "astroid             gc                  ptyprocess          uuid\n",
      "astropy             genericpath         pvectorc            venv\n",
      "asynchat            getopt              pwd                 warnings\n",
      "asyncio             getpass             py                  watchdog\n",
      "asyncore            gettext             py_compile          wave\n",
      "atexit              gevent              pyclbr              wcwidth\n",
      "atomicwrites        glob                pycodestyle         weakref\n",
      "attr                glob2               pycosat             webbrowser\n",
      "audioop             gmpy2               pycparser           webencodings\n",
      "autopep8            greenlet            pycurl              werkzeug\n",
      "autoreload          grp                 pydoc               wheel\n",
      "babel               gzip                pydoc_data          widgetsnbextension\n",
      "backcall            h5py                pydocstyle          wrapt\n",
      "backports           hashlib             pyexpat             wsgiref\n",
      "base64              heapdict            pyflakes            wurlitzer\n",
      "bdb                 heapq               pygments            xdg\n",
      "binascii            hmac                pylab               xdrlib\n",
      "binhex              html                pylint              xlrd\n",
      "binstar_client      html5lib            pyls                xlsxwriter\n",
      "bisect              http                pyls_jsonrpc        xlwt\n",
      "bitarray            idlelib             pyodbc              xml\n",
      "bkcharts            idna                pyparsing           xmlrpc\n",
      "bleach              imageio             pyrsistent          xmltodict\n",
      "bokeh               imagesize           pytest              xxlimited\n",
      "boto                imaplib             pytz                xxsubtype\n",
      "bottleneck          imghdr              pywt                yaml\n",
      "brain_argparse      imp                 pyximport           yapf\n",
      "brain_attrs         importlib           qdarkstyle          yapftests\n",
      "brain_boto3         importlib_metadata  qtawesome           zict\n",
      "brain_builtin_inference inspect             qtconsole           zipapp\n",
      "brain_collections   intervaltree        qtpy                zipfile\n",
      "brain_crypt         io                  queue               zipimport\n",
      "brain_curses        ipaddress           quopri              zipp\n",
      "brain_dataclasses   ipykernel           random              zlib\n",
      "brain_dateutil      ipykernel_launcher  re                  zmq\n",
      "brain_fstrings      ipython_genutils    readline            zope\n",
      "brain_functools     ipywidgets          regex               \n",
      "brain_gi            isort               reprlib             \n",
      "brain_hashlib       isympy              requests            \n",
      "\n",
      "Enter any module name to get more help.  Or, type \"modules spam\" to search\n",
      "for modules whose name or summary contain the string \"spam\".\n",
      "\n"
     ]
    },
    {
     "name": "stdout",
     "output_type": "stream",
     "text": [
      "help> \n",
      "\n",
      "You are now leaving help and returning to the Python interpreter.\n",
      "If you want to ask for help on a particular object directly from the\n",
      "interpreter, you can type \"help(object)\".  Executing \"help('string')\"\n",
      "has the same effect as typing a particular string at the help> prompt.\n"
     ]
    }
   ],
   "source": [
    "help()"
   ]
  },
  {
   "cell_type": "code",
   "execution_count": 70,
   "metadata": {},
   "outputs": [],
   "source": [
    "import math"
   ]
  },
  {
   "cell_type": "code",
   "execution_count": 72,
   "metadata": {},
   "outputs": [
    {
     "data": {
      "text/plain": [
       "-0.4161468365471424"
      ]
     },
     "execution_count": 72,
     "metadata": {},
     "output_type": "execute_result"
    }
   ],
   "source": [
    "math.cos(2)"
   ]
  },
  {
   "cell_type": "code",
   "execution_count": 73,
   "metadata": {},
   "outputs": [
    {
     "data": {
      "text/plain": [
       "0.1411200080598672"
      ]
     },
     "execution_count": 73,
     "metadata": {},
     "output_type": "execute_result"
    }
   ],
   "source": [
    "math.sin(3)"
   ]
  },
  {
   "cell_type": "code",
   "execution_count": 74,
   "metadata": {},
   "outputs": [
    {
     "data": {
      "text/plain": [
       "2.4849066497880004"
      ]
     },
     "execution_count": 74,
     "metadata": {},
     "output_type": "execute_result"
    }
   ],
   "source": [
    "math.log(12)"
   ]
  },
  {
   "cell_type": "code",
   "execution_count": 75,
   "metadata": {},
   "outputs": [
    {
     "data": {
      "text/plain": [
       "2.0"
      ]
     },
     "execution_count": 75,
     "metadata": {},
     "output_type": "execute_result"
    }
   ],
   "source": [
    "math.sqrt(4)"
   ]
  },
  {
   "cell_type": "code",
   "execution_count": 76,
   "metadata": {},
   "outputs": [
    {
     "name": "stdout",
     "output_type": "stream",
     "text": [
      "Help on module math:\n",
      "\n",
      "NAME\n",
      "    math\n",
      "\n",
      "MODULE REFERENCE\n",
      "    https://docs.python.org/3.8/library/math\n",
      "    \n",
      "    The following documentation is automatically generated from the Python\n",
      "    source files.  It may be incomplete, incorrect or include features that\n",
      "    are considered implementation detail and may vary between Python\n",
      "    implementations.  When in doubt, consult the module reference at the\n",
      "    location listed above.\n",
      "\n",
      "DESCRIPTION\n",
      "    This module provides access to the mathematical functions\n",
      "    defined by the C standard.\n",
      "\n",
      "FUNCTIONS\n",
      "    acos(x, /)\n",
      "        Return the arc cosine (measured in radians) of x.\n",
      "    \n",
      "    acosh(x, /)\n",
      "        Return the inverse hyperbolic cosine of x.\n",
      "    \n",
      "    asin(x, /)\n",
      "        Return the arc sine (measured in radians) of x.\n",
      "    \n",
      "    asinh(x, /)\n",
      "        Return the inverse hyperbolic sine of x.\n",
      "    \n",
      "    atan(x, /)\n",
      "        Return the arc tangent (measured in radians) of x.\n",
      "    \n",
      "    atan2(y, x, /)\n",
      "        Return the arc tangent (measured in radians) of y/x.\n",
      "        \n",
      "        Unlike atan(y/x), the signs of both x and y are considered.\n",
      "    \n",
      "    atanh(x, /)\n",
      "        Return the inverse hyperbolic tangent of x.\n",
      "    \n",
      "    ceil(x, /)\n",
      "        Return the ceiling of x as an Integral.\n",
      "        \n",
      "        This is the smallest integer >= x.\n",
      "    \n",
      "    comb(n, k, /)\n",
      "        Number of ways to choose k items from n items without repetition and without order.\n",
      "        \n",
      "        Evaluates to n! / (k! * (n - k)!) when k <= n and evaluates\n",
      "        to zero when k > n.\n",
      "        \n",
      "        Also called the binomial coefficient because it is equivalent\n",
      "        to the coefficient of k-th term in polynomial expansion of the\n",
      "        expression (1 + x)**n.\n",
      "        \n",
      "        Raises TypeError if either of the arguments are not integers.\n",
      "        Raises ValueError if either of the arguments are negative.\n",
      "    \n",
      "    copysign(x, y, /)\n",
      "        Return a float with the magnitude (absolute value) of x but the sign of y.\n",
      "        \n",
      "        On platforms that support signed zeros, copysign(1.0, -0.0)\n",
      "        returns -1.0.\n",
      "    \n",
      "    cos(x, /)\n",
      "        Return the cosine of x (measured in radians).\n",
      "    \n",
      "    cosh(x, /)\n",
      "        Return the hyperbolic cosine of x.\n",
      "    \n",
      "    degrees(x, /)\n",
      "        Convert angle x from radians to degrees.\n",
      "    \n",
      "    dist(p, q, /)\n",
      "        Return the Euclidean distance between two points p and q.\n",
      "        \n",
      "        The points should be specified as sequences (or iterables) of\n",
      "        coordinates.  Both inputs must have the same dimension.\n",
      "        \n",
      "        Roughly equivalent to:\n",
      "            sqrt(sum((px - qx) ** 2.0 for px, qx in zip(p, q)))\n",
      "    \n",
      "    erf(x, /)\n",
      "        Error function at x.\n",
      "    \n",
      "    erfc(x, /)\n",
      "        Complementary error function at x.\n",
      "    \n",
      "    exp(x, /)\n",
      "        Return e raised to the power of x.\n",
      "    \n",
      "    expm1(x, /)\n",
      "        Return exp(x)-1.\n",
      "        \n",
      "        This function avoids the loss of precision involved in the direct evaluation of exp(x)-1 for small x.\n",
      "    \n",
      "    fabs(x, /)\n",
      "        Return the absolute value of the float x.\n",
      "    \n",
      "    factorial(x, /)\n",
      "        Find x!.\n",
      "        \n",
      "        Raise a ValueError if x is negative or non-integral.\n",
      "    \n",
      "    floor(x, /)\n",
      "        Return the floor of x as an Integral.\n",
      "        \n",
      "        This is the largest integer <= x.\n",
      "    \n",
      "    fmod(x, y, /)\n",
      "        Return fmod(x, y), according to platform C.\n",
      "        \n",
      "        x % y may differ.\n",
      "    \n",
      "    frexp(x, /)\n",
      "        Return the mantissa and exponent of x, as pair (m, e).\n",
      "        \n",
      "        m is a float and e is an int, such that x = m * 2.**e.\n",
      "        If x is 0, m and e are both 0.  Else 0.5 <= abs(m) < 1.0.\n",
      "    \n",
      "    fsum(seq, /)\n",
      "        Return an accurate floating point sum of values in the iterable seq.\n",
      "        \n",
      "        Assumes IEEE-754 floating point arithmetic.\n",
      "    \n",
      "    gamma(x, /)\n",
      "        Gamma function at x.\n",
      "    \n",
      "    gcd(x, y, /)\n",
      "        greatest common divisor of x and y\n",
      "    \n",
      "    hypot(...)\n",
      "        hypot(*coordinates) -> value\n",
      "        \n",
      "        Multidimensional Euclidean distance from the origin to a point.\n",
      "        \n",
      "        Roughly equivalent to:\n",
      "            sqrt(sum(x**2 for x in coordinates))\n",
      "        \n",
      "        For a two dimensional point (x, y), gives the hypotenuse\n",
      "        using the Pythagorean theorem:  sqrt(x*x + y*y).\n",
      "        \n",
      "        For example, the hypotenuse of a 3/4/5 right triangle is:\n",
      "        \n",
      "            >>> hypot(3.0, 4.0)\n",
      "            5.0\n",
      "    \n",
      "    isclose(a, b, *, rel_tol=1e-09, abs_tol=0.0)\n",
      "        Determine whether two floating point numbers are close in value.\n",
      "        \n",
      "          rel_tol\n",
      "            maximum difference for being considered \"close\", relative to the\n",
      "            magnitude of the input values\n",
      "          abs_tol\n",
      "            maximum difference for being considered \"close\", regardless of the\n",
      "            magnitude of the input values\n",
      "        \n",
      "        Return True if a is close in value to b, and False otherwise.\n",
      "        \n",
      "        For the values to be considered close, the difference between them\n",
      "        must be smaller than at least one of the tolerances.\n",
      "        \n",
      "        -inf, inf and NaN behave similarly to the IEEE 754 Standard.  That\n",
      "        is, NaN is not close to anything, even itself.  inf and -inf are\n",
      "        only close to themselves.\n",
      "    \n",
      "    isfinite(x, /)\n",
      "        Return True if x is neither an infinity nor a NaN, and False otherwise.\n",
      "    \n",
      "    isinf(x, /)\n",
      "        Return True if x is a positive or negative infinity, and False otherwise.\n",
      "    \n",
      "    isnan(x, /)\n",
      "        Return True if x is a NaN (not a number), and False otherwise.\n",
      "    \n",
      "    isqrt(n, /)\n",
      "        Return the integer part of the square root of the input.\n",
      "    \n",
      "    ldexp(x, i, /)\n",
      "        Return x * (2**i).\n",
      "        \n",
      "        This is essentially the inverse of frexp().\n",
      "    \n",
      "    lgamma(x, /)\n",
      "        Natural logarithm of absolute value of Gamma function at x.\n",
      "    \n",
      "    log(...)\n",
      "        log(x, [base=math.e])\n",
      "        Return the logarithm of x to the given base.\n",
      "        \n",
      "        If the base not specified, returns the natural logarithm (base e) of x.\n",
      "    \n",
      "    log10(x, /)\n",
      "        Return the base 10 logarithm of x.\n",
      "    \n",
      "    log1p(x, /)\n",
      "        Return the natural logarithm of 1+x (base e).\n",
      "        \n",
      "        The result is computed in a way which is accurate for x near zero.\n",
      "    \n",
      "    log2(x, /)\n",
      "        Return the base 2 logarithm of x.\n",
      "    \n",
      "    modf(x, /)\n",
      "        Return the fractional and integer parts of x.\n",
      "        \n",
      "        Both results carry the sign of x and are floats.\n",
      "    \n",
      "    perm(n, k=None, /)\n",
      "        Number of ways to choose k items from n items without repetition and with order.\n",
      "        \n",
      "        Evaluates to n! / (n - k)! when k <= n and evaluates\n",
      "        to zero when k > n.\n",
      "        \n",
      "        If k is not specified or is None, then k defaults to n\n",
      "        and the function returns n!.\n",
      "        \n",
      "        Raises TypeError if either of the arguments are not integers.\n",
      "        Raises ValueError if either of the arguments are negative.\n",
      "    \n",
      "    pow(x, y, /)\n",
      "        Return x**y (x to the power of y).\n",
      "    \n",
      "    prod(iterable, /, *, start=1)\n",
      "        Calculate the product of all the elements in the input iterable.\n",
      "        \n",
      "        The default start value for the product is 1.\n",
      "        \n",
      "        When the iterable is empty, return the start value.  This function is\n",
      "        intended specifically for use with numeric values and may reject\n",
      "        non-numeric types.\n",
      "    \n",
      "    radians(x, /)\n",
      "        Convert angle x from degrees to radians.\n",
      "    \n",
      "    remainder(x, y, /)\n",
      "        Difference between x and the closest integer multiple of y.\n",
      "        \n",
      "        Return x - n*y where n*y is the closest integer multiple of y.\n",
      "        In the case where x is exactly halfway between two multiples of\n",
      "        y, the nearest even value of n is used. The result is always exact.\n",
      "    \n",
      "    sin(x, /)\n",
      "        Return the sine of x (measured in radians).\n",
      "    \n",
      "    sinh(x, /)\n",
      "        Return the hyperbolic sine of x.\n",
      "    \n",
      "    sqrt(x, /)\n",
      "        Return the square root of x.\n",
      "    \n",
      "    tan(x, /)\n",
      "        Return the tangent of x (measured in radians).\n",
      "    \n",
      "    tanh(x, /)\n",
      "        Return the hyperbolic tangent of x.\n",
      "    \n",
      "    trunc(x, /)\n",
      "        Truncates the Real x to the nearest Integral toward 0.\n",
      "        \n",
      "        Uses the __trunc__ magic method.\n",
      "\n",
      "DATA\n",
      "    e = 2.718281828459045\n",
      "    inf = inf\n",
      "    nan = nan\n",
      "    pi = 3.141592653589793\n",
      "    tau = 6.283185307179586\n",
      "\n",
      "FILE\n",
      "    /home/arielthenon/Software/anaconda3/lib/python3.8/lib-dynload/math.cpython-38-x86_64-linux-gnu.so\n",
      "\n",
      "\n"
     ]
    }
   ],
   "source": [
    "help(math)"
   ]
  },
  {
   "cell_type": "code",
   "execution_count": 77,
   "metadata": {},
   "outputs": [
    {
     "name": "stdout",
     "output_type": "stream",
     "text": [
      "Help on built-in function cos in module math:\n",
      "\n",
      "cos(x, /)\n",
      "    Return the cosine of x (measured in radians).\n",
      "\n"
     ]
    }
   ],
   "source": [
    "help(math.cos)"
   ]
  },
  {
   "cell_type": "code",
   "execution_count": 78,
   "metadata": {},
   "outputs": [
    {
     "name": "stdout",
     "output_type": "stream",
     "text": [
      "\n",
      "Welcome to Python 3.8's help utility!\n",
      "\n",
      "If this is your first time using Python, you should definitely check out\n",
      "the tutorial on the Internet at https://docs.python.org/3.8/tutorial/.\n",
      "\n",
      "Enter the name of any module, keyword, or topic to get help on writing\n",
      "Python programs and using Python modules.  To quit this help utility and\n",
      "return to the interpreter, just type \"quit\".\n",
      "\n",
      "To get a list of available modules, keywords, symbols, or topics, type\n",
      "\"modules\", \"keywords\", \"symbols\", or \"topics\".  Each module also comes\n",
      "with a one-line summary of what it does; to list the modules whose name\n",
      "or summary contain a given string such as \"spam\", type \"modules spam\".\n",
      "\n",
      "help> topics\n",
      "\n",
      "Here is a list of available topics.  Enter any topic name to get more help.\n",
      "\n",
      "ASSERTION           DELETION            LOOPING             SHIFTING\n",
      "ASSIGNMENT          DICTIONARIES        MAPPINGMETHODS      SLICINGS\n",
      "ATTRIBUTEMETHODS    DICTIONARYLITERALS  MAPPINGS            SPECIALATTRIBUTES\n",
      "ATTRIBUTES          DYNAMICFEATURES     METHODS             SPECIALIDENTIFIERS\n",
      "AUGMENTEDASSIGNMENT ELLIPSIS            MODULES             SPECIALMETHODS\n",
      "BASICMETHODS        EXCEPTIONS          NAMESPACES          STRINGMETHODS\n",
      "BINARY              EXECUTION           NONE                STRINGS\n",
      "BITWISE             EXPRESSIONS         NUMBERMETHODS       SUBSCRIPTS\n",
      "BOOLEAN             FLOAT               NUMBERS             TRACEBACKS\n",
      "CALLABLEMETHODS     FORMATTING          OBJECTS             TRUTHVALUE\n",
      "CALLS               FRAMEOBJECTS        OPERATORS           TUPLELITERALS\n",
      "CLASSES             FRAMES              PACKAGES            TUPLES\n",
      "CODEOBJECTS         FUNCTIONS           POWER               TYPEOBJECTS\n",
      "COMPARISON          IDENTIFIERS         PRECEDENCE          TYPES\n",
      "COMPLEX             IMPORTING           PRIVATENAMES        UNARY\n",
      "CONDITIONAL         INTEGER             RETURNING           UNICODE\n",
      "CONTEXTMANAGERS     LISTLITERALS        SCOPING             \n",
      "CONVERSIONS         LISTS               SEQUENCEMETHODS     \n",
      "DEBUGGING           LITERALS            SEQUENCES           \n",
      "\n",
      "help> \n",
      "\n",
      "You are now leaving help and returning to the Python interpreter.\n",
      "If you want to ask for help on a particular object directly from the\n",
      "interpreter, you can type \"help(object)\".  Executing \"help('string')\"\n",
      "has the same effect as typing a particular string at the help> prompt.\n"
     ]
    }
   ],
   "source": [
    "help()"
   ]
  },
  {
   "cell_type": "code",
   "execution_count": 81,
   "metadata": {},
   "outputs": [
    {
     "name": "stdout",
     "output_type": "stream",
     "text": [
      "3.141592653589793 2.718281828459045\n"
     ]
    }
   ],
   "source": [
    "print(math.pi, math.e)"
   ]
  },
  {
   "cell_type": "code",
   "execution_count": 82,
   "metadata": {},
   "outputs": [],
   "source": [
    "import random"
   ]
  },
  {
   "cell_type": "code",
   "execution_count": 88,
   "metadata": {},
   "outputs": [
    {
     "data": {
      "text/plain": [
       "0.6897335785860252"
      ]
     },
     "execution_count": 88,
     "metadata": {},
     "output_type": "execute_result"
    }
   ],
   "source": [
    "random.random()"
   ]
  },
  {
   "cell_type": "code",
   "execution_count": 90,
   "metadata": {},
   "outputs": [
    {
     "name": "stdout",
     "output_type": "stream",
     "text": [
      "0.34499000134341495\n",
      "0.9421815153276446\n",
      "0.6511242045521647\n",
      "0.7374466319100508\n",
      "0.8945994919082052\n",
      "0.012950660521797608\n",
      "0.4086468515845654\n",
      "0.9095122845076967\n",
      "0.1067711716542118\n",
      "0.7923512645162768\n"
     ]
    }
   ],
   "source": [
    "for i in range(10):\n",
    "    print(random.random())"
   ]
  },
  {
   "cell_type": "code",
   "execution_count": 91,
   "metadata": {},
   "outputs": [
    {
     "name": "stdout",
     "output_type": "stream",
     "text": [
      "0.807526337197583\n",
      "0.8743889929891333\n",
      "0.9994106950024305\n",
      "0.9271170953174986\n",
      "0.9998565227873738\n",
      "0.7324669526132362\n",
      "0.8419304151414849\n",
      "0.6837424676872363\n",
      "0.7709255349459462\n",
      "0.9245260691150593\n"
     ]
    }
   ],
   "source": [
    "for i in range(10):\n",
    "    print(math.cos(random.random()))"
   ]
  },
  {
   "cell_type": "code",
   "execution_count": 92,
   "metadata": {},
   "outputs": [
    {
     "name": "stdout",
     "output_type": "stream",
     "text": [
      "3\n",
      "2\n",
      "4\n",
      "5\n",
      "3\n",
      "5\n",
      "5\n",
      "6\n",
      "7\n",
      "7\n"
     ]
    }
   ],
   "source": [
    "for i in range(10):\n",
    "    print(random.randint(1,9))"
   ]
  },
  {
   "cell_type": "code",
   "execution_count": 101,
   "metadata": {},
   "outputs": [
    {
     "data": {
      "text/plain": [
       "'tijera'"
      ]
     },
     "execution_count": 101,
     "metadata": {},
     "output_type": "execute_result"
    }
   ],
   "source": [
    "random.choice([\"piedra\", \"papel\", \"tijera\"])"
   ]
  },
  {
   "cell_type": "code",
   "execution_count": 103,
   "metadata": {},
   "outputs": [
    {
     "name": "stdout",
     "output_type": "stream",
     "text": [
      "tijera\n",
      "papel\n",
      "papel\n",
      "papel\n",
      "papel\n",
      "tijera\n",
      "piedra\n",
      "papel\n",
      "piedra\n",
      "tijera\n"
     ]
    }
   ],
   "source": [
    "for i in range(10):\n",
    "    print(random.choice([\"piedra\", \"papel\", \"tijera\"]))"
   ]
  },
  {
   "cell_type": "code",
   "execution_count": null,
   "metadata": {},
   "outputs": [],
   "source": []
  },
  {
   "cell_type": "markdown",
   "metadata": {},
   "source": [
    "Si quisiéramos importar solamente las funciones que debemos utilizar en lugar de cargar todo el módulo en la memoria podemos hacerlo de la siguiente manera.\n",
    "\n",
    "```python\n",
    "from math import sin, cos\n",
    "```\n",
    "\n",
    "Ahora podríamos usar las funciones `sin` y `cos` directamente sin referenciarlas a través de `math`, porque ahora no es `math` lo que está cargado en memoria, sino cada una de las funciones."
   ]
  },
  {
   "cell_type": "code",
   "execution_count": 3,
   "metadata": {},
   "outputs": [],
   "source": [
    "from math import cos, log"
   ]
  },
  {
   "cell_type": "code",
   "execution_count": 4,
   "metadata": {},
   "outputs": [
    {
     "data": {
      "text/plain": [
       "(-0.5328330203333975, 2.4849066497880004)"
      ]
     },
     "execution_count": 4,
     "metadata": {},
     "output_type": "execute_result"
    }
   ],
   "source": [
    "cos(23), log(12)"
   ]
  },
  {
   "cell_type": "code",
   "execution_count": 5,
   "metadata": {},
   "outputs": [
    {
     "ename": "NameError",
     "evalue": "name 'sin' is not defined",
     "output_type": "error",
     "traceback": [
      "\u001b[0;31m---------------------------------------------------------------------------\u001b[0m",
      "\u001b[0;31mNameError\u001b[0m                                 Traceback (most recent call last)",
      "\u001b[0;32m<ipython-input-5-2b5fc2868c51>\u001b[0m in \u001b[0;36m<module>\u001b[0;34m\u001b[0m\n\u001b[0;32m----> 1\u001b[0;31m \u001b[0msin\u001b[0m\u001b[0;34m(\u001b[0m\u001b[0;36m3\u001b[0m\u001b[0;34m)\u001b[0m\u001b[0;34m\u001b[0m\u001b[0;34m\u001b[0m\u001b[0m\n\u001b[0m",
      "\u001b[0;31mNameError\u001b[0m: name 'sin' is not defined"
     ]
    }
   ],
   "source": [
    "sin(3)"
   ]
  },
  {
   "cell_type": "code",
   "execution_count": 7,
   "metadata": {},
   "outputs": [
    {
     "ename": "NameError",
     "evalue": "name 'math' is not defined",
     "output_type": "error",
     "traceback": [
      "\u001b[0;31m---------------------------------------------------------------------------\u001b[0m",
      "\u001b[0;31mNameError\u001b[0m                                 Traceback (most recent call last)",
      "\u001b[0;32m<ipython-input-7-2b35fc4e0c25>\u001b[0m in \u001b[0;36m<module>\u001b[0;34m\u001b[0m\n\u001b[0;32m----> 1\u001b[0;31m \u001b[0mmath\u001b[0m\u001b[0;34m.\u001b[0m\u001b[0msin\u001b[0m\u001b[0;34m(\u001b[0m\u001b[0;36m32\u001b[0m\u001b[0;34m)\u001b[0m\u001b[0;34m\u001b[0m\u001b[0;34m\u001b[0m\u001b[0m\n\u001b[0m",
      "\u001b[0;31mNameError\u001b[0m: name 'math' is not defined"
     ]
    }
   ],
   "source": [
    "math.sin(32)"
   ]
  },
  {
   "cell_type": "code",
   "execution_count": 8,
   "metadata": {},
   "outputs": [
    {
     "ename": "NameError",
     "evalue": "name 'math' is not defined",
     "output_type": "error",
     "traceback": [
      "\u001b[0;31m---------------------------------------------------------------------------\u001b[0m",
      "\u001b[0;31mNameError\u001b[0m                                 Traceback (most recent call last)",
      "\u001b[0;32m<ipython-input-8-2297999f6c16>\u001b[0m in \u001b[0;36m<module>\u001b[0;34m\u001b[0m\n\u001b[0;32m----> 1\u001b[0;31m \u001b[0mmath\u001b[0m\u001b[0;34m.\u001b[0m\u001b[0mcos\u001b[0m\u001b[0;34m(\u001b[0m\u001b[0;36m1\u001b[0m\u001b[0;34m)\u001b[0m\u001b[0;34m\u001b[0m\u001b[0;34m\u001b[0m\u001b[0m\n\u001b[0m",
      "\u001b[0;31mNameError\u001b[0m: name 'math' is not defined"
     ]
    }
   ],
   "source": [
    "math.cos(1)"
   ]
  },
  {
   "cell_type": "code",
   "execution_count": null,
   "metadata": {},
   "outputs": [],
   "source": []
  },
  {
   "cell_type": "code",
   "execution_count": null,
   "metadata": {},
   "outputs": [],
   "source": []
  },
  {
   "cell_type": "markdown",
   "metadata": {},
   "source": [
    "Cuando importamos un módulo podemos renombrarlo como querramos para acortar los nombres y no tener que escribir tanto cada vez que lo usemos. Aquí algunos ejemplos típicos:\n",
    "\n",
    "```python\n",
    "import matplotlib.pyplot as plt\n",
    "import numpy as np\n",
    "import pandas as pd\n",
    "```"
   ]
  },
  {
   "cell_type": "code",
   "execution_count": 9,
   "metadata": {},
   "outputs": [],
   "source": [
    "import random as rd"
   ]
  },
  {
   "cell_type": "code",
   "execution_count": 10,
   "metadata": {},
   "outputs": [
    {
     "data": {
      "text/plain": [
       "7"
      ]
     },
     "execution_count": 10,
     "metadata": {},
     "output_type": "execute_result"
    }
   ],
   "source": [
    "rd.randint(1,9)"
   ]
  },
  {
   "cell_type": "code",
   "execution_count": 11,
   "metadata": {},
   "outputs": [
    {
     "ename": "NameError",
     "evalue": "name 'random' is not defined",
     "output_type": "error",
     "traceback": [
      "\u001b[0;31m---------------------------------------------------------------------------\u001b[0m",
      "\u001b[0;31mNameError\u001b[0m                                 Traceback (most recent call last)",
      "\u001b[0;32m<ipython-input-11-37991ae0363c>\u001b[0m in \u001b[0;36m<module>\u001b[0;34m\u001b[0m\n\u001b[0;32m----> 1\u001b[0;31m \u001b[0mrandom\u001b[0m\u001b[0;34m.\u001b[0m\u001b[0mrandint\u001b[0m\u001b[0;34m(\u001b[0m\u001b[0;36m1\u001b[0m\u001b[0;34m,\u001b[0m\u001b[0;36m9\u001b[0m\u001b[0;34m)\u001b[0m\u001b[0;34m\u001b[0m\u001b[0;34m\u001b[0m\u001b[0m\n\u001b[0m",
      "\u001b[0;31mNameError\u001b[0m: name 'random' is not defined"
     ]
    }
   ],
   "source": [
    "random.randint(1,9)"
   ]
  },
  {
   "cell_type": "code",
   "execution_count": 12,
   "metadata": {},
   "outputs": [
    {
     "name": "stdout",
     "output_type": "stream",
     "text": [
      "Variable   Type                          Data/Info\n",
      "--------------------------------------------------\n",
      "cos        builtin_function_or_method    <built-in function cos>\n",
      "log        builtin_function_or_method    <built-in function log>\n",
      "rd         module                        <module 'random' from '/h<...>lib/python3.8/random.py'>\n"
     ]
    }
   ],
   "source": [
    "%whos"
   ]
  },
  {
   "cell_type": "code",
   "execution_count": 13,
   "metadata": {},
   "outputs": [],
   "source": [
    "variable = 4"
   ]
  },
  {
   "cell_type": "code",
   "execution_count": 14,
   "metadata": {},
   "outputs": [
    {
     "name": "stdout",
     "output_type": "stream",
     "text": [
      "Variable   Type                          Data/Info\n",
      "--------------------------------------------------\n",
      "cos        builtin_function_or_method    <built-in function cos>\n",
      "log        builtin_function_or_method    <built-in function log>\n",
      "rd         module                        <module 'random' from '/h<...>lib/python3.8/random.py'>\n",
      "variable   int                           4\n"
     ]
    }
   ],
   "source": [
    "%whos"
   ]
  },
  {
   "cell_type": "code",
   "execution_count": 15,
   "metadata": {},
   "outputs": [],
   "source": [
    "del rd"
   ]
  },
  {
   "cell_type": "code",
   "execution_count": 16,
   "metadata": {},
   "outputs": [
    {
     "name": "stdout",
     "output_type": "stream",
     "text": [
      "Variable   Type                          Data/Info\n",
      "--------------------------------------------------\n",
      "cos        builtin_function_or_method    <built-in function cos>\n",
      "log        builtin_function_or_method    <built-in function log>\n",
      "variable   int                           4\n"
     ]
    }
   ],
   "source": [
    "%whos"
   ]
  },
  {
   "cell_type": "code",
   "execution_count": null,
   "metadata": {},
   "outputs": [],
   "source": []
  },
  {
   "cell_type": "code",
   "execution_count": null,
   "metadata": {},
   "outputs": [],
   "source": []
  },
  {
   "cell_type": "code",
   "execution_count": null,
   "metadata": {},
   "outputs": [],
   "source": []
  },
  {
   "cell_type": "code",
   "execution_count": 23,
   "metadata": {},
   "outputs": [
    {
     "name": "stdout",
     "output_type": "stream",
     "text": [
      "---Para registrar una venta ingrese 1\n",
      "---Para mostrar las ventas ingrese 2\n",
      "---Para mostrar total de ventas ingrese 3\n",
      "---Para salir ingrese 43\n",
      "El total de ventas es: 3100.0\n",
      "---Para registrar una venta ingrese 1\n",
      "---Para mostrar las ventas ingrese 2\n",
      "---Para mostrar total de ventas ingrese 3\n",
      "---Para salir ingrese 42\n",
      "*Pantalon: $800.0\n",
      "*Campera: $1550.0\n",
      "*Camisa: $750.0\n",
      "---Para registrar una venta ingrese 1\n",
      "---Para mostrar las ventas ingrese 2\n",
      "---Para mostrar total de ventas ingrese 3\n",
      "---Para salir ingrese 41\n",
      "Ingrese el nombre del producto: Remera\n",
      "Ingrese el precio del producto: 475\n",
      "---Para registrar una venta ingrese 1\n",
      "---Para mostrar las ventas ingrese 2\n",
      "---Para mostrar total de ventas ingrese 3\n",
      "---Para salir ingrese 42\n",
      "*Pantalon: $800.0\n",
      "*Campera: $1550.0\n",
      "*Camisa: $750.0\n",
      "*Remera: $475.0\n",
      "---Para registrar una venta ingrese 1\n",
      "---Para mostrar las ventas ingrese 2\n",
      "---Para mostrar total de ventas ingrese 3\n",
      "---Para salir ingrese 43\n",
      "El total de ventas es: 3575.0\n",
      "---Para registrar una venta ingrese 1\n",
      "---Para mostrar las ventas ingrese 2\n",
      "---Para mostrar total de ventas ingrese 3\n",
      "---Para salir ingrese 4dfgsdfg\n",
      "dfgsdfg no es una opcion válida. Intente nuevamente\n",
      "---Para registrar una venta ingrese 1\n",
      "---Para mostrar las ventas ingrese 2\n",
      "---Para mostrar total de ventas ingrese 3\n",
      "---Para salir ingrese 44\n"
     ]
    }
   ],
   "source": [
    "ventas = [['Pantalon', 800.0], ['Campera', 1550.0], [\"Camisa\", 750.0]]\n",
    "\n",
    "\n",
    "def registrar():\n",
    "    producto = input(\"Ingrese el nombre del producto: \")\n",
    "    precio = float(input(\"Ingrese el precio del producto: \"))\n",
    "    registro = [producto, precio]\n",
    "    ventas.append(registro)\n",
    "\n",
    "\n",
    "def mostrar():\n",
    "    for venta in ventas:\n",
    "        print(\"*\"+venta[0] + \": $\" + str(venta[1]))\n",
    "\n",
    "\n",
    "def total():\n",
    "    suma = 0\n",
    "    for venta in ventas:\n",
    "        suma = suma + venta[1]\n",
    "    print(\"El total de ventas es:\", suma)\n",
    "\n",
    "\n",
    "\n",
    "while True:\n",
    "    opcion = input(\"\"\"---Para registrar una venta ingrese 1\n",
    "---Para mostrar las ventas ingrese 2\n",
    "---Para mostrar total de ventas ingrese 3\n",
    "---Para salir ingrese 4\"\"\")\n",
    "    \n",
    "    if opcion == \"1\":\n",
    "        registrar()\n",
    "        \n",
    "    elif opcion == \"2\":\n",
    "        mostrar()\n",
    "        \n",
    "    elif opcion == \"3\":\n",
    "        total()\n",
    "        \n",
    "    elif opcion == \"4\":\n",
    "        break\n",
    "        \n",
    "    else:\n",
    "        print(opcion, \"no es una opcion válida. Intente nuevamente\")\n",
    "\n",
    "\n",
    "\n",
    "\n",
    "\n"
   ]
  },
  {
   "cell_type": "code",
   "execution_count": null,
   "metadata": {},
   "outputs": [],
   "source": []
  },
  {
   "cell_type": "code",
   "execution_count": 24,
   "metadata": {},
   "outputs": [],
   "source": [
    "import random as rd"
   ]
  },
  {
   "cell_type": "code",
   "execution_count": 25,
   "metadata": {},
   "outputs": [
    {
     "data": {
      "text/plain": [
       "2"
      ]
     },
     "execution_count": 25,
     "metadata": {},
     "output_type": "execute_result"
    }
   ],
   "source": []
  },
  {
   "cell_type": "code",
   "execution_count": 26,
   "metadata": {},
   "outputs": [],
   "source": [
    "def tira_dados(n):\n",
    "    dados = []\n",
    "    for i in range(n):\n",
    "        dados.append(rd.randint(1,6))\n",
    "    return dados"
   ]
  },
  {
   "cell_type": "code",
   "execution_count": 27,
   "metadata": {},
   "outputs": [
    {
     "name": "stdout",
     "output_type": "stream",
     "text": [
      "[]\n",
      "[1]\n",
      "[3, 4]\n",
      "[1, 5, 6]\n",
      "[5, 2, 2, 5]\n",
      "[3, 6, 1, 1, 2]\n",
      "[6, 5, 5, 4, 6, 3]\n",
      "[3, 2, 2, 4, 6, 5, 1]\n",
      "[2, 1, 2, 3, 1, 4, 5, 6]\n",
      "[6, 4, 1, 3, 1, 6, 6, 3, 4]\n"
     ]
    }
   ],
   "source": [
    "for i in range(10):\n",
    "    print(tira_dados(i))"
   ]
  },
  {
   "cell_type": "code",
   "execution_count": null,
   "metadata": {},
   "outputs": [],
   "source": []
  },
  {
   "cell_type": "code",
   "execution_count": 28,
   "metadata": {},
   "outputs": [
    {
     "name": "stdout",
     "output_type": "stream",
     "text": [
      "Cuantos dados desea tirar?: 4\n",
      "[2, 4, 3, 4]\n"
     ]
    }
   ],
   "source": [
    "num = int(input(\"Cuantos dados desea tirar?: \"))\n",
    "\n",
    "print(tira_dados(num))"
   ]
  },
  {
   "cell_type": "code",
   "execution_count": null,
   "metadata": {},
   "outputs": [],
   "source": []
  },
  {
   "cell_type": "code",
   "execution_count": null,
   "metadata": {},
   "outputs": [],
   "source": []
  },
  {
   "cell_type": "code",
   "execution_count": null,
   "metadata": {},
   "outputs": [],
   "source": []
  },
  {
   "cell_type": "code",
   "execution_count": null,
   "metadata": {},
   "outputs": [],
   "source": []
  },
  {
   "cell_type": "code",
   "execution_count": null,
   "metadata": {},
   "outputs": [],
   "source": []
  },
  {
   "cell_type": "code",
   "execution_count": null,
   "metadata": {},
   "outputs": [],
   "source": []
  },
  {
   "cell_type": "code",
   "execution_count": null,
   "metadata": {},
   "outputs": [],
   "source": []
  },
  {
   "cell_type": "code",
   "execution_count": null,
   "metadata": {},
   "outputs": [],
   "source": []
  },
  {
   "cell_type": "code",
   "execution_count": null,
   "metadata": {},
   "outputs": [],
   "source": []
  },
  {
   "cell_type": "code",
   "execution_count": null,
   "metadata": {},
   "outputs": [],
   "source": []
  },
  {
   "cell_type": "code",
   "execution_count": null,
   "metadata": {},
   "outputs": [],
   "source": []
  },
  {
   "cell_type": "markdown",
   "metadata": {},
   "source": [
    "## Formateo de texto\n",
    "\n",
    "Podemos formatear texto en Python utilizando el método `format`. Este método nos permite hacer substituciones dentro de otro string que se utiliza como \"plantilla\". Los lugares donde se debe insertar el texto (contenedores) son aclarados con llaves `{}`.\n",
    "\n",
    "```python\n",
    "nombre = 'Pedro'\n",
    "edad = 28\n",
    "\n",
    "texto = \"{} tiene {} años\".format(nombre, edad)\n",
    "\n",
    "print(texto)\n",
    "\n",
    ">>>Pedro tiene 28 años\n",
    "```"
   ]
  },
  {
   "cell_type": "code",
   "execution_count": null,
   "metadata": {},
   "outputs": [],
   "source": []
  },
  {
   "cell_type": "markdown",
   "metadata": {},
   "source": [
    "Los contenedores pueden estar vacíos, pueden contener un número que indica el índice del elemento a insertar entre la lista de parámetros y también pieden contener identificadores.\n",
    "\n",
    "\n",
    "```python\n",
    "nombre = 'Pedro'\n",
    "edad = 28\n",
    "empresa = \"Google\"\n",
    "\n",
    "texto1 = \"{} tiene {} años y trabaja en {}\".format(nombre, edad, empresa)\n",
    "\n",
    "texto2 = \"{2} tiene {0} años y trabaja en {1}\".format(edad, empresa, nombre)\n",
    "\n",
    "texto3 = \"{name} tiene {age} años y trabaja en {company}\".format(age =edad, company = empresa, name = nombre)\n",
    "\n",
    "print(texto1)\n",
    "print(texto2)\n",
    "print(texto3)\n",
    "\n",
    ">>>Pedro tiene 28 años y trabaja en Google\n",
    ">>>Pedro tiene 28 años y trabaja en Google\n",
    ">>>Pedro tiene 28 años y trabaja en Google\n",
    "```"
   ]
  },
  {
   "cell_type": "code",
   "execution_count": null,
   "metadata": {},
   "outputs": [],
   "source": []
  },
  {
   "cell_type": "code",
   "execution_count": null,
   "metadata": {},
   "outputs": [],
   "source": []
  },
  {
   "cell_type": "markdown",
   "metadata": {},
   "source": [
    "Existen numerosos tipos de formatos que se pueden poner en los contenedores, algunos muy útiles para trabajar con números"
   ]
  },
  {
   "cell_type": "code",
   "execution_count": null,
   "metadata": {},
   "outputs": [],
   "source": []
  },
  {
   "cell_type": "code",
   "execution_count": null,
   "metadata": {},
   "outputs": [],
   "source": []
  },
  {
   "cell_type": "code",
   "execution_count": null,
   "metadata": {},
   "outputs": [],
   "source": []
  },
  {
   "cell_type": "code",
   "execution_count": null,
   "metadata": {},
   "outputs": [],
   "source": []
  },
  {
   "cell_type": "code",
   "execution_count": null,
   "metadata": {},
   "outputs": [],
   "source": []
  },
  {
   "cell_type": "code",
   "execution_count": null,
   "metadata": {},
   "outputs": [],
   "source": []
  },
  {
   "cell_type": "code",
   "execution_count": null,
   "metadata": {},
   "outputs": [],
   "source": []
  },
  {
   "cell_type": "code",
   "execution_count": null,
   "metadata": {},
   "outputs": [],
   "source": []
  },
  {
   "cell_type": "code",
   "execution_count": null,
   "metadata": {},
   "outputs": [],
   "source": [
    "\n"
   ]
  },
  {
   "cell_type": "code",
   "execution_count": 68,
   "metadata": {},
   "outputs": [
    {
     "name": "stdout",
     "output_type": "stream",
     "text": [
      "1, 2 o 31\n",
      "Ingrese nombre: Lucia\n",
      "Ingrese nota: 8\n",
      "1, 2 o 31\n",
      "Ingrese nombre: Mariano\n",
      "Ingrese nota: 9\n",
      "1, 2 o 32\n",
      "{'Lucia': 8, 'Mariano': 9}\n",
      "1, 2 o 33\n"
     ]
    }
   ],
   "source": [
    "notas={}\n",
    "opcion = input(\"1, 2 o 3\")\n",
    "\n",
    "while opcion!=\"3\":\n",
    "    if opcion == \"1\":\n",
    "        nom=input(\"Ingrese nombre: \")\n",
    "        nota=int(input(\"Ingrese nota: \"))\n",
    "        notas[nom]=nota\n",
    "    elif opcion == \"2\":\n",
    "        print(notas)\n",
    "        \n",
    "    opcion = input(\"1, 2 o 3\")"
   ]
  },
  {
   "cell_type": "code",
   "execution_count": null,
   "metadata": {},
   "outputs": [],
   "source": []
  }
 ],
 "metadata": {
  "kernelspec": {
   "display_name": "Python 3",
   "language": "python",
   "name": "python3"
  },
  "language_info": {
   "codemirror_mode": {
    "name": "ipython",
    "version": 3
   },
   "file_extension": ".py",
   "mimetype": "text/x-python",
   "name": "python",
   "nbconvert_exporter": "python",
   "pygments_lexer": "ipython3",
   "version": "3.8.3"
  }
 },
 "nbformat": 4,
 "nbformat_minor": 2
}
