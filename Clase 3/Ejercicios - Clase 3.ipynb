{
 "cells": [
  {
   "cell_type": "markdown",
   "metadata": {},
   "source": [
    "# Ejercicios - Clase 3"
   ]
  },
  {
   "cell_type": "markdown",
   "metadata": {},
   "source": [
    "Hacer una función que imprima \"Hola mundo\" en pantalla."
   ]
  },
  {
   "cell_type": "code",
   "execution_count": null,
   "metadata": {},
   "outputs": [],
   "source": []
  },
  {
   "cell_type": "markdown",
   "metadata": {},
   "source": [
    "Hacer una función que tome un *nombre* como argumento e imprima \"Hola *nombre*\" en pantalla."
   ]
  },
  {
   "cell_type": "code",
   "execution_count": null,
   "metadata": {},
   "outputs": [],
   "source": []
  },
  {
   "cell_type": "markdown",
   "metadata": {},
   "source": [
    "Hacer una función que tome un *nombre* como argumento y retorne el string \"Hola *nombre*\". Luego imprimir ese string con la función print()."
   ]
  },
  {
   "cell_type": "code",
   "execution_count": null,
   "metadata": {},
   "outputs": [],
   "source": []
  },
  {
   "cell_type": "markdown",
   "metadata": {},
   "source": [
    "Hacer una función que tome un número entero y retorne True si el número es par y False si es impar."
   ]
  },
  {
   "cell_type": "code",
   "execution_count": null,
   "metadata": {},
   "outputs": [],
   "source": []
  },
  {
   "cell_type": "markdown",
   "metadata": {},
   "source": [
    "Supongamos que sólo las personas con número de DNI par están autorizadas a realizar cierta operación. Hacer una función que tome un *nombre* y un número de documento y usando la función del ejercicio anterior para chequear si el documento es par, imprima en pantalla un mensaje indicando si la persona puede realizar la operación."
   ]
  },
  {
   "cell_type": "code",
   "execution_count": null,
   "metadata": {},
   "outputs": [],
   "source": []
  },
  {
   "cell_type": "markdown",
   "metadata": {},
   "source": [
    "Hacer una función que tome una lista de números y retorne otra lista con los elementos de la anterior al cuadrado. Por ejemplo si toma la lista [0, 1, 2, 3, 4] debe devolver [0, 1, 4, 9, 16]."
   ]
  },
  {
   "cell_type": "code",
   "execution_count": null,
   "metadata": {},
   "outputs": [],
   "source": []
  },
  {
   "cell_type": "markdown",
   "metadata": {},
   "source": [
    "Hacer una función que tome un lista de números y un número entero y retorne otra lista con cada uno de los elemenos de la lista elevado al número entero. Por ejemplo si toma la lista [0, 1, 2, 3, 4] y el entero 3 debe devolver una lista con los cubos de cada elemento: [0, 1, 8, 27, 64]."
   ]
  },
  {
   "cell_type": "code",
   "execution_count": null,
   "metadata": {},
   "outputs": [],
   "source": []
  },
  {
   "cell_type": "markdown",
   "metadata": {},
   "source": [
    "Hacer una función que tome una lista de números y calcule el promedio de sus elementos."
   ]
  },
  {
   "cell_type": "code",
   "execution_count": null,
   "metadata": {},
   "outputs": [],
   "source": []
  },
  {
   "cell_type": "markdown",
   "metadata": {},
   "source": [
    "Hacer una función que tome una lista de números y un entero y use las funciones de los dos ejercicios anteriores para calcular el promedio de las potencias de los elementos de la lista. Por ejemplo si toma la lista [0, 1, 2, 3, 4] y el entero 3 debe devolver 20."
   ]
  },
  {
   "cell_type": "code",
   "execution_count": null,
   "metadata": {},
   "outputs": [],
   "source": []
  },
  {
   "cell_type": "markdown",
   "metadata": {},
   "source": [
    "Hacer una función que realice alguna operación utilizando tres funciones de la librería math (por ejemplo sin, cos, tan, log, log1, sqrt). "
   ]
  },
  {
   "cell_type": "code",
   "execution_count": null,
   "metadata": {},
   "outputs": [],
   "source": []
  },
  {
   "cell_type": "markdown",
   "metadata": {},
   "source": [
    "Pedirle al usuario que ingrese un número y aplicarle la función anterior. Luego imprimir un mensaje mostrando el resultado y utilizar el método `format` para mostrar sólo tres decimales"
   ]
  },
  {
   "cell_type": "code",
   "execution_count": null,
   "metadata": {},
   "outputs": [],
   "source": []
  },
  {
   "cell_type": "markdown",
   "metadata": {},
   "source": [
    "Similar al ejercicio anterior, pero que el usuario pueda decidir con cuantos decimales mostrar el resultado"
   ]
  },
  {
   "cell_type": "code",
   "execution_count": null,
   "metadata": {},
   "outputs": [],
   "source": []
  },
  {
   "cell_type": "markdown",
   "metadata": {},
   "source": [
    "Vamos a crear una matriz con números aleatorios. Pedir por consola que se ingrese el número de filas y columnas y utilizar la función `randint` de la librería `random` para llenar esa matriz con números aleatorios del 0 al 9"
   ]
  },
  {
   "cell_type": "code",
   "execution_count": null,
   "metadata": {},
   "outputs": [],
   "source": []
  },
  {
   "cell_type": "markdown",
   "metadata": {},
   "source": [
    "Ahora vamos a crear un código que va a simular el lanzamiento de una moneda. Para ello usar la función `choice` de la librería `random`. Luego imprimir en pantalla \"cara\" o \"ceca\""
   ]
  },
  {
   "cell_type": "code",
   "execution_count": null,
   "metadata": {},
   "outputs": [],
   "source": []
  },
  {
   "cell_type": "markdown",
   "metadata": {},
   "source": [
    "Pedir al usuario cuantas veces quiere lanzar una moneda y sumilar los lanzamientos con la función `choice`. Luego imprimir un mensaje usando el método format cuantas veces salió cara, cuantas veces salió ceca y la proporción cara/ceca con 4 decimales"
   ]
  },
  {
   "cell_type": "code",
   "execution_count": null,
   "metadata": {},
   "outputs": [],
   "source": []
  },
  {
   "cell_type": "markdown",
   "metadata": {},
   "source": [
    "Hacer un programa que le permita al usuario jugar al \"piedra, papel o tijera\" contra la computadora en forma aleatoria tantas veces como quiera, y al terminar el programa imprima cuantas veces ganó, cuantas perdió y cuantas empató"
   ]
  },
  {
   "cell_type": "code",
   "execution_count": null,
   "metadata": {},
   "outputs": [],
   "source": []
  },
  {
   "cell_type": "code",
   "execution_count": 3,
   "metadata": {},
   "outputs": [],
   "source": []
  },
  {
   "cell_type": "code",
   "execution_count": null,
   "metadata": {},
   "outputs": [],
   "source": []
  }
 ],
 "metadata": {
  "kernelspec": {
   "display_name": "Python 3",
   "language": "python",
   "name": "python3"
  },
  "language_info": {
   "codemirror_mode": {
    "name": "ipython",
    "version": 3
   },
   "file_extension": ".py",
   "mimetype": "text/x-python",
   "name": "python",
   "nbconvert_exporter": "python",
   "pygments_lexer": "ipython3",
   "version": "3.8.3"
  }
 },
 "nbformat": 4,
 "nbformat_minor": 4
}
