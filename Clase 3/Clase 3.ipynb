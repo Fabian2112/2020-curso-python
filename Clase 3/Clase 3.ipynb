{
 "cells": [
  {
   "cell_type": "markdown",
   "metadata": {},
   "source": [
    "# Clase 3 - Introducción a la programación en Python\n",
    "*Por Ariel Thenon*"
   ]
  },
  {
   "cell_type": "markdown",
   "metadata": {},
   "source": [
    "## Funciones \n",
    "\n",
    "Las funciones son bloques de código agrupados bajo un nombre y sólo son ejecutadas cuando son invocadas. Además pueden recibir parámetros y retornar un valor. Para definir una función se utiliza la palabra reservada `def`. Para retornar un valor hay que utilizar la palabra `return` en el bloque de código. Los parámetros que reciba la función los indicamos entre paréntesis.\n",
    "\n",
    "```python\n",
    "def mi_funcion(<parámetros>):\n",
    "    <Bloque de código>\n",
    "    <Para devolver un resultado>\n",
    "    <hay que usar la palabra return>\n",
    "```\n",
    "\n",
    "Por ejemplo, podemos hacer una función que calcule la raíz cuadrada de un número de la siguiente manera:\n",
    "\n",
    "```python\n",
    "def raiz_cuadrada(n):\n",
    "    return n**0.5\n",
    "```\n",
    "\n",
    "O si quisiéramos evaluar un polinomio en particular, por ejemplo cuadrático:\n",
    "\n",
    "```python\n",
    "def mi_polinomio(x):\n",
    "    return 3*x**2 + 2*x - 5\n",
    "```\n",
    "\n",
    "Aquí hacemos una función que toma un nombre como string y retorna otro string con un saludo:\n",
    "\n",
    "```python\n",
    "def saludo(nombre):\n",
    "    return 'Hola ' + nombre + '!'\n",
    "\n",
    "mensaje = saludo('Ariel')\n",
    "\n",
    "print(mensaje)\n",
    ">>>'Hola Ariel!'\n",
    "```\n",
    "\n",
    "No es necesario que una función reciba parámetros ni que devuelva algún valor. A continuación tenemos una función que siempre imprime el mismo mensaje:\n",
    "\n",
    "```python\n",
    "def bienvenida():\n",
    "    print(\"Hola a todos. Bienvenidos a la Clase 3 del curso\")\n",
    "\n",
    "bienvenida()\n",
    ">>>\"Hola a todos. Bienvenidos a la Clase 3 del curso\"\n",
    "```\n"
   ]
  },
  {
   "cell_type": "code",
   "execution_count": 4,
   "metadata": {},
   "outputs": [
    {
     "name": "stdout",
     "output_type": "stream",
     "text": [
      "el resultado de mi polinomio es 28\n"
     ]
    }
   ],
   "source": [
    "def mi_polinomio(x):\n",
    "    return 3*x**2+2*x-5\n",
    "print(\"el resultado de mi polinomio es\", mi_polinomio(3))"
   ]
  },
  {
   "cell_type": "code",
   "execution_count": 10,
   "metadata": {},
   "outputs": [
    {
     "name": "stdout",
     "output_type": "stream",
     "text": [
      "buenas noches fabian\n"
     ]
    }
   ],
   "source": [
    "def buenas_noches(nombre):\n",
    "    return \"buenas noches\"+nombre\n",
    "hello = buenas_noches(\" fabian\")\n",
    "print(hello)"
   ]
  },
  {
   "cell_type": "code",
   "execution_count": 13,
   "metadata": {},
   "outputs": [
    {
     "name": "stdout",
     "output_type": "stream",
     "text": [
      "Carlos es mayor de edad\n"
     ]
    }
   ],
   "source": [
    "def mayoria_de_edad(nombre,edad):\n",
    "    if edad<=18:\n",
    "        return nombre+\" es menor de edad\"\n",
    "    else:\n",
    "        return nombre+\" es mayor de edad\"\n",
    "\n",
    "print (mayoria_de_edad(\"Carlos\",32))"
   ]
  },
  {
   "cell_type": "markdown",
   "metadata": {},
   "source": [
    "hacer una funcion que tome nombre y edad y retornar un mensaje diciendo si está habilitado para votar y si su voto es obligatorio o no. Consideremos que los mayores de 16 pueden votar y es obligatorio en el rango de 18 a 65 años"
   ]
  },
  {
   "cell_type": "code",
   "execution_count": 30,
   "metadata": {},
   "outputs": [
    {
     "name": "stdout",
     "output_type": "stream",
     "text": [
      "Carlos no esta habilitado para votar\n"
     ]
    }
   ],
   "source": [
    "def votacion(nombre,edad):\n",
    "    if edad <16:\n",
    "        return nombre+\" no esta habilitado para votar\"\n",
    "    if 18<= edad <=65:\n",
    "        return nombre +\" su voto es obligatorio\"\n",
    "    else:\n",
    "        return nombre + \" esta habilitado pero no es obligatorio\"\n",
    "print(votacion(\"Carlos\",15))"
   ]
  },
  {
   "cell_type": "code",
   "execution_count": 34,
   "metadata": {},
   "outputs": [],
   "source": [
    "def cuadrados(lista):\n",
    "    resultado=[]\n",
    "    for num in lista:\n",
    "        resultado.append(num**2)\n",
    "    return resultado"
   ]
  },
  {
   "cell_type": "code",
   "execution_count": 35,
   "metadata": {},
   "outputs": [
    {
     "name": "stdout",
     "output_type": "stream",
     "text": [
      "[1, 25, 16, 15129, 302366914641, 576]\n"
     ]
    }
   ],
   "source": [
    "numeros = [1,5,4,123,549879,24]\n",
    "print(cuadrados(numeros))"
   ]
  },
  {
   "cell_type": "code",
   "execution_count": 36,
   "metadata": {},
   "outputs": [
    {
     "ename": "SyntaxError",
     "evalue": "invalid syntax (<ipython-input-36-3decf344df97>, line 4)",
     "output_type": "error",
     "traceback": [
      "\u001b[1;36m  File \u001b[1;32m\"<ipython-input-36-3decf344df97>\"\u001b[1;36m, line \u001b[1;32m4\u001b[0m\n\u001b[1;33m    girar.append (len(i::))\u001b[0m\n\u001b[1;37m                       ^\u001b[0m\n\u001b[1;31mSyntaxError\u001b[0m\u001b[1;31m:\u001b[0m invalid syntax\n"
     ]
    }
   ],
   "source": [
    "def inversion(lista):\n",
    "    girar=[]\n",
    "    for i in lista:\n",
    "        girar.append (len(i)::-1))\n",
    "    return girar\n",
    "        "
   ]
  },
  {
   "cell_type": "code",
   "execution_count": null,
   "metadata": {},
   "outputs": [],
   "source": []
  },
  {
   "cell_type": "code",
   "execution_count": null,
   "metadata": {},
   "outputs": [],
   "source": []
  },
  {
   "cell_type": "markdown",
   "metadata": {},
   "source": [
    "Las funciones pueden recibir varios parámetros si es necesario.\n",
    "\n",
    "```python\n",
    "def raiz_enesima(x, n):\n",
    "    return x**(1/n)\n",
    "```\n"
   ]
  },
  {
   "cell_type": "code",
   "execution_count": null,
   "metadata": {},
   "outputs": [],
   "source": []
  },
  {
   "cell_type": "code",
   "execution_count": null,
   "metadata": {},
   "outputs": [],
   "source": []
  },
  {
   "cell_type": "code",
   "execution_count": null,
   "metadata": {},
   "outputs": [],
   "source": []
  },
  {
   "cell_type": "code",
   "execution_count": null,
   "metadata": {},
   "outputs": [],
   "source": []
  },
  {
   "cell_type": "markdown",
   "metadata": {},
   "source": [
    "defina una función que tome una lista de números y un número y eleve todos sus elementos a ese número y devuelva el promedio de esas potencias"
   ]
  },
  {
   "cell_type": "code",
   "execution_count": 39,
   "metadata": {},
   "outputs": [
    {
     "name": "stdout",
     "output_type": "stream",
     "text": [
      "18.0\n"
     ]
    }
   ],
   "source": [
    "def promedio(lista):\n",
    "    suma = 0\n",
    "    for i in lista:\n",
    "        suma = suma + i**2\n",
    "        \n",
    "    promedio = suma / len(lista)\n",
    "    return promedio\n",
    "\n",
    "print (promedio([5,4,6,3,2]))"
   ]
  },
  {
   "cell_type": "code",
   "execution_count": 21,
   "metadata": {},
   "outputs": [
    {
     "name": "stdout",
     "output_type": "stream",
     "text": [
      "20\n"
     ]
    }
   ],
   "source": [
    "def suma(lista):\n",
    "    num = 0\n",
    "    for i in lista:\n",
    "        num = num + i\n",
    "\n",
    "    return num\n",
    "\n",
    "print (suma([5,4,6,3,2]))"
   ]
  },
  {
   "cell_type": "code",
   "execution_count": 44,
   "metadata": {},
   "outputs": [
    {
     "name": "stdout",
     "output_type": "stream",
     "text": [
      "1.3846792064073079e+19\n"
     ]
    }
   ],
   "source": [
    "def funcion(lista,exp):\n",
    "    potencias=[]\n",
    "    for i in lista:\n",
    "        potencias.append(i**exp)\n",
    "    return promedio(potencias)\n",
    "print(funcion([1,65,7,98,44,0],5))"
   ]
  },
  {
   "cell_type": "code",
   "execution_count": 45,
   "metadata": {},
   "outputs": [],
   "source": [
    "def dividendos(monto,gan=.1):\n",
    "    return monto*(1+gan)"
   ]
  },
  {
   "cell_type": "code",
   "execution_count": 49,
   "metadata": {},
   "outputs": [
    {
     "name": "stdout",
     "output_type": "stream",
     "text": [
      "165.0\n"
     ]
    }
   ],
   "source": [
    "print (dividendos(150))"
   ]
  },
  {
   "cell_type": "code",
   "execution_count": 35,
   "metadata": {},
   "outputs": [
    {
     "name": "stdout",
     "output_type": "stream",
     "text": [
      "ingrese su sueldo neto: 47000\n",
      "ingrese sus cargas sociales, en %: 16.57\n",
      "su sueldo bruto es $ 54787\n",
      "su sueldo bruto es $ 54787.9\n"
     ]
    }
   ],
   "source": [
    "monto=float(input(\"ingrese su sueldo neto: \"))\n",
    "cargas=float(input(\"ingrese sus cargas sociales, en %: \"))\n",
    "print(\"su sueldo bruto es $\",int(monto*(1+cargas/100)))\n",
    "print(\"su sueldo bruto es $\",float(monto*(1+cargas/100)))"
   ]
  },
  {
   "cell_type": "code",
   "execution_count": 4,
   "metadata": {},
   "outputs": [
    {
     "name": "stdout",
     "output_type": "stream",
     "text": [
      "1 32 456 1 2 55\n"
     ]
    }
   ],
   "source": [
    "print (1,32,456,1,2,55)"
   ]
  },
  {
   "cell_type": "code",
   "execution_count": 5,
   "metadata": {},
   "outputs": [
    {
     "name": "stdout",
     "output_type": "stream",
     "text": [
      "1*/*32*/*456*/*1*/*2*/*55\n"
     ]
    }
   ],
   "source": [
    "print (1,32,456,1,2,55, sep=\"*/*\")"
   ]
  },
  {
   "cell_type": "code",
   "execution_count": 27,
   "metadata": {},
   "outputs": [
    {
     "name": "stdout",
     "output_type": "stream",
     "text": [
      "20\n"
     ]
    }
   ],
   "source": [
    "def suma(lista):\n",
    "    num = 0\n",
    "    for i in lista:\n",
    "        num = num + i\n",
    "\n",
    "    return num\n",
    "\n",
    "print (suma([5,4,6,3,2]))"
   ]
  },
  {
   "cell_type": "code",
   "execution_count": 25,
   "metadata": {},
   "outputs": [],
   "source": [
    "def multiplicar(lista):\n",
    "    multiplicacion=0\n",
    "    for i in lista:\n",
    "        multiplicacion=multiplicacion*i\n",
    "        \n",
    "    return multiplicacion"
   ]
  },
  {
   "cell_type": "code",
   "execution_count": 27,
   "metadata": {},
   "outputs": [
    {
     "name": "stdout",
     "output_type": "stream",
     "text": [
      "20\n"
     ]
    }
   ],
   "source": [
    "def suma(lista):\n",
    "    num = 0\n",
    "    for i in lista:\n",
    "        num = num + i\n",
    "\n",
    "    return num\n",
    "\n",
    "print (suma([5,4,6,3,2]))"
   ]
  },
  {
   "cell_type": "code",
   "execution_count": 26,
   "metadata": {},
   "outputs": [
    {
     "ename": "TypeError",
     "evalue": "multiplicar() takes 1 positional argument but 4 were given",
     "output_type": "error",
     "traceback": [
      "\u001b[1;31m---------------------------------------------------------------------------\u001b[0m",
      "\u001b[1;31mTypeError\u001b[0m                                 Traceback (most recent call last)",
      "\u001b[1;32m<ipython-input-26-3e5bc7deee13>\u001b[0m in \u001b[0;36m<module>\u001b[1;34m\u001b[0m\n\u001b[1;32m----> 1\u001b[1;33m \u001b[0mprint\u001b[0m \u001b[1;33m(\u001b[0m\u001b[0mmultiplicar\u001b[0m\u001b[1;33m(\u001b[0m\u001b[1;36m5\u001b[0m\u001b[1;33m,\u001b[0m\u001b[1;36m2\u001b[0m\u001b[1;33m,\u001b[0m\u001b[1;36m5\u001b[0m\u001b[1;33m,\u001b[0m\u001b[1;36m3\u001b[0m\u001b[1;33m)\u001b[0m\u001b[1;33m)\u001b[0m\u001b[1;33m\u001b[0m\u001b[1;33m\u001b[0m\u001b[0m\n\u001b[0m",
      "\u001b[1;31mTypeError\u001b[0m: multiplicar() takes 1 positional argument but 4 were given"
     ]
    }
   ],
   "source": [
    "print (multiplicar(5,2,5,3))"
   ]
  },
  {
   "cell_type": "markdown",
   "metadata": {},
   "source": [
    "## Módulos\n",
    "\n",
    "Python viene con una gran cantidad de módulos instalados que podemos utlilizar. Muchos más se pueden descargar de internet. Podemos pensar en los módulos como grandes archivos de código escritos por otras personas con una cantidad de funcionalidades listas para usar. Por ejemplo, un módulo puede tener varias funciones implementadas que nos interesa usar en nuestro código.\n",
    "\n",
    "Los módulos están almacenados en el disco rígido. Para poder utilizarlos hay que cargarlos en la memoria RAM, es decir, hay que importarlos. Para eso utilizamos la palabra `import`.\n",
    "\n",
    "Existe el módulo `math`que implementa numerosas funciones matemáticas. Para importarlo escribimos\n",
    "\n",
    "```python\n",
    "import math\n",
    "```\n",
    "\n",
    "Luego de esto habremos cargado el módulo en la memoria. \n",
    "\n",
    "`math` contiene funciones a las que podemos acceder. Pero para ello debemos hacerlo con la sintaxis `math.funcion()` para indicarle a Python que debe buscar `funcion()` en el módulo `math`."
   ]
  },
  {
   "cell_type": "code",
   "execution_count": null,
   "metadata": {},
   "outputs": [],
   "source": [
    "help()"
   ]
  },
  {
   "cell_type": "code",
   "execution_count": 1,
   "metadata": {},
   "outputs": [],
   "source": [
    "import math"
   ]
  },
  {
   "cell_type": "code",
   "execution_count": 2,
   "metadata": {},
   "outputs": [
    {
     "data": {
      "text/plain": [
       "-0.4161468365471424"
      ]
     },
     "execution_count": 2,
     "metadata": {},
     "output_type": "execute_result"
    }
   ],
   "source": [
    "math.cos(2)"
   ]
  },
  {
   "cell_type": "code",
   "execution_count": null,
   "metadata": {},
   "outputs": [],
   "source": []
  },
  {
   "cell_type": "markdown",
   "metadata": {},
   "source": [
    "Si quisiéramos importar solamente las funciones que debemos utilizar en lugar de cargar todo el módulo en la memoria podemos hacerlo de la siguiente manera.\n",
    "\n",
    "```python\n",
    "from math import sin, cos\n",
    "```\n",
    "\n",
    "Ahora podríamos usar las funciones `sin` y `cos` directamente sin referenciarlas a través de `math`, porque ahora no es `math` lo que está cargado en memoria, sino cada una de las funciones."
   ]
  },
  {
   "cell_type": "code",
   "execution_count": null,
   "metadata": {},
   "outputs": [],
   "source": [
    "variablex"
   ]
  },
  {
   "cell_type": "code",
   "execution_count": 11,
   "metadata": {
    "scrolled": true
   },
   "outputs": [
    {
     "ename": "AttributeError",
     "evalue": "'builtin_function_or_method' object has no attribute 'choice'",
     "output_type": "error",
     "traceback": [
      "\u001b[1;31m---------------------------------------------------------------------------\u001b[0m",
      "\u001b[1;31mAttributeError\u001b[0m                            Traceback (most recent call last)",
      "\u001b[1;32m<ipython-input-11-d958bee791f2>\u001b[0m in \u001b[0;36m<module>\u001b[1;34m\u001b[0m\n\u001b[1;32m----> 1\u001b[1;33m \u001b[0mrandom\u001b[0m\u001b[1;33m.\u001b[0m\u001b[0mchoice\u001b[0m \u001b[1;33m(\u001b[0m\u001b[1;33m[\u001b[0m\u001b[1;34m\"1\"\u001b[0m\u001b[1;33m,\u001b[0m\u001b[1;34m\"2\"\u001b[0m\u001b[1;33m,\u001b[0m\u001b[1;34m\"3\"\u001b[0m\u001b[1;33m,\u001b[0m\u001b[1;34m\"52\"\u001b[0m\u001b[1;33m,\u001b[0m\u001b[1;34m\"24\"\u001b[0m\u001b[1;33m,\u001b[0m\u001b[1;34m\"6\"\u001b[0m\u001b[1;33m]\u001b[0m\u001b[1;33m)\u001b[0m\u001b[1;33m\u001b[0m\u001b[1;33m\u001b[0m\u001b[0m\n\u001b[0m",
      "\u001b[1;31mAttributeError\u001b[0m: 'builtin_function_or_method' object has no attribute 'choice'"
     ]
    }
   ],
   "source": [
    "random.choice([\"1\",\"2\",\"3\",\"52\",\"24\",\"6\"])"
   ]
  },
  {
   "cell_type": "code",
   "execution_count": null,
   "metadata": {},
   "outputs": [],
   "source": []
  },
  {
   "cell_type": "code",
   "execution_count": null,
   "metadata": {},
   "outputs": [],
   "source": []
  },
  {
   "cell_type": "markdown",
   "metadata": {},
   "source": [
    "Cuando importamos un módulo podemos renombrarlo como querramos para acortar los nombres y no tener que escribir tanto cada vez que lo usemos. Aquí algunos ejemplos típicos:\n",
    "\n",
    "```python\n",
    "import matplotlib.pyplot as plt\n",
    "import numpy as np\n",
    "import pandas as pd\n",
    "```"
   ]
  },
  {
   "cell_type": "code",
   "execution_count": null,
   "metadata": {},
   "outputs": [
    {
     "name": "stdout",
     "output_type": "stream",
     "text": [
      "\n",
      "Welcome to Python 3.7's help utility!\n",
      "\n",
      "If this is your first time using Python, you should definitely check out\n",
      "the tutorial on the Internet at https://docs.python.org/3.7/tutorial/.\n",
      "\n",
      "Enter the name of any module, keyword, or topic to get help on writing\n",
      "Python programs and using Python modules.  To quit this help utility and\n",
      "return to the interpreter, just type \"quit\".\n",
      "\n",
      "To get a list of available modules, keywords, symbols, or topics, type\n",
      "\"modules\", \"keywords\", \"symbols\", or \"topics\".  Each module also comes\n",
      "with a one-line summary of what it does; to list the modules whose name\n",
      "or summary contain a given string such as \"spam\", type \"modules spam\".\n",
      "\n",
      "help> matplotlib\n"
     ]
    },
    {
     "name": "stderr",
     "output_type": "stream",
     "text": [
      "C:\\ProgramData\\Anaconda3\\lib\\pydoc.py:1053: MatplotlibDeprecationWarning: \n",
      "The examples.directory rcparam was deprecated in Matplotlib 3.0 and will be removed in 3.2. In the future, examples will be found relative to the 'datapath' directory.\n",
      "  return cram(stripid(repr(x)), self.maxother)\n",
      "C:\\ProgramData\\Anaconda3\\lib\\pydoc.py:1053: MatplotlibDeprecationWarning: \n",
      "The examples.directory rcparam was deprecated in Matplotlib 3.0 and will be removed in 3.2. In the future, examples will be found relative to the 'datapath' directory.\n",
      "  return cram(stripid(repr(x)), self.maxother)\n",
      "C:\\ProgramData\\Anaconda3\\lib\\pydoc.py:1053: MatplotlibDeprecationWarning: \n",
      "The examples.directory rcparam was deprecated in Matplotlib 3.0 and will be removed in 3.2. In the future, examples will be found relative to the 'datapath' directory.\n",
      "  return cram(stripid(repr(x)), self.maxother)\n"
     ]
    },
    {
     "name": "stdout",
     "output_type": "stream",
     "text": [
      "Help on package matplotlib:\n",
      "\n",
      "NAME\n",
      "    matplotlib - This is an object-oriented plotting library.\n",
      "\n",
      "DESCRIPTION\n",
      "    A procedural interface is provided by the companion pyplot module,\n",
      "    which may be imported directly, e.g.::\n",
      "    \n",
      "        import matplotlib.pyplot as plt\n",
      "    \n",
      "    or using ipython::\n",
      "    \n",
      "        ipython\n",
      "    \n",
      "    at your terminal, followed by::\n",
      "    \n",
      "        In [1]: %matplotlib\n",
      "        In [2]: import matplotlib.pyplot as plt\n",
      "    \n",
      "    at the ipython shell prompt.\n",
      "    \n",
      "    For the most part, direct use of the object-oriented library is\n",
      "    encouraged when programming; pyplot is primarily for working\n",
      "    interactively.  The\n",
      "    exceptions are the pyplot commands :func:`~matplotlib.pyplot.figure`,\n",
      "    :func:`~matplotlib.pyplot.subplot`,\n",
      "    :func:`~matplotlib.pyplot.subplots`, and\n",
      "    :func:`~pyplot.savefig`, which can greatly simplify scripting.\n",
      "    \n",
      "    Modules include:\n",
      "    \n",
      "        :mod:`matplotlib.axes`\n",
      "            defines the :class:`~matplotlib.axes.Axes` class.  Most pyplot\n",
      "            commands are wrappers for :class:`~matplotlib.axes.Axes`\n",
      "            methods.  The axes module is the highest level of OO access to\n",
      "            the library.\n",
      "    \n",
      "        :mod:`matplotlib.figure`\n",
      "            defines the :class:`~matplotlib.figure.Figure` class.\n",
      "    \n",
      "        :mod:`matplotlib.artist`\n",
      "            defines the :class:`~matplotlib.artist.Artist` base class for\n",
      "            all classes that draw things.\n",
      "    \n",
      "        :mod:`matplotlib.lines`\n",
      "            defines the :class:`~matplotlib.lines.Line2D` class for\n",
      "            drawing lines and markers\n",
      "    \n",
      "        :mod:`matplotlib.patches`\n",
      "            defines classes for drawing polygons\n",
      "    \n",
      "        :mod:`matplotlib.text`\n",
      "            defines the :class:`~matplotlib.text.Text`,\n",
      "            :class:`~matplotlib.text.TextWithDash`, and\n",
      "            :class:`~matplotlib.text.Annotate` classes\n",
      "    \n",
      "        :mod:`matplotlib.image`\n",
      "            defines the :class:`~matplotlib.image.AxesImage` and\n",
      "            :class:`~matplotlib.image.FigureImage` classes\n",
      "    \n",
      "        :mod:`matplotlib.collections`\n",
      "            classes for efficient drawing of groups of lines or polygons\n",
      "    \n",
      "        :mod:`matplotlib.colors`\n",
      "            classes for interpreting color specifications and for making\n",
      "            colormaps\n",
      "    \n",
      "        :mod:`matplotlib.cm`\n",
      "            colormaps and the :class:`~matplotlib.image.ScalarMappable`\n",
      "            mixin class for providing color mapping functionality to other\n",
      "            classes\n",
      "    \n",
      "        :mod:`matplotlib.ticker`\n",
      "            classes for calculating tick mark locations and for formatting\n",
      "            tick labels\n",
      "    \n",
      "        :mod:`matplotlib.backends`\n",
      "            a subpackage with modules for various gui libraries and output\n",
      "            formats\n",
      "    \n",
      "    The base matplotlib namespace includes:\n",
      "    \n",
      "        :data:`~matplotlib.rcParams`\n",
      "            a global dictionary of default configuration settings.  It is\n",
      "            initialized by code which may be overridden by a matplotlibrc\n",
      "            file.\n",
      "    \n",
      "        :func:`~matplotlib.rc`\n",
      "            a function for setting groups of rcParams values\n",
      "    \n",
      "        :func:`~matplotlib.use`\n",
      "            a function for setting the matplotlib backend.  If used, this\n",
      "            function must be called immediately after importing matplotlib\n",
      "            for the first time.  In particular, it must be called\n",
      "            **before** importing pyplot (if pyplot is imported).\n",
      "    \n",
      "    matplotlib was initially written by John D. Hunter (1968-2012) and is now\n",
      "    developed and maintained by a host of others.\n",
      "    \n",
      "    Occasionally the internal documentation (python docstrings) will refer\n",
      "    to MATLAB&reg;, a registered trademark of The MathWorks, Inc.\n",
      "\n",
      "PACKAGE CONTENTS\n",
      "    _animation_data\n",
      "    _cm\n",
      "    _cm_listed\n",
      "    _color_data\n",
      "    _constrained_layout\n",
      "    _contour\n",
      "    _image\n",
      "    _layoutbox\n",
      "    _mathtext_data\n",
      "    _path\n",
      "    _png\n",
      "    _pylab_helpers\n",
      "    _qhull\n",
      "    _tri\n",
      "    _version\n",
      "    afm\n",
      "    animation\n",
      "    artist\n",
      "    axes (package)\n",
      "    axis\n",
      "    backend_bases\n",
      "    backend_managers\n",
      "    backend_tools\n",
      "    backends (package)\n",
      "    bezier\n",
      "    blocking_input\n",
      "    category\n",
      "    cbook (package)\n",
      "    cm\n",
      "    collections\n",
      "    colorbar\n",
      "    colors\n",
      "    compat (package)\n",
      "    container\n",
      "    contour\n",
      "    dates\n",
      "    docstring\n",
      "    dviread\n",
      "    figure\n",
      "    font_manager\n",
      "    fontconfig_pattern\n",
      "    ft2font\n",
      "    gridspec\n",
      "    hatch\n",
      "    image\n",
      "    legend\n",
      "    legend_handler\n",
      "    lines\n",
      "    markers\n",
      "    mathtext\n",
      "    mlab\n",
      "    offsetbox\n",
      "    patches\n",
      "    path\n",
      "    patheffects\n",
      "    projections (package)\n",
      "    pylab\n",
      "    pyplot\n",
      "    quiver\n",
      "    rcsetup\n",
      "    sankey\n",
      "    scale\n",
      "    sphinxext (package)\n",
      "    spines\n",
      "    stackplot\n",
      "    streamplot\n",
      "    style (package)\n",
      "    table\n",
      "    testing (package)\n",
      "    texmanager\n",
      "    text\n",
      "    textpath\n",
      "    ticker\n",
      "    tight_bbox\n",
      "    tight_layout\n",
      "    transforms\n",
      "    tri (package)\n",
      "    ttconv\n",
      "    type1font\n",
      "    units\n",
      "    widgets\n",
      "\n",
      "CLASSES\n",
      "    builtins.dict(builtins.object)\n",
      "        RcParams(collections.abc.MutableMapping, builtins.dict)\n",
      "    builtins.object\n",
      "        rc_context\n",
      "    collections.abc.MutableMapping(collections.abc.Mapping)\n",
      "        RcParams(collections.abc.MutableMapping, builtins.dict)\n",
      "    \n",
      "    class RcParams(collections.abc.MutableMapping, builtins.dict)\n",
      "     |  RcParams(*args, **kwargs)\n",
      "     |  \n",
      "     |  A dictionary object including validation\n",
      "     |  \n",
      "     |  validating functions are defined and associated with rc parameters in\n",
      "     |  :mod:`matplotlib.rcsetup`\n",
      "     |  \n",
      "     |  Method resolution order:\n",
      "     |      RcParams\n",
      "     |      collections.abc.MutableMapping\n",
      "     |      collections.abc.Mapping\n",
      "     |      collections.abc.Collection\n",
      "     |      collections.abc.Sized\n",
      "     |      collections.abc.Iterable\n",
      "     |      collections.abc.Container\n",
      "     |      builtins.dict\n",
      "     |      builtins.object\n",
      "     |  \n",
      "     |  Methods defined here:\n",
      "     |  \n",
      "     |  __getitem__(self, key)\n",
      "     |      x.__getitem__(y) <==> x[y]\n",
      "     |  \n",
      "     |  __init__(self, *args, **kwargs)\n",
      "     |      Initialize self.  See help(type(self)) for accurate signature.\n",
      "     |  \n",
      "     |  __iter__(self)\n",
      "     |      Yield sorted list of keys.\n",
      "     |  \n",
      "     |  __len__(self)\n",
      "     |      Return len(self).\n",
      "     |  \n",
      "     |  __repr__(self)\n",
      "     |      Return repr(self).\n",
      "     |  \n",
      "     |  __setitem__(self, key, val)\n",
      "     |      Set self[key] to value.\n",
      "     |  \n",
      "     |  __str__(self)\n",
      "     |      Return str(self).\n",
      "     |  \n",
      "     |  copy(self)\n",
      "     |      D.copy() -> a shallow copy of D\n",
      "     |  \n",
      "     |  find_all(self, pattern)\n",
      "     |      Return the subset of this RcParams dictionary whose keys match,\n",
      "     |      using :func:`re.search`, the given ``pattern``.\n",
      "     |      \n",
      "     |      .. note::\n",
      "     |      \n",
      "     |          Changes to the returned dictionary are *not* propagated to\n",
      "     |          the parent RcParams dictionary.\n",
      "     |  \n",
      "     |  ----------------------------------------------------------------------\n",
      "     |  Data descriptors defined here:\n",
      "     |  \n",
      "     |  __dict__\n",
      "     |      dictionary for instance variables (if defined)\n",
      "     |  \n",
      "     |  __weakref__\n",
      "     |      list of weak references to the object (if defined)\n",
      "     |  \n",
      "     |  msg_backend_obsolete\n",
      "     |  \n",
      "     |  msg_depr\n",
      "     |  \n",
      "     |  msg_depr_ignore\n",
      "     |  \n",
      "     |  msg_depr_set\n",
      "     |  \n",
      "     |  msg_obsolete\n",
      "     |  \n",
      "     |  ----------------------------------------------------------------------\n",
      "     |  Data and other attributes defined here:\n",
      "     |  \n",
      "     |  __abstractmethods__ = frozenset({'__delitem__'})\n",
      "     |  \n",
      "     |  validate = {'_internal.classic_mode': <function validate_bool>, 'agg.p...\n",
      "     |  \n",
      "     |  ----------------------------------------------------------------------\n",
      "     |  Methods inherited from collections.abc.MutableMapping:\n",
      "     |  \n",
      "     |  __delitem__(self, key)\n",
      "     |  \n",
      "     |  clear(self)\n",
      "     |      D.clear() -> None.  Remove all items from D.\n",
      "     |  \n",
      "     |  pop(self, key, default=<object object at 0x0000011FD8FA7120>)\n",
      "     |      D.pop(k[,d]) -> v, remove specified key and return the corresponding value.\n",
      "     |      If key is not found, d is returned if given, otherwise KeyError is raised.\n",
      "     |  \n",
      "     |  popitem(self)\n",
      "     |      D.popitem() -> (k, v), remove and return some (key, value) pair\n",
      "     |      as a 2-tuple; but raise KeyError if D is empty.\n",
      "     |  \n",
      "     |  setdefault(self, key, default=None)\n",
      "     |      D.setdefault(k[,d]) -> D.get(k,d), also set D[k]=d if k not in D\n",
      "     |  \n",
      "     |  update(*args, **kwds)\n",
      "     |      D.update([E, ]**F) -> None.  Update D from mapping/iterable E and F.\n",
      "     |      If E present and has a .keys() method, does:     for k in E: D[k] = E[k]\n",
      "     |      If E present and lacks .keys() method, does:     for (k, v) in E: D[k] = v\n",
      "     |      In either case, this is followed by: for k, v in F.items(): D[k] = v\n",
      "     |  \n",
      "     |  ----------------------------------------------------------------------\n",
      "     |  Methods inherited from collections.abc.Mapping:\n",
      "     |  \n",
      "     |  __contains__(self, key)\n",
      "     |  \n",
      "     |  __eq__(self, other)\n",
      "     |      Return self==value.\n",
      "     |  \n",
      "     |  get(self, key, default=None)\n",
      "     |      D.get(k[,d]) -> D[k] if k in D, else d.  d defaults to None.\n",
      "     |  \n",
      "     |  items(self)\n",
      "     |      D.items() -> a set-like object providing a view on D's items\n",
      "     |  \n",
      "     |  keys(self)\n",
      "     |      D.keys() -> a set-like object providing a view on D's keys\n",
      "     |  \n",
      "     |  values(self)\n",
      "     |      D.values() -> an object providing a view on D's values\n",
      "     |  \n",
      "     |  ----------------------------------------------------------------------\n",
      "     |  Data and other attributes inherited from collections.abc.Mapping:\n",
      "     |  \n",
      "     |  __hash__ = None\n",
      "     |  \n",
      "     |  __reversed__ = None\n",
      "     |  \n",
      "     |  ----------------------------------------------------------------------\n",
      "     |  Class methods inherited from collections.abc.Collection:\n",
      "     |  \n",
      "     |  __subclasshook__(C) from abc.ABCMeta\n",
      "     |      Abstract classes can override this to customize issubclass().\n",
      "     |      \n",
      "     |      This is invoked early on by abc.ABCMeta.__subclasscheck__().\n",
      "     |      It should return True, False or NotImplemented.  If it returns\n",
      "     |      NotImplemented, the normal algorithm is used.  Otherwise, it\n",
      "     |      overrides the normal algorithm (and the outcome is cached).\n",
      "     |  \n",
      "     |  ----------------------------------------------------------------------\n",
      "     |  Methods inherited from builtins.dict:\n",
      "     |  \n",
      "     |  __ge__(self, value, /)\n",
      "     |      Return self>=value.\n",
      "     |  \n",
      "     |  __getattribute__(self, name, /)\n",
      "     |      Return getattr(self, name).\n",
      "     |  \n",
      "     |  __gt__(self, value, /)\n",
      "     |      Return self>value.\n",
      "     |  \n",
      "     |  __le__(self, value, /)\n",
      "     |      Return self<=value.\n",
      "     |  \n",
      "     |  __lt__(self, value, /)\n",
      "     |      Return self<value.\n",
      "     |  \n",
      "     |  __ne__(self, value, /)\n",
      "     |      Return self!=value.\n",
      "     |  \n",
      "     |  __sizeof__(...)\n",
      "     |      D.__sizeof__() -> size of D in memory, in bytes\n",
      "     |  \n",
      "     |  ----------------------------------------------------------------------\n",
      "     |  Class methods inherited from builtins.dict:\n",
      "     |  \n",
      "     |  fromkeys(iterable, value=None, /) from abc.ABCMeta\n",
      "     |      Create a new dictionary with keys from iterable and values set to value.\n",
      "     |  \n",
      "     |  ----------------------------------------------------------------------\n",
      "     |  Static methods inherited from builtins.dict:\n",
      "     |  \n",
      "     |  __new__(*args, **kwargs) from builtins.type\n",
      "     |      Create and return a new object.  See help(type) for accurate signature.\n",
      "    \n",
      "    class rc_context(builtins.object)\n",
      "     |  rc_context(rc=None, fname=None)\n",
      "     |  \n",
      "     |  Return a context manager for managing rc settings.\n",
      "     |  \n",
      "     |  This allows one to do::\n",
      "     |  \n",
      "     |      with mpl.rc_context(fname='screen.rc'):\n",
      "     |          plt.plot(x, a)\n",
      "     |          with mpl.rc_context(fname='print.rc'):\n",
      "     |              plt.plot(x, b)\n",
      "     |          plt.plot(x, c)\n",
      "     |  \n",
      "     |  The 'a' vs 'x' and 'c' vs 'x' plots would have settings from\n",
      "     |  'screen.rc', while the 'b' vs 'x' plot would have settings from\n",
      "     |  'print.rc'.\n",
      "     |  \n",
      "     |  A dictionary can also be passed to the context manager::\n",
      "     |  \n",
      "     |      with mpl.rc_context(rc={'text.usetex': True}, fname='screen.rc'):\n",
      "     |          plt.plot(x, a)\n",
      "     |  \n",
      "     |  The 'rc' dictionary takes precedence over the settings loaded from\n",
      "     |  'fname'.  Passing a dictionary only is also valid. For example a\n",
      "     |  common usage is::\n",
      "     |  \n",
      "     |      with mpl.rc_context(rc={'interactive': False}):\n",
      "     |          fig, ax = plt.subplots()\n",
      "     |          ax.plot(range(3), range(3))\n",
      "     |          fig.savefig('A.png', format='png')\n",
      "     |          plt.close(fig)\n",
      "     |  \n",
      "     |  Methods defined here:\n",
      "     |  \n",
      "     |  __enter__(self)\n",
      "     |  \n",
      "     |  __exit__(self, exc_type, exc_value, exc_tb)\n",
      "     |  \n",
      "     |  __init__(self, rc=None, fname=None)\n",
      "     |      Initialize self.  See help(type(self)) for accurate signature.\n",
      "     |  \n",
      "     |  ----------------------------------------------------------------------\n",
      "     |  Data descriptors defined here:\n",
      "     |  \n",
      "     |  __dict__\n",
      "     |      dictionary for instance variables (if defined)\n",
      "     |  \n",
      "     |  __weakref__\n",
      "     |      list of weak references to the object (if defined)\n",
      "\n",
      "FUNCTIONS\n",
      "    checkdep_dvipng()\n",
      "        [*Deprecated*] \n",
      "        \n",
      "        Notes\n",
      "        -----\n",
      "        .. deprecated:: 3.1\n",
      "           \\\n",
      "    \n",
      "    checkdep_ghostscript()\n",
      "        [*Deprecated*] \n",
      "        \n",
      "        Notes\n",
      "        -----\n",
      "        .. deprecated:: 3.1\n",
      "           \\\n",
      "    \n",
      "    checkdep_inkscape()\n",
      "        [*Deprecated*] \n",
      "        \n",
      "        Notes\n",
      "        -----\n",
      "        .. deprecated:: 3.1\n",
      "           \\\n",
      "    \n",
      "    checkdep_pdftops()\n",
      "        [*Deprecated*] \n",
      "        \n",
      "        Notes\n",
      "        -----\n",
      "        .. deprecated:: 3.1\n",
      "           \\\n",
      "    \n",
      "    checkdep_ps_distiller(s)\n",
      "    \n",
      "    checkdep_usetex(s)\n",
      "    \n",
      "    compare_versions(a, b)\n",
      "        Return whether version *a* is greater than or equal to version *b*.\n",
      "    \n",
      "    get_backend()\n",
      "        Return the name of the current backend.\n",
      "        \n",
      "        See Also\n",
      "        --------\n",
      "        matplotlib.use\n",
      "    \n",
      "    get_cachedir()\n",
      "        Return the location of the cache directory.\n",
      "        \n",
      "        The procedure used to find the directory is the same as for\n",
      "        _get_config_dir, except using `$XDG_CACHE_HOME`/`~/.cache` instead.\n",
      "    \n",
      "    get_configdir()\n",
      "        Return the string representing the configuration directory.\n",
      "        \n",
      "        The directory is chosen as follows:\n",
      "        \n",
      "        1. If the MPLCONFIGDIR environment variable is supplied, choose that.\n",
      "        2a. On Linux, follow the XDG specification and look first in\n",
      "            `$XDG_CONFIG_HOME`, if defined, or `$HOME/.config`.\n",
      "        2b. On other platforms, choose `$HOME/.matplotlib`.\n",
      "        3. If the chosen directory exists and is writable, use that as the\n",
      "           configuration directory.\n",
      "        4. If possible, create a temporary directory, and use it as the\n",
      "           configuration directory.\n",
      "        5. A writable directory could not be found or created; return None.\n",
      "    \n",
      "    get_data_path()\n",
      "    \n",
      "    get_home()\n",
      "        Return the user's home directory.\n",
      "        \n",
      "        If the user's home directory cannot be found, return None.\n",
      "    \n",
      "    get_py2exe_datafiles()\n",
      "        [*Deprecated*] \n",
      "        \n",
      "        Notes\n",
      "        -----\n",
      "        .. deprecated:: 3.1\n",
      "           \\\n",
      "    \n",
      "    interactive(b)\n",
      "        Set interactive mode to boolean b.\n",
      "        \n",
      "        If b is True, then draw after every plotting command, e.g., after xlabel\n",
      "    \n",
      "    is_interactive()\n",
      "        Return true if plot mode is interactive\n",
      "    \n",
      "    is_url(filename)\n",
      "        Return True if string is an http, ftp, or file URL path.\n",
      "    \n",
      "    matplotlib_fname()\n",
      "        Get the location of the config file.\n",
      "        \n",
      "        The file location is determined in the following order\n",
      "        \n",
      "        - ``$PWD/matplotlibrc``\n",
      "        - ``$MATPLOTLIBRC`` if it is not a directory\n",
      "        - ``$MATPLOTLIBRC/matplotlibrc``\n",
      "        - ``$MPLCONFIGDIR/matplotlibrc``\n",
      "        - On Linux,\n",
      "            - ``$XDG_CONFIG_HOME/matplotlib/matplotlibrc`` (if ``$XDG_CONFIG_HOME``\n",
      "              is defined)\n",
      "            - or ``$HOME/.config/matplotlib/matplotlibrc`` (if ``$XDG_CONFIG_HOME``\n",
      "              is not defined)\n",
      "        - On other platforms,\n",
      "            - ``$HOME/.matplotlib/matplotlibrc`` if ``$HOME`` is defined\n",
      "        - Lastly, it looks in ``$MATPLOTLIBDATA/matplotlibrc``, which should always\n",
      "          exist.\n",
      "    \n",
      "    rc(group, **kwargs)\n",
      "        Set the current rc params.  *group* is the grouping for the rc, e.g.,\n",
      "        for ``lines.linewidth`` the group is ``lines``, for\n",
      "        ``axes.facecolor``, the group is ``axes``, and so on.  Group may\n",
      "        also be a list or tuple of group names, e.g., (*xtick*, *ytick*).\n",
      "        *kwargs* is a dictionary attribute name/value pairs, e.g.,::\n",
      "        \n",
      "          rc('lines', linewidth=2, color='r')\n",
      "        \n",
      "        sets the current rc params and is equivalent to::\n",
      "        \n",
      "          rcParams['lines.linewidth'] = 2\n",
      "          rcParams['lines.color'] = 'r'\n",
      "        \n",
      "        The following aliases are available to save typing for interactive\n",
      "        users:\n",
      "        \n",
      "        =====   =================\n",
      "        Alias   Property\n",
      "        =====   =================\n",
      "        'lw'    'linewidth'\n",
      "        'ls'    'linestyle'\n",
      "        'c'     'color'\n",
      "        'fc'    'facecolor'\n",
      "        'ec'    'edgecolor'\n",
      "        'mew'   'markeredgewidth'\n",
      "        'aa'    'antialiased'\n",
      "        =====   =================\n",
      "        \n",
      "        Thus you could abbreviate the above rc command as::\n",
      "        \n",
      "              rc('lines', lw=2, c='r')\n",
      "        \n",
      "        \n",
      "        Note you can use python's kwargs dictionary facility to store\n",
      "        dictionaries of default parameters.  e.g., you can customize the\n",
      "        font rc as follows::\n",
      "        \n",
      "          font = {'family' : 'monospace',\n",
      "                  'weight' : 'bold',\n",
      "                  'size'   : 'larger'}\n",
      "        \n",
      "          rc('font', **font)  # pass in the font dict as kwargs\n",
      "        \n",
      "        This enables you to easily switch between several configurations.  Use\n",
      "        ``matplotlib.style.use('default')`` or :func:`~matplotlib.rcdefaults` to\n",
      "        restore the default rc params after changes.\n",
      "    \n",
      "    rc_file(fname, *, use_default_template=True)\n",
      "        Update rc params from file.\n",
      "        \n",
      "        Style-blacklisted rc params (defined in\n",
      "        `matplotlib.style.core.STYLE_BLACKLIST`) are not updated.\n",
      "        \n",
      "        Parameters\n",
      "        ----------\n",
      "        fname : str\n",
      "            Name of file parsed for matplotlib settings.\n",
      "        \n",
      "        use_default_template : bool\n",
      "            If True, initialize with default parameters before updating with those\n",
      "            in the given file. If False, the current configuration persists\n",
      "            and only the parameters specified in the file are updated.\n",
      "    \n",
      "    rc_file_defaults()\n",
      "        Restore the rc params from the original rc file loaded by Matplotlib.\n",
      "        \n",
      "        Style-blacklisted rc params (defined in\n",
      "        `matplotlib.style.core.STYLE_BLACKLIST`) are not updated.\n",
      "    \n",
      "    rc_params(fail_on_error=False)\n",
      "        Return a :class:`matplotlib.RcParams` instance from the\n",
      "        default matplotlib rc file.\n",
      "    \n",
      "    rc_params_from_file(fname, fail_on_error=False, use_default_template=True)\n",
      "        Return :class:`matplotlib.RcParams` from the contents of the given file.\n",
      "        \n",
      "        Parameters\n",
      "        ----------\n",
      "        fname : str\n",
      "            Name of file parsed for matplotlib settings.\n",
      "        fail_on_error : bool\n",
      "            If True, raise an error when the parser fails to convert a parameter.\n",
      "        use_default_template : bool\n",
      "            If True, initialize with default parameters before updating with those\n",
      "            in the given file. If False, the configuration class only contains the\n",
      "            parameters specified in the file. (Useful for updating dicts.)\n",
      "    \n",
      "    rcdefaults()\n",
      "        Restore the rc params from Matplotlib's internal default style.\n",
      "        \n",
      "        Style-blacklisted rc params (defined in\n",
      "        `matplotlib.style.core.STYLE_BLACKLIST`) are not updated.\n",
      "        \n",
      "        See Also\n",
      "        --------\n",
      "        rc_file_defaults\n",
      "            Restore the rc params from the rc file originally loaded by Matplotlib.\n",
      "        matplotlib.style.use :\n",
      "            Use a specific style file.  Call ``style.use('default')`` to restore\n",
      "            the default style.\n",
      "    \n",
      "    set_loglevel(level)\n",
      "        Sets the Matplotlib's root logger and root logger handler level, creating\n",
      "        the handler if it does not exist yet.\n",
      "        \n",
      "        Typically, one should call ``set_loglevel(\"info\")`` or\n",
      "        ``set_loglevel(\"debug\")`` to get additional debugging information.\n",
      "        \n",
      "        Parameters\n",
      "        ----------\n",
      "        level : {\"notset\", \"debug\", \"info\", \"warning\", \"error\", \"critical\"}\n",
      "            The log level of the handler.\n",
      "        \n",
      "        Notes\n",
      "        -----\n",
      "        The first time this function is called, an additional handler is attached\n",
      "        to Matplotlib's root handler; this handler is reused every time and this\n",
      "        function simply manipulates the logger and handler's level.\n",
      "    \n",
      "    test(verbosity=None, coverage=False, switch_backend_warn=True, recursionlimit=0, **kwargs)\n",
      "        Run the matplotlib test suite.\n",
      "    \n",
      "    tk_window_focus()\n",
      "        [*Deprecated*] Return true if focus maintenance under TkAgg on win32 is on.\n",
      "        This currently works only for python.exe and IPython.exe.\n",
      "        Both IDLE and Pythonwin.exe fail badly when tk_window_focus is on.\n",
      "        \n",
      "        Notes\n",
      "        -----\n",
      "        .. deprecated:: 3.1\n",
      "    \n",
      "    use(backend, warn=False, force=True)\n",
      "        Select the backend used for rendering and GUI integration.\n",
      "        \n",
      "        Parameters\n",
      "        ----------\n",
      "        backend : str\n",
      "            The backend to switch to.  This can either be one of the standard\n",
      "            backend names, which are case-insensitive:\n",
      "        \n",
      "            - interactive backends:\n",
      "              GTK3Agg, GTK3Cairo, MacOSX, nbAgg,\n",
      "              Qt4Agg, Qt4Cairo, Qt5Agg, Qt5Cairo,\n",
      "              TkAgg, TkCairo, WebAgg, WX, WXAgg, WXCairo\n",
      "        \n",
      "            - non-interactive backends:\n",
      "              agg, cairo, pdf, pgf, ps, svg, template\n",
      "        \n",
      "            or a string of the form: ``module://my.module.name``.\n",
      "        \n",
      "        warn : bool, optional, default: False\n",
      "            If True and not *force*, warn that the call will have no effect if\n",
      "            this is called after pyplot has been imported and a backend is set up.\n",
      "        \n",
      "        \n",
      "        force : bool, optional, default: True\n",
      "            If True, attempt to switch the backend.   An ImportError is raised if\n",
      "            an interactive backend is selected, but another interactive\n",
      "            backend has already started.\n",
      "        \n",
      "        See Also\n",
      "        --------\n",
      "        :ref:`backends`\n",
      "        matplotlib.get_backend\n",
      "\n",
      "DATA\n",
      "    URL_REGEX = re.compile('http://|https://|ftp://|file://|file:\\\\\\\\')\n",
      "    __bibtex__ = '@Article{Hunter:2007,\\n  Author    = {Hunter, J. ...ishe...\n",
      "    defaultParams = {'_internal.classic_mode': [False, <function validate_...\n",
      "    default_test_modules = ['matplotlib.tests', 'matplotlib.sphinxext.test...\n",
      "    rcParams = RcParams({'_internal.classic_mode': False,\n",
      "         ...nor.widt...\n",
      "    rcParamsDefault = RcParams({'_internal.classic_mode': False,\n",
      "         ...n...\n",
      "    rcParamsOrig = RcParams({'_internal.classic_mode': False,\n",
      "         ...nor....\n",
      "\n",
      "VERSION\n",
      "    3.1.3\n",
      "\n",
      "FILE\n",
      "    c:\\programdata\\anaconda3\\lib\\site-packages\\matplotlib\\__init__.py\n",
      "\n",
      "\n"
     ]
    }
   ],
   "source": [
    "help()"
   ]
  },
  {
   "cell_type": "code",
   "execution_count": null,
   "metadata": {},
   "outputs": [],
   "source": []
  },
  {
   "cell_type": "code",
   "execution_count": 1,
   "metadata": {},
   "outputs": [],
   "source": [
    "import random"
   ]
  },
  {
   "cell_type": "code",
   "execution_count": 2,
   "metadata": {},
   "outputs": [
    {
     "data": {
      "text/plain": [
       "0.9224903845093969"
      ]
     },
     "execution_count": 2,
     "metadata": {},
     "output_type": "execute_result"
    }
   ],
   "source": [
    "random.random()"
   ]
  },
  {
   "cell_type": "code",
   "execution_count": 3,
   "metadata": {},
   "outputs": [
    {
     "data": {
      "text/plain": [
       "'tijera'"
      ]
     },
     "execution_count": 3,
     "metadata": {},
     "output_type": "execute_result"
    }
   ],
   "source": [
    "random.choice([\"piedra\",\"papel\",\"tijera\"])"
   ]
  },
  {
   "cell_type": "code",
   "execution_count": null,
   "metadata": {},
   "outputs": [],
   "source": []
  },
  {
   "cell_type": "markdown",
   "metadata": {},
   "source": [
    "## Formateo de texto\n",
    "\n",
    "Podemos formatear texto en Python utilizando el método `format`. Este método nos permite hacer substituciones dentro de otro string que se utiliza como \"plantilla\". Los lugares donde se debe insertar el texto (contenedores) son aclarados con llaves `{}`.\n",
    "\n",
    "```python\n",
    "nombre = 'Pedro'\n",
    "edad = 28\n",
    "\n",
    "texto = \"{} tiene {} años\".format(nombre, edad)\n",
    "\n",
    "print(texto)\n",
    "\n",
    ">>>Pedro tiene 28 años\n",
    "```"
   ]
  },
  {
   "cell_type": "code",
   "execution_count": 2,
   "metadata": {},
   "outputs": [],
   "source": [
    "variable = 4"
   ]
  },
  {
   "cell_type": "code",
   "execution_count": 3,
   "metadata": {},
   "outputs": [
    {
     "name": "stdout",
     "output_type": "stream",
     "text": [
      "Variable   Type    Data/Info\n",
      "----------------------------\n",
      "variable   int     4\n"
     ]
    }
   ],
   "source": [
    "%whos"
   ]
  },
  {
   "cell_type": "code",
   "execution_count": null,
   "metadata": {},
   "outputs": [],
   "source": [
    "ventas = [[\"camisa\",1500],[\"pantalon\",2300]]\n",
    "\n",
    "def registrar():\n",
    "    producto = input (\"Ingrese el nombre del producto: \")\n",
    "    precio = float(input (\"Ingrese el precio del producto: \"))\n",
    "    registro = [producto, precio]\n",
    "    ventas.append(registro)\n",
    "\n",
    "def mostrar():\n",
    "    for venta in ventas:\n",
    "        print(\"*\"+venta[0]+ \": $\" + str(venta[1]))\n",
    "    \n",
    "def total():\n",
    "    suma=0\n",
    "    for venta in ventas:\n",
    "        suma = suma + venta[1]\n",
    "    print(\"El total de ventas es: $\", suma)\n",
    "\n",
    "while True:\n",
    "    opcion=input(\"\"\"\"Para regitrar una venta ingrese 1\n",
    "Para mostrar las ventas ingrese 2\n",
    "Para mostrar el total de ventas ingrese 3\n",
    "Para salir ingrese 4\"\"\")\n",
    "    \n",
    "    if opcion == \"1\":\n",
    "        registrar()\n",
    "    \n",
    "    elif opcion == \"2\":\n",
    "        mostrar()\n",
    "    \n",
    "    elif opcion == \"3\":\n",
    "        total()\n",
    "    \n",
    "    elif opcion == \"4\":\n",
    "        break\n",
    "        \n",
    "    else:\n",
    "        print(opcion,\"Su opcion ingresada no es válida, Intente nuevamente\")\n",
    "\n",
    "    "
   ]
  },
  {
   "cell_type": "code",
   "execution_count": null,
   "metadata": {},
   "outputs": [],
   "source": []
  },
  {
   "cell_type": "code",
   "execution_count": null,
   "metadata": {},
   "outputs": [],
   "source": []
  },
  {
   "cell_type": "code",
   "execution_count": null,
   "metadata": {},
   "outputs": [],
   "source": []
  },
  {
   "cell_type": "code",
   "execution_count": null,
   "metadata": {},
   "outputs": [],
   "source": []
  },
  {
   "cell_type": "code",
   "execution_count": null,
   "metadata": {},
   "outputs": [],
   "source": []
  },
  {
   "cell_type": "code",
   "execution_count": null,
   "metadata": {},
   "outputs": [],
   "source": []
  },
  {
   "cell_type": "markdown",
   "metadata": {},
   "source": [
    "Los contenedores pueden estar vacíos, pueden contener un número que indica el índice del elemento a insertar entre la lista de parámetros y también pieden contener identificadores.\n",
    "\n",
    "\n",
    "```python\n",
    "nombre = 'Pedro'\n",
    "edad = 28\n",
    "empresa = \"Google\"\n",
    "\n",
    "texto1 = \"{} tiene {} años y trabaja en {}\".format(nombre, edad, empresa)\n",
    "\n",
    "texto2 = \"{2} tiene {0} años y trabaja en {1}\".format(edad, empresa, nombre)\n",
    "\n",
    "texto3 = \"{name} tiene {age} años y trabaja en {company}\".format(age =edad, company = empresa, name = nombre)\n",
    "\n",
    "print(texto1)\n",
    "print(texto2)\n",
    "print(texto3)\n",
    "\n",
    ">>>Pedro tiene 28 años y trabaja en Google\n",
    ">>>Pedro tiene 28 años y trabaja en Google\n",
    ">>>Pedro tiene 28 años y trabaja en Google\n",
    "```"
   ]
  },
  {
   "cell_type": "code",
   "execution_count": null,
   "metadata": {},
   "outputs": [],
   "source": []
  },
  {
   "cell_type": "code",
   "execution_count": null,
   "metadata": {},
   "outputs": [],
   "source": []
  },
  {
   "cell_type": "markdown",
   "metadata": {},
   "source": [
    "Existen numerosos tipos de formatos que se pueden poner en los contenedores, algunos muy útiles para trabajar con números"
   ]
  },
  {
   "cell_type": "code",
   "execution_count": null,
   "metadata": {},
   "outputs": [],
   "source": []
  },
  {
   "cell_type": "code",
   "execution_count": null,
   "metadata": {},
   "outputs": [],
   "source": []
  }
 ],
 "metadata": {
  "kernelspec": {
   "display_name": "Python 3",
   "language": "python",
   "name": "python3"
  },
  "language_info": {
   "codemirror_mode": {
    "name": "ipython",
    "version": 3
   },
   "file_extension": ".py",
   "mimetype": "text/x-python",
   "name": "python",
   "nbconvert_exporter": "python",
   "pygments_lexer": "ipython3",
   "version": "3.7.6"
  }
 },
 "nbformat": 4,
 "nbformat_minor": 2
}
