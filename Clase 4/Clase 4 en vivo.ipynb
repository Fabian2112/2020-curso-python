{
 "cells": [
  {
   "cell_type": "markdown",
   "metadata": {},
   "source": [
    "# Clase 4 \n",
    "*Ariel Thenon*"
   ]
  },
  {
   "cell_type": "markdown",
   "metadata": {},
   "source": [
    "## Formateo de texto\n",
    "\n",
    "Podemos formatear texto en Python utilizando el método `format`. Este método nos permite hacer substituciones dentro de otro string que se utiliza como \"plantilla\". Los lugares donde se debe insertar el texto (contenedores) son aclarados con llaves `{}`.\n",
    "\n",
    "```python\n",
    "nombre = 'Pedro'\n",
    "edad = 28\n",
    "\n",
    "texto = \"{} tiene {} años\".format(nombre, edad)\n",
    "\n",
    "print(texto)\n",
    "\n",
    ">>>Pedro tiene 28 años\n",
    "```"
   ]
  },
  {
   "cell_type": "code",
   "execution_count": 1,
   "metadata": {},
   "outputs": [
    {
     "name": "stdout",
     "output_type": "stream",
     "text": [
      "Pedro tiene 28 años\n"
     ]
    }
   ],
   "source": [
    "nombre = 'Pedro'\n",
    "edad = 28\n",
    "\n",
    "\n",
    "print(nombre + \" tiene \" + str(edad) + \" años\")"
   ]
  },
  {
   "cell_type": "code",
   "execution_count": 2,
   "metadata": {},
   "outputs": [
    {
     "name": "stdout",
     "output_type": "stream",
     "text": [
      "Pedro tiene 28 años\n"
     ]
    }
   ],
   "source": [
    "texto = \"{} tiene {} años\".format(nombre, edad)\n",
    "\n",
    "print(texto)"
   ]
  },
  {
   "cell_type": "code",
   "execution_count": null,
   "metadata": {},
   "outputs": [],
   "source": []
  },
  {
   "cell_type": "code",
   "execution_count": null,
   "metadata": {},
   "outputs": [],
   "source": []
  },
  {
   "cell_type": "code",
   "execution_count": null,
   "metadata": {},
   "outputs": [],
   "source": []
  },
  {
   "cell_type": "markdown",
   "metadata": {},
   "source": [
    "Los contenedores pueden estar vacíos, pueden contener un número que indica el índice del elemento a insertar entre la lista de parámetros y también pieden contener identificadores.\n",
    "\n",
    "\n",
    "```python\n",
    "nombre = 'Pedro'\n",
    "edad = 28\n",
    "empresa = \"Google\"\n",
    "\n",
    "texto1 = \"{} tiene {} años y trabaja en {}\".format(nombre, edad, empresa)\n",
    "\n",
    "texto2 = \"{2} tiene {0} años y trabaja en {1}\".format(edad, empresa, nombre)\n",
    "\n",
    "texto3 = \"{name} tiene {age} años y trabaja en {company}\".format(age =edad, company = empresa, name = nombre)\n",
    "\n",
    "print(texto1)\n",
    "print(texto2)\n",
    "print(texto3)\n",
    "\n",
    ">>>Pedro tiene 28 años y trabaja en Google\n",
    ">>>Pedro tiene 28 años y trabaja en Google\n",
    ">>>Pedro tiene 28 años y trabaja en Google\n",
    "```"
   ]
  },
  {
   "cell_type": "code",
   "execution_count": 3,
   "metadata": {},
   "outputs": [
    {
     "name": "stdout",
     "output_type": "stream",
     "text": [
      "Pedro tiene 28 años. Pedro es Argentino\n"
     ]
    }
   ],
   "source": [
    "print(\"{} tiene {} años. {} es Argentino\".format(nombre, edad, nombre))"
   ]
  },
  {
   "cell_type": "code",
   "execution_count": 4,
   "metadata": {},
   "outputs": [
    {
     "name": "stdout",
     "output_type": "stream",
     "text": [
      "Pedro tiene 28 años. Pedro es Argentino\n"
     ]
    }
   ],
   "source": [
    "print(\"{0} tiene {1} años. {0} es Argentino\".format(nombre, edad))"
   ]
  },
  {
   "cell_type": "code",
   "execution_count": null,
   "metadata": {},
   "outputs": [],
   "source": []
  },
  {
   "cell_type": "code",
   "execution_count": null,
   "metadata": {},
   "outputs": [],
   "source": []
  },
  {
   "cell_type": "markdown",
   "metadata": {},
   "source": [
    "Existen numerosos tipos de formatos que se pueden poner en los contenedores, algunos muy útiles para trabajar con números"
   ]
  },
  {
   "cell_type": "code",
   "execution_count": 9,
   "metadata": {},
   "outputs": [
    {
     "name": "stdout",
     "output_type": "stream",
     "text": [
      "Numero:     7.0325\n",
      "Numero:  7031.2602\n"
     ]
    }
   ],
   "source": [
    "print(\"Numero: {:10.4f}\".format(865/123))\n",
    "print(\"Numero: {:10.4f}\".format(864845/123))"
   ]
  },
  {
   "cell_type": "code",
   "execution_count": 14,
   "metadata": {},
   "outputs": [
    {
     "name": "stdout",
     "output_type": "stream",
     "text": [
      "numero:   7273907.55556\n",
      "numero:    808211.95062\n",
      "numero:     89801.32785\n",
      "numero:      9977.92532\n",
      "numero:      1108.65837\n",
      "numero:       123.18426\n",
      "numero:        13.68714\n",
      "numero:         1.52079\n",
      "numero:         0.16898\n",
      "numero:         0.01878\n",
      "numero:         0.00209\n"
     ]
    }
   ],
   "source": [
    "for i in range(1,12):\n",
    "    print(\"numero: {:15.5f}\".format(65465168/9**i))"
   ]
  },
  {
   "cell_type": "code",
   "execution_count": 15,
   "metadata": {},
   "outputs": [
    {
     "name": "stdout",
     "output_type": "stream",
     "text": [
      "numero:     7.27391e+06\n",
      "numero:     8.08212e+05\n",
      "numero:     8.98013e+04\n",
      "numero:     9.97793e+03\n",
      "numero:     1.10866e+03\n",
      "numero:     1.23184e+02\n",
      "numero:     1.36871e+01\n",
      "numero:     1.52079e+00\n",
      "numero:     1.68977e-01\n",
      "numero:     1.87752e-02\n",
      "numero:     2.08614e-03\n"
     ]
    }
   ],
   "source": [
    "for i in range(1,12):\n",
    "    print(\"numero: {:15.5e}\".format(65465168/9**i))"
   ]
  },
  {
   "cell_type": "code",
   "execution_count": 16,
   "metadata": {},
   "outputs": [
    {
     "name": "stdout",
     "output_type": "stream",
     "text": [
      "numero:     7.27391E+06\n",
      "numero:     8.08212E+05\n",
      "numero:     8.98013E+04\n",
      "numero:     9.97793E+03\n",
      "numero:     1.10866E+03\n",
      "numero:     1.23184E+02\n",
      "numero:     1.36871E+01\n",
      "numero:     1.52079E+00\n",
      "numero:     1.68977E-01\n",
      "numero:     1.87752E-02\n",
      "numero:     2.08614E-03\n"
     ]
    }
   ],
   "source": [
    "for i in range(1,12):\n",
    "    print(\"numero: {:15.5E}\".format(65465168/9**i))"
   ]
  },
  {
   "cell_type": "code",
   "execution_count": 25,
   "metadata": {},
   "outputs": [
    {
     "name": "stdout",
     "output_type": "stream",
     "text": [
      "727240.88889________|----146817.55556----|ccccccccccc136.77778\n",
      "80804.54321_________|----16313.06173-----|cccccccccccc15.19753\n",
      "8978.28258__________|-----1812.56241-----|ccccccccccccc1.68861\n",
      "997.58695___________|-----201.39582------|ccccccccccccc0.18762\n",
      "110.84299___________|------22.37731------|ccccccccccccc0.02085\n",
      "12.31589____________|------2.48637-------|ccccccccccccc0.00232\n",
      "1.36843_____________|------0.27626-------|ccccccccccccc0.00026\n",
      "0.15205_____________|------0.03070-------|ccccccccccccc0.00003\n",
      "0.01689_____________|------0.00341-------|ccccccccccccc0.00000\n",
      "0.00188_____________|------0.00038-------|ccccccccccccc0.00000\n",
      "0.00021_____________|------0.00004-------|ccccccccccccc0.00000\n"
     ]
    }
   ],
   "source": [
    "for i in range(1,12):\n",
    "    print(\"{:_<20.5f}|{:-^20.5f}|{:c>20.5f}\".format(6545168/9**i,1321358/9**i,1231/9**i))"
   ]
  },
  {
   "cell_type": "code",
   "execution_count": 27,
   "metadata": {},
   "outputs": [
    {
     "name": "stdout",
     "output_type": "stream",
     "text": [
      "07/03/2020\n"
     ]
    }
   ],
   "source": [
    "print(\"{:02d}/{:02d}/{:04d}\".format(7,3,2020))"
   ]
  },
  {
   "cell_type": "code",
   "execution_count": 29,
   "metadata": {},
   "outputs": [
    {
     "name": "stdout",
     "output_type": "stream",
     "text": [
      "136.77778___________|----146817.55556----|cccccccc727240.88889\n",
      "15.19753____________|----16313.06173-----|ccccccccc80804.54321\n",
      "1.68861_____________|-----1812.56241-----|cccccccccc8978.28258\n",
      "0.18762_____________|-----201.39582------|ccccccccccc997.58695\n",
      "0.02085_____________|------22.37731------|ccccccccccc110.84299\n",
      "0.00232_____________|------2.48637-------|cccccccccccc12.31589\n",
      "0.00026_____________|------0.27626-------|ccccccccccccc1.36843\n",
      "0.00003_____________|------0.03070-------|ccccccccccccc0.15205\n",
      "0.00000_____________|------0.00341-------|ccccccccccccc0.01689\n",
      "0.00000_____________|------0.00038-------|ccccccccccccc0.00188\n",
      "0.00000_____________|------0.00004-------|ccccccccccccc0.00021\n"
     ]
    }
   ],
   "source": [
    "for i in range(1,12):\n",
    "    print(\"{2:_<20.5f}|{1:-^20.5f}|{0:c>20.5f}\".format(6545168/9**i,1321358/9**i,1231/9**i))"
   ]
  },
  {
   "cell_type": "code",
   "execution_count": 31,
   "metadata": {},
   "outputs": [
    {
     "name": "stdout",
     "output_type": "stream",
     "text": [
      "                hola\n"
     ]
    }
   ],
   "source": [
    "print(\"{:>20s}\".format(\"hola\"))"
   ]
  },
  {
   "cell_type": "code",
   "execution_count": 51,
   "metadata": {},
   "outputs": [
    {
     "name": "stdout",
     "output_type": "stream",
     "text": [
      "decimal: 35519542\n",
      "hexadecimal: 21DFC36\n",
      "octal: 207376066\n",
      "binario: 10000111011111110000110110\n"
     ]
    }
   ],
   "source": [
    "print(\"decimal: {0:d}\\nhexadecimal: {0:X}\\noctal: {0:o}\\nbinario: {0:b}\".format(35519542))"
   ]
  },
  {
   "cell_type": "code",
   "execution_count": 50,
   "metadata": {},
   "outputs": [
    {
     "name": "stdout",
     "output_type": "stream",
     "text": [
      "con cuantos decimales querés ver el número?: 2\n",
      "22.83\n"
     ]
    }
   ],
   "source": [
    "precision = int(input(\"con cuantos decimales querés ver el número?: \"))\n",
    "\n",
    "\n",
    "print(\"{1:.{0}f}\".format(precision, 9658/423))"
   ]
  },
  {
   "cell_type": "code",
   "execution_count": null,
   "metadata": {},
   "outputs": [],
   "source": []
  },
  {
   "cell_type": "code",
   "execution_count": null,
   "metadata": {},
   "outputs": [],
   "source": []
  },
  {
   "cell_type": "markdown",
   "metadata": {},
   "source": [
    "## Métodos sobre strings\n",
    "\n",
    "l método `split` permite separar las partes de un string según el separador que definamos. Devuelve una lista con todas esas partes. Por defecto, utiliza espacio como separador, pero podemos especificarle el separador que necesitemos."
   ]
  },
  {
   "cell_type": "code",
   "execution_count": 52,
   "metadata": {},
   "outputs": [],
   "source": [
    "st = \"Un string de prueba cualquiera\""
   ]
  },
  {
   "cell_type": "code",
   "execution_count": 54,
   "metadata": {},
   "outputs": [
    {
     "data": {
      "text/plain": [
       "('U', 'i', 'e')"
      ]
     },
     "execution_count": 54,
     "metadata": {},
     "output_type": "execute_result"
    }
   ],
   "source": [
    "st[0], st[6], st[-3]"
   ]
  },
  {
   "cell_type": "code",
   "execution_count": 55,
   "metadata": {},
   "outputs": [
    {
     "data": {
      "text/plain": [
       "'ring de prueba cualqu'"
      ]
     },
     "execution_count": 55,
     "metadata": {},
     "output_type": "execute_result"
    }
   ],
   "source": [
    "st[5:-4]"
   ]
  },
  {
   "cell_type": "code",
   "execution_count": 56,
   "metadata": {},
   "outputs": [
    {
     "data": {
      "text/plain": [
       "'tndpe aur'"
      ]
     },
     "execution_count": 56,
     "metadata": {},
     "output_type": "execute_result"
    }
   ],
   "source": [
    "st[4:-1:3]"
   ]
  },
  {
   "cell_type": "code",
   "execution_count": 57,
   "metadata": {},
   "outputs": [
    {
     "data": {
      "text/plain": [
       "'areiuqlauc abeurp ed gnirts nU'"
      ]
     },
     "execution_count": 57,
     "metadata": {},
     "output_type": "execute_result"
    }
   ],
   "source": [
    "st[::-1]"
   ]
  },
  {
   "cell_type": "code",
   "execution_count": 58,
   "metadata": {},
   "outputs": [
    {
     "data": {
      "text/plain": [
       "'de prueba cualquiera'"
      ]
     },
     "execution_count": 58,
     "metadata": {},
     "output_type": "execute_result"
    }
   ],
   "source": [
    "st[10:]"
   ]
  },
  {
   "cell_type": "code",
   "execution_count": 59,
   "metadata": {},
   "outputs": [
    {
     "data": {
      "text/plain": [
       "'Un string '"
      ]
     },
     "execution_count": 59,
     "metadata": {},
     "output_type": "execute_result"
    }
   ],
   "source": [
    "st[:10]"
   ]
  },
  {
   "cell_type": "code",
   "execution_count": 60,
   "metadata": {},
   "outputs": [
    {
     "data": {
      "text/plain": [
       "'Un string de prueba cualquiera'"
      ]
     },
     "execution_count": 60,
     "metadata": {},
     "output_type": "execute_result"
    }
   ],
   "source": [
    "st[:]"
   ]
  },
  {
   "cell_type": "code",
   "execution_count": 62,
   "metadata": {},
   "outputs": [
    {
     "data": {
      "text/plain": [
       "('U tigd reacaqir', 'U tigd reacaqir')"
      ]
     },
     "execution_count": 62,
     "metadata": {},
     "output_type": "execute_result"
    }
   ],
   "source": [
    "st[::2], st[0:len(st):2]"
   ]
  },
  {
   "cell_type": "code",
   "execution_count": 65,
   "metadata": {},
   "outputs": [
    {
     "data": {
      "text/plain": [
       "('areiuqlauc abeurp ed gnirts nU', 'areiuqlauc abeurp ed gnirts n')"
      ]
     },
     "execution_count": 65,
     "metadata": {},
     "output_type": "execute_result"
    }
   ],
   "source": [
    "st[::-1], st[len(st):0:-1]"
   ]
  },
  {
   "cell_type": "code",
   "execution_count": 66,
   "metadata": {},
   "outputs": [
    {
     "data": {
      "text/plain": [
       "('aeulu bupe nrsn', 'aeulu bupe nrsn')"
      ]
     },
     "execution_count": 66,
     "metadata": {},
     "output_type": "execute_result"
    }
   ],
   "source": [
    "st[::-2], st[len(st):0:-2]"
   ]
  },
  {
   "cell_type": "code",
   "execution_count": 67,
   "metadata": {},
   "outputs": [
    {
     "name": "stdout",
     "output_type": "stream",
     "text": [
      "U\n",
      "n\n",
      " \n",
      "s\n",
      "t\n",
      "r\n",
      "i\n",
      "n\n",
      "g\n",
      " \n",
      "d\n",
      "e\n",
      " \n",
      "p\n",
      "r\n",
      "u\n",
      "e\n",
      "b\n",
      "a\n",
      " \n",
      "c\n",
      "u\n",
      "a\n",
      "l\n",
      "q\n",
      "u\n",
      "i\n",
      "e\n",
      "r\n",
      "a\n"
     ]
    }
   ],
   "source": [
    "for caracter in st:\n",
    "    print(caracter)"
   ]
  },
  {
   "cell_type": "code",
   "execution_count": null,
   "metadata": {},
   "outputs": [],
   "source": []
  },
  {
   "cell_type": "code",
   "execution_count": null,
   "metadata": {},
   "outputs": [],
   "source": []
  },
  {
   "cell_type": "code",
   "execution_count": null,
   "metadata": {},
   "outputs": [],
   "source": []
  },
  {
   "cell_type": "code",
   "execution_count": null,
   "metadata": {},
   "outputs": [],
   "source": []
  },
  {
   "cell_type": "code",
   "execution_count": 68,
   "metadata": {},
   "outputs": [
    {
     "data": {
      "text/plain": [
       "['Un', 'string', 'de', 'prueba', 'cualquiera']"
      ]
     },
     "execution_count": 68,
     "metadata": {},
     "output_type": "execute_result"
    }
   ],
   "source": [
    "st.split()"
   ]
  },
  {
   "cell_type": "code",
   "execution_count": 70,
   "metadata": {},
   "outputs": [
    {
     "data": {
      "text/plain": [
       "['Tomás,', 'el', 'vecino,', 'se', 'fue.']"
      ]
     },
     "execution_count": 70,
     "metadata": {},
     "output_type": "execute_result"
    }
   ],
   "source": [
    "\"Tomás, el vecino, se fue.\".split()"
   ]
  },
  {
   "cell_type": "code",
   "execution_count": 71,
   "metadata": {},
   "outputs": [
    {
     "data": {
      "text/plain": [
       "['20/11/2020']"
      ]
     },
     "execution_count": 71,
     "metadata": {},
     "output_type": "execute_result"
    }
   ],
   "source": [
    "\"20/11/2020\".split()"
   ]
  },
  {
   "cell_type": "code",
   "execution_count": 72,
   "metadata": {},
   "outputs": [
    {
     "data": {
      "text/plain": [
       "['20', '11', '2020']"
      ]
     },
     "execution_count": 72,
     "metadata": {},
     "output_type": "execute_result"
    }
   ],
   "source": [
    "\"20/11/2020\".split(\"/\")"
   ]
  },
  {
   "cell_type": "code",
   "execution_count": 73,
   "metadata": {},
   "outputs": [
    {
     "data": {
      "text/plain": [
       "['20 -', '*_11 -', '*_2020']"
      ]
     },
     "execution_count": 73,
     "metadata": {},
     "output_type": "execute_result"
    }
   ],
   "source": [
    "\"20 -/*_11 -/*_2020\".split(\"/\")"
   ]
  },
  {
   "cell_type": "code",
   "execution_count": 74,
   "metadata": {},
   "outputs": [
    {
     "data": {
      "text/plain": [
       "['20', '11', '2020']"
      ]
     },
     "execution_count": 74,
     "metadata": {},
     "output_type": "execute_result"
    }
   ],
   "source": [
    "\"20 -/*_11 -/*_2020\".split(\" -/*_\")"
   ]
  },
  {
   "cell_type": "code",
   "execution_count": 75,
   "metadata": {},
   "outputs": [
    {
     "data": {
      "text/plain": [
       "['20', '11', '2020']"
      ]
     },
     "execution_count": 75,
     "metadata": {},
     "output_type": "execute_result"
    }
   ],
   "source": [
    "\"20separador11separador2020\".split(\"separador\")"
   ]
  },
  {
   "cell_type": "code",
   "execution_count": 77,
   "metadata": {},
   "outputs": [
    {
     "name": "stdout",
     "output_type": "stream",
     "text": [
      "Ingrese nombre y apellido: Ariel Thenon\n",
      "nombre: Ariel\n",
      "apellido: Thenon\n"
     ]
    }
   ],
   "source": [
    "ingreso = input(\"Ingrese nombre y apellido: \")\n",
    "nombre, apellido = ingreso.split()\n",
    "print(\"nombre: {}\\napellido: {}\".format(nombre, apellido))"
   ]
  },
  {
   "cell_type": "code",
   "execution_count": null,
   "metadata": {},
   "outputs": [],
   "source": []
  },
  {
   "cell_type": "code",
   "execution_count": null,
   "metadata": {},
   "outputs": [],
   "source": []
  },
  {
   "cell_type": "code",
   "execution_count": null,
   "metadata": {},
   "outputs": [],
   "source": []
  },
  {
   "cell_type": "markdown",
   "metadata": {},
   "source": [
    "Con el método `strip` podemos eliminar todos los espacios en blanco que estén al comienzo y al final de una cadena. Si sólo quisiéramos eliminar los espacios a la izquierda o a la derecha podemos hacerlo con `lstrip` y `rstrip` respectivamente."
   ]
  },
  {
   "cell_type": "code",
   "execution_count": 78,
   "metadata": {},
   "outputs": [
    {
     "data": {
      "text/plain": [
       "'kdsjfnlds'"
      ]
     },
     "execution_count": 78,
     "metadata": {},
     "output_type": "execute_result"
    }
   ],
   "source": [
    "\"    kdsjfnlds    \".strip()"
   ]
  },
  {
   "cell_type": "code",
   "execution_count": 79,
   "metadata": {},
   "outputs": [
    {
     "data": {
      "text/plain": [
       "'kdsjfnlds   sadgfdsf'"
      ]
     },
     "execution_count": 79,
     "metadata": {},
     "output_type": "execute_result"
    }
   ],
   "source": [
    "\"    kdsjfnlds   sadgfdsf    \".strip()"
   ]
  },
  {
   "cell_type": "code",
   "execution_count": 81,
   "metadata": {},
   "outputs": [
    {
     "data": {
      "text/plain": [
       "'    kdsjfnlds'"
      ]
     },
     "execution_count": 81,
     "metadata": {},
     "output_type": "execute_result"
    }
   ],
   "source": [
    "\"    kdsjfnlds    \".rstrip()"
   ]
  },
  {
   "cell_type": "code",
   "execution_count": 82,
   "metadata": {},
   "outputs": [
    {
     "data": {
      "text/plain": [
       "'kdsjfnlds    '"
      ]
     },
     "execution_count": 82,
     "metadata": {},
     "output_type": "execute_result"
    }
   ],
   "source": [
    "\"    kdsjfnlds    \".lstrip()"
   ]
  },
  {
   "cell_type": "code",
   "execution_count": 83,
   "metadata": {},
   "outputs": [
    {
     "data": {
      "text/plain": [
       "'6514654'"
      ]
     },
     "execution_count": 83,
     "metadata": {},
     "output_type": "execute_result"
    }
   ],
   "source": [
    "\"____6514654____\".strip(\"_\")"
   ]
  },
  {
   "cell_type": "code",
   "execution_count": 84,
   "metadata": {},
   "outputs": [
    {
     "data": {
      "text/plain": [
       "'    6514654'"
      ]
     },
     "execution_count": 84,
     "metadata": {},
     "output_type": "execute_result"
    }
   ],
   "source": [
    "\"    6514654____\".strip(\"_\")"
   ]
  },
  {
   "cell_type": "code",
   "execution_count": 85,
   "metadata": {},
   "outputs": [
    {
     "data": {
      "text/plain": [
       "'565463'"
      ]
     },
     "execution_count": 85,
     "metadata": {},
     "output_type": "execute_result"
    }
   ],
   "source": [
    "\"--+---+++//+/****565463++*-*/*+--\".strip(\"/*-+\")"
   ]
  },
  {
   "cell_type": "code",
   "execution_count": 87,
   "metadata": {},
   "outputs": [
    {
     "data": {
      "text/plain": [
       "['Tomás,', 'el', 'vecino,', 'se', 'fue.']"
      ]
     },
     "execution_count": 87,
     "metadata": {},
     "output_type": "execute_result"
    }
   ],
   "source": [
    "tokens = \"Tomás, el vecino, se fue.\".split()\n",
    "tokens"
   ]
  },
  {
   "cell_type": "code",
   "execution_count": 89,
   "metadata": {},
   "outputs": [
    {
     "name": "stdout",
     "output_type": "stream",
     "text": [
      "Tomás\n",
      "el\n",
      "vecino\n",
      "se\n",
      "fue\n"
     ]
    }
   ],
   "source": [
    "for token in tokens:\n",
    "    print(token.strip(\",.;!?\"))"
   ]
  },
  {
   "cell_type": "code",
   "execution_count": null,
   "metadata": {},
   "outputs": [],
   "source": []
  },
  {
   "cell_type": "code",
   "execution_count": null,
   "metadata": {},
   "outputs": [],
   "source": []
  },
  {
   "cell_type": "code",
   "execution_count": null,
   "metadata": {},
   "outputs": [],
   "source": []
  },
  {
   "cell_type": "code",
   "execution_count": null,
   "metadata": {},
   "outputs": [],
   "source": []
  },
  {
   "cell_type": "code",
   "execution_count": null,
   "metadata": {},
   "outputs": [],
   "source": []
  },
  {
   "cell_type": "markdown",
   "metadata": {},
   "source": [
    "También contamos con métodos para  chequear el tipo de caracteres en un string.\n",
    "- `isdigit`: si son caracteres numéricos\n",
    "- `isalpha`: si son caracteres alfabéticos\n",
    "- `isalnum`: si son caracteres alfanuméricos"
   ]
  },
  {
   "cell_type": "code",
   "execution_count": 93,
   "metadata": {},
   "outputs": [
    {
     "name": "stdout",
     "output_type": "stream",
     "text": [
      "Ingrese un número: dfgsdfg\n",
      "<class 'str'>\n"
     ]
    },
    {
     "ename": "ValueError",
     "evalue": "invalid literal for int() with base 10: 'dfgsdfg'",
     "output_type": "error",
     "traceback": [
      "\u001b[0;31m---------------------------------------------------------------------------\u001b[0m",
      "\u001b[0;31mValueError\u001b[0m                                Traceback (most recent call last)",
      "\u001b[0;32m<ipython-input-93-92aeb9232b09>\u001b[0m in \u001b[0;36m<module>\u001b[0;34m\u001b[0m\n\u001b[1;32m      2\u001b[0m \u001b[0mprint\u001b[0m\u001b[0;34m(\u001b[0m\u001b[0mtype\u001b[0m\u001b[0;34m(\u001b[0m\u001b[0mnumero\u001b[0m\u001b[0;34m)\u001b[0m\u001b[0;34m)\u001b[0m\u001b[0;34m\u001b[0m\u001b[0;34m\u001b[0m\u001b[0m\n\u001b[1;32m      3\u001b[0m \u001b[0;34m\u001b[0m\u001b[0m\n\u001b[0;32m----> 4\u001b[0;31m \u001b[0mnumero\u001b[0m \u001b[0;34m=\u001b[0m \u001b[0mint\u001b[0m\u001b[0;34m(\u001b[0m\u001b[0mnumero\u001b[0m\u001b[0;34m)\u001b[0m\u001b[0;34m\u001b[0m\u001b[0;34m\u001b[0m\u001b[0m\n\u001b[0m",
      "\u001b[0;31mValueError\u001b[0m: invalid literal for int() with base 10: 'dfgsdfg'"
     ]
    }
   ],
   "source": [
    "numero = input(\"Ingrese un número: \")\n",
    "print(type(numero))\n",
    "\n",
    "numero = int(numero)"
   ]
  },
  {
   "cell_type": "code",
   "execution_count": 94,
   "metadata": {},
   "outputs": [
    {
     "data": {
      "text/plain": [
       "True"
      ]
     },
     "execution_count": 94,
     "metadata": {},
     "output_type": "execute_result"
    }
   ],
   "source": [
    "\"353524\".isdigit()"
   ]
  },
  {
   "cell_type": "code",
   "execution_count": 95,
   "metadata": {},
   "outputs": [
    {
     "data": {
      "text/plain": [
       "False"
      ]
     },
     "execution_count": 95,
     "metadata": {},
     "output_type": "execute_result"
    }
   ],
   "source": [
    "\"aa68464\".isdigit()"
   ]
  },
  {
   "cell_type": "code",
   "execution_count": 97,
   "metadata": {},
   "outputs": [
    {
     "name": "stdout",
     "output_type": "stream",
     "text": [
      "Ingrese un número: sldkfjg\n",
      "<class 'str'>\n",
      "No ingresó un número válido\n"
     ]
    }
   ],
   "source": [
    "numero = input(\"Ingrese un número: \")\n",
    "print(type(numero))\n",
    "\n",
    "if numero.isdigit():\n",
    "    numero = int(numero)\n",
    "else:\n",
    "    print(\"No ingresó un número válido\")"
   ]
  },
  {
   "cell_type": "code",
   "execution_count": null,
   "metadata": {},
   "outputs": [],
   "source": []
  },
  {
   "cell_type": "code",
   "execution_count": 98,
   "metadata": {},
   "outputs": [
    {
     "name": "stdout",
     "output_type": "stream",
     "text": [
      "\u0000\u0001\u0002\u0003\u0004\u0005\u0006\u0007\b\t\n",
      "\u000b",
      "\f",
      "\r",
      "\u000e\u000f\u0010\u0011\u0012\u0013\u0014\u0015\u0016\u0017\u0018\u0019\u001a\u001b\u001c",
      "\u001d",
      "\u001e",
      "\u001f !\"#$%&'()*+,-./0123456789:;<=>?@ABCDEFGHIJKLMNOPQRSTUVWXYZ[\\]^_`abcdefghijklmnopqrstuvwxyz{|}~",
      " ¡¢£¤¥¦§¨©ª«¬­®¯°±²³´µ¶·¸¹º»¼½¾¿ÀÁÂÃÄÅÆÇÈÉÊËÌÍÎÏÐÑÒÓÔÕÖ×ØÙÚÛÜÝÞßàáâãäåæçèéêëìíîïðñòóôõö÷øùúûüýþÿĀāĂăĄąĆćĈĉĊċČčĎďĐđĒēĔĕĖėĘęĚěĜĝĞğĠġĢģĤĥĦħĨĩĪīĬĭĮįİıĲĳĴĵĶķĸĹĺĻļĽľĿŀŁłŃńŅņŇňŉŊŋŌōŎŏŐőŒœŔŕŖŗŘřŚśŜŝŞşŠšŢţŤťŦŧŨũŪūŬŭŮůŰűŲųŴŵŶŷŸŹźŻżŽžſƀƁƂƃƄƅƆƇƈƉƊƋƌƍƎƏƐƑƒƓƔƕƖƗƘƙƚƛƜƝƞƟƠơƢƣƤƥƦƧƨƩƪƫƬƭƮƯưƱƲƳƴƵƶƷƸƹƺƻƼƽƾƿǀǁǂǃǄǅǆǇǈǉǊǋǌǍǎǏǐǑǒǓǔǕǖǗǘǙǚǛǜǝǞǟǠǡǢǣǤǥǦǧǨǩǪǫǬǭǮǯǰǱǲǳ"
     ]
    }
   ],
   "source": [
    "for i in range(500):\n",
    "    print(chr(i), end=\"\")"
   ]
  },
  {
   "cell_type": "code",
   "execution_count": 100,
   "metadata": {},
   "outputs": [
    {
     "data": {
      "text/plain": [
       "'¼½¾'"
      ]
     },
     "execution_count": 100,
     "metadata": {},
     "output_type": "execute_result"
    }
   ],
   "source": [
    "\"¼½¾\" "
   ]
  },
  {
   "cell_type": "code",
   "execution_count": 101,
   "metadata": {},
   "outputs": [
    {
     "data": {
      "text/plain": [
       "False"
      ]
     },
     "execution_count": 101,
     "metadata": {},
     "output_type": "execute_result"
    }
   ],
   "source": [
    "\"¼½¾\".isdigit()"
   ]
  },
  {
   "cell_type": "code",
   "execution_count": 102,
   "metadata": {},
   "outputs": [
    {
     "data": {
      "text/plain": [
       "True"
      ]
     },
     "execution_count": 102,
     "metadata": {},
     "output_type": "execute_result"
    }
   ],
   "source": [
    "\"¼½¾\".isnumeric()"
   ]
  },
  {
   "cell_type": "code",
   "execution_count": 104,
   "metadata": {},
   "outputs": [
    {
     "data": {
      "text/plain": [
       "True"
      ]
     },
     "execution_count": 104,
     "metadata": {},
     "output_type": "execute_result"
    }
   ],
   "source": [
    "\"sldfkmg\".isalpha()"
   ]
  },
  {
   "cell_type": "code",
   "execution_count": 105,
   "metadata": {},
   "outputs": [
    {
     "data": {
      "text/plain": [
       "False"
      ]
     },
     "execution_count": 105,
     "metadata": {},
     "output_type": "execute_result"
    }
   ],
   "source": [
    "\"sldfkmg35350\".isalpha()"
   ]
  },
  {
   "cell_type": "code",
   "execution_count": 106,
   "metadata": {},
   "outputs": [
    {
     "data": {
      "text/plain": [
       "True"
      ]
     },
     "execution_count": 106,
     "metadata": {},
     "output_type": "execute_result"
    }
   ],
   "source": [
    "\"sldfkmg35350\".isalnum()"
   ]
  },
  {
   "cell_type": "code",
   "execution_count": null,
   "metadata": {},
   "outputs": [],
   "source": []
  },
  {
   "cell_type": "markdown",
   "metadata": {},
   "source": [
    "También tenemos métodos para convertir todo a minúsculas o mayúsculas \n",
    "- `lower`\n",
    "- `upper` "
   ]
  },
  {
   "cell_type": "code",
   "execution_count": 107,
   "metadata": {},
   "outputs": [
    {
     "data": {
      "text/plain": [
       "'slkdjbhf'"
      ]
     },
     "execution_count": 107,
     "metadata": {},
     "output_type": "execute_result"
    }
   ],
   "source": [
    "\"SLKDJBHF\".lower()"
   ]
  },
  {
   "cell_type": "code",
   "execution_count": 108,
   "metadata": {},
   "outputs": [
    {
     "data": {
      "text/plain": [
       "'Un string de prueba cualquiera'"
      ]
     },
     "execution_count": 108,
     "metadata": {},
     "output_type": "execute_result"
    }
   ],
   "source": [
    "st"
   ]
  },
  {
   "cell_type": "code",
   "execution_count": 109,
   "metadata": {},
   "outputs": [
    {
     "data": {
      "text/plain": [
       "'un string de prueba cualquiera'"
      ]
     },
     "execution_count": 109,
     "metadata": {},
     "output_type": "execute_result"
    }
   ],
   "source": [
    "st.lower()"
   ]
  },
  {
   "cell_type": "code",
   "execution_count": 110,
   "metadata": {},
   "outputs": [
    {
     "data": {
      "text/plain": [
       "'UN STRING DE PRUEBA CUALQUIERA'"
      ]
     },
     "execution_count": 110,
     "metadata": {},
     "output_type": "execute_result"
    }
   ],
   "source": [
    "st.upper()"
   ]
  },
  {
   "cell_type": "code",
   "execution_count": 111,
   "metadata": {},
   "outputs": [
    {
     "data": {
      "text/plain": [
       "'Un String De Prueba Cualquiera'"
      ]
     },
     "execution_count": 111,
     "metadata": {},
     "output_type": "execute_result"
    }
   ],
   "source": [
    "st.title()"
   ]
  },
  {
   "cell_type": "code",
   "execution_count": 112,
   "metadata": {},
   "outputs": [
    {
     "data": {
      "text/plain": [
       "'Un string de prueba cualquiera'"
      ]
     },
     "execution_count": 112,
     "metadata": {},
     "output_type": "execute_result"
    }
   ],
   "source": [
    "st"
   ]
  },
  {
   "cell_type": "code",
   "execution_count": null,
   "metadata": {},
   "outputs": [],
   "source": []
  },
  {
   "cell_type": "markdown",
   "metadata": {},
   "source": [
    "El método `find`permite encontrar la primer ocurrencia de cierto string dentro de otro. También se puede especificar el slice sobre el cual buscar"
   ]
  },
  {
   "cell_type": "code",
   "execution_count": 116,
   "metadata": {
    "scrolled": true
   },
   "outputs": [
    {
     "data": {
      "text/plain": [
       "(18, -1, 7)"
      ]
     },
     "execution_count": 116,
     "metadata": {},
     "output_type": "execute_result"
    }
   ],
   "source": [
    "st.find(\"a\"), st.find(\"z\"), st.find(\"ng de \")"
   ]
  },
  {
   "cell_type": "code",
   "execution_count": 117,
   "metadata": {},
   "outputs": [
    {
     "data": {
      "text/plain": [
       "11"
      ]
     },
     "execution_count": 117,
     "metadata": {},
     "output_type": "execute_result"
    }
   ],
   "source": [
    "st.find(\"e\")"
   ]
  },
  {
   "cell_type": "code",
   "execution_count": 118,
   "metadata": {},
   "outputs": [
    {
     "data": {
      "text/plain": [
       "3"
      ]
     },
     "execution_count": 118,
     "metadata": {},
     "output_type": "execute_result"
    }
   ],
   "source": [
    "st.count(\"e\")"
   ]
  },
  {
   "cell_type": "code",
   "execution_count": 119,
   "metadata": {},
   "outputs": [
    {
     "data": {
      "text/plain": [
       "2"
      ]
     },
     "execution_count": 119,
     "metadata": {},
     "output_type": "execute_result"
    }
   ],
   "source": [
    "\"Un string de prueba cualquiera para probar\".count(\"pr\")"
   ]
  },
  {
   "cell_type": "code",
   "execution_count": 120,
   "metadata": {},
   "outputs": [
    {
     "data": {
      "text/plain": [
       "'uN STRING DE PRUEBA CUALQUIERA'"
      ]
     },
     "execution_count": 120,
     "metadata": {},
     "output_type": "execute_result"
    }
   ],
   "source": [
    "st.swapcase()"
   ]
  },
  {
   "cell_type": "code",
   "execution_count": null,
   "metadata": {},
   "outputs": [],
   "source": []
  },
  {
   "cell_type": "markdown",
   "metadata": {},
   "source": [
    "## Trabajando con archivos\n",
    "\n",
    "Los archivos son espacios en el disco de la máquina que permiten almacenar información de manera persistente. Los pasos para trabajar con un archivo son:\n",
    "- Abrir el archivo\n",
    "- Leer / escribir en el archivo\n",
    "- Finalmente cerrarlo.\n",
    "\n",
    "\n",
    "### Apertura de archivos\n",
    "Para abrir un archivo se hace uso de la funcion incorporada `open` que retorna un objeto sobre el que podemos realizar operaciones de lectura y escritura. Recibe como parámetro el nombre del archivo si está en el mismo directorio en el que estamos trabajando o la ruta al mismo. Además tiene otros parámetros opcionales como el modo en el que abrimos el archivo. Por defecto se abre en modo lectura y texto. Los principales modos que puede tener son: \n",
    "\n",
    "- 'r'       Lectura (default)\n",
    "- 'w'       Escritura. Si el archivo no existe lo crea y si existe lo sobreescribe\n",
    "- 'x'       Crear un nuevo archivo para escritura sin sobreescribir (falla si ya existe)\n",
    "- 'a'       Modo \"append\" para escribir al final del archivo si existe\n",
    "- 'b'       Modo binario\n",
    "- 't'       Modo Texto (default)\n",
    "\n",
    "\n",
    "### Cierre de archivos\n",
    "Siempre que se trabaja con un archivo hay que cerrarlo debidamente cuando hayamos terminado las operaciones sobre él. Se cierra con el método `close()`\n",
    "\n"
   ]
  },
  {
   "cell_type": "code",
   "execution_count": 122,
   "metadata": {},
   "outputs": [
    {
     "name": "stdout",
     "output_type": "stream",
     "text": [
      "linea 1\n",
      "linea 2\n",
      "linea 3\n",
      "linea 4\n",
      "linea 5\n",
      "linea 6\n"
     ]
    }
   ],
   "source": [
    "f = open(\"archivo.txt\", \"r\")\n",
    "\n",
    "\n",
    "contenido = f.read()\n",
    "\n",
    "print(contenido)\n",
    "\n",
    "\n",
    "\n",
    "\n",
    "f.close()"
   ]
  },
  {
   "cell_type": "code",
   "execution_count": 126,
   "metadata": {},
   "outputs": [
    {
     "name": "stdout",
     "output_type": "stream",
     "text": [
      "linea\n",
      " 1\n",
      "li\n",
      "nea 2\n",
      "linea 3\n",
      "linea 4\n",
      "\n",
      "linea 5\n",
      "linea 6\n"
     ]
    }
   ],
   "source": [
    "f = open(\"archivo.txt\", \"r\")\n",
    "\n",
    "print(f.read(5))\n",
    "print(f.read(5))\n",
    "print(f.read(21))\n",
    "print(f.read())\n",
    "\n",
    "f.close()"
   ]
  },
  {
   "cell_type": "code",
   "execution_count": 133,
   "metadata": {},
   "outputs": [
    {
     "name": "stdout",
     "output_type": "stream",
     "text": [
      "linea\n",
      " 1\n",
      "linea 2\n",
      "line\n",
      "a 3\n",
      "linea 4\n",
      "lin\n",
      "linea 1\n",
      "linea 2\n",
      "\n",
      "linea 3\n",
      "lin\n",
      "3\n",
      "linea 4\n",
      "linea 5\n",
      "linea 6\n"
     ]
    }
   ],
   "source": [
    "f = open(\"archivo.txt\", \"r\")\n",
    "\n",
    "print(f.read(5))\n",
    "print(f.read(15))\n",
    "print(f.read(15))\n",
    "\n",
    "f.seek(0)\n",
    "print(f.read(15))\n",
    "print(f.read(12))\n",
    "\n",
    "f.seek(22)\n",
    "print(f.read())\n",
    "\n",
    "f.close()"
   ]
  },
  {
   "cell_type": "code",
   "execution_count": 141,
   "metadata": {},
   "outputs": [
    {
     "name": "stdout",
     "output_type": "stream",
     "text": [
      "linea 1\n",
      "\n",
      "linea 2\n",
      "\n",
      "lin\n",
      "ea 3\n",
      "\n",
      "line\n",
      "a 4\n",
      "\n",
      "linea 5\n",
      "\n"
     ]
    }
   ],
   "source": [
    "f = open(\"archivo.txt\", \"r\")\n",
    "\n",
    "\n",
    "print(f.readline())\n",
    "\n",
    "print(f.readline())\n",
    "\n",
    "print(f.read(3))\n",
    "print(f.readline())\n",
    "\n",
    "\n",
    "print(f.readline(4))\n",
    "print(f.readline())\n",
    "print(f.readline(60))\n",
    "\n",
    "\n",
    "\n",
    "\n",
    "\n",
    "f.close()"
   ]
  },
  {
   "cell_type": "code",
   "execution_count": 144,
   "metadata": {},
   "outputs": [
    {
     "name": "stdout",
     "output_type": "stream",
     "text": [
      "22\n",
      "3\n",
      "linea 4\n",
      "linea 5\n",
      "linea 6\n"
     ]
    }
   ],
   "source": [
    "f = open(\"archivo.txt\", \"r\")\n",
    "\n",
    "texto = f.read()\n",
    "\n",
    "indice = texto.find(\"3\")\n",
    "print(indice)\n",
    "\n",
    "print(texto[indice:])\n",
    "\n",
    "\n",
    "f.close()"
   ]
  },
  {
   "cell_type": "code",
   "execution_count": 146,
   "metadata": {},
   "outputs": [
    {
     "name": "stdout",
     "output_type": "stream",
     "text": [
      "['linea 1\\n', 'linea 2\\n', 'linea 3\\n', 'linea 4\\n', 'linea 5\\n', 'linea 6']\n",
      "linea 1\n",
      "\n",
      "linea 2\n",
      "\n",
      "linea 3\n",
      "\n",
      "linea 4\n",
      "\n",
      "linea 5\n",
      "\n",
      "linea 6\n"
     ]
    }
   ],
   "source": [
    "f = open(\"archivo.txt\", \"r\")\n",
    "\n",
    "lineas = f.readlines()\n",
    "\n",
    "print(lineas)\n",
    "\n",
    "for linea in lineas:\n",
    "    print(linea)\n",
    "\n",
    "f.close()"
   ]
  },
  {
   "cell_type": "code",
   "execution_count": 147,
   "metadata": {},
   "outputs": [
    {
     "name": "stdout",
     "output_type": "stream",
     "text": [
      "linea 1\n",
      "\n",
      "linea 2\n",
      "\n",
      "linea 3\n",
      "\n",
      "linea 4\n",
      "\n",
      "linea 5\n",
      "\n",
      "linea 6\n"
     ]
    }
   ],
   "source": [
    "f = open(\"archivo.txt\", \"r\")\n",
    "\n",
    "\n",
    "for i in f:\n",
    "    print(i)\n",
    "\n",
    "\n",
    "\n",
    "f.close()"
   ]
  },
  {
   "cell_type": "code",
   "execution_count": null,
   "metadata": {},
   "outputs": [],
   "source": []
  },
  {
   "cell_type": "code",
   "execution_count": 151,
   "metadata": {},
   "outputs": [],
   "source": [
    "f = open(\"archivo2.txt\", \"w\")\n",
    "\n",
    "f.write(\"texto para archivo2\")\n",
    "f.write(\"\\notra linea\")\n",
    "\n",
    "f.close()"
   ]
  },
  {
   "cell_type": "code",
   "execution_count": 152,
   "metadata": {},
   "outputs": [],
   "source": [
    "# esto borra el contenido del archivo\n",
    "f = open(\"archivo2.txt\", \"w\")\n",
    "f.close()"
   ]
  },
  {
   "cell_type": "code",
   "execution_count": 153,
   "metadata": {},
   "outputs": [],
   "source": [
    "f = open(\"archivo2.txt\", \"w\")\n",
    "\n",
    "f.write(\"texto para archivo2\")\n",
    "f.write(\"\\notra linea\")\n",
    "\n",
    "f.close()"
   ]
  },
  {
   "cell_type": "code",
   "execution_count": 154,
   "metadata": {},
   "outputs": [],
   "source": [
    "f = open(\"archivo2.txt\", \"a\")\n",
    "\n",
    "f.write(\"  -  esto va al final del archivo\")\n",
    "\n",
    "\n",
    "f.close()"
   ]
  },
  {
   "cell_type": "code",
   "execution_count": 155,
   "metadata": {},
   "outputs": [],
   "source": [
    "f = open(\"archivo2.txt\", \"a\")\n",
    "\n",
    "for i in range(1,11):\n",
    "    f.write(\"\\nLinea {}\".format(i))\n",
    "\n",
    "\n",
    "f.close()"
   ]
  },
  {
   "cell_type": "code",
   "execution_count": 158,
   "metadata": {},
   "outputs": [],
   "source": [
    "f = open(\"numeros.txt\",\"w\")\n",
    "\n",
    "for i in range(1,20):\n",
    "    f.write(\"Numero {:2d}: {:15.5f}\\n\".format(i, 6846541/3**i))\n",
    "\n",
    "\n",
    "f.close()"
   ]
  },
  {
   "cell_type": "code",
   "execution_count": 160,
   "metadata": {},
   "outputs": [],
   "source": [
    "f = open(\"archivo2.txt\", \"a\")\n",
    "\n",
    "f.writelines([\"\\nsdfgsdf\\n\", \"654654654\\n\", \"DFDXGHDGHDF\"])\n",
    "\n",
    "\n",
    "\n",
    "\n",
    "f.close()"
   ]
  },
  {
   "cell_type": "code",
   "execution_count": null,
   "metadata": {},
   "outputs": [],
   "source": []
  },
  {
   "cell_type": "code",
   "execution_count": null,
   "metadata": {},
   "outputs": [],
   "source": []
  },
  {
   "cell_type": "markdown",
   "metadata": {},
   "source": [
    "### Métodos de lectura y escritura\n",
    "\n",
    "El método `read` permite leer el contenido de un archivo. Opcionalmente se puede especificar cuantos caracteres leer.\n",
    "\n",
    "El método `readline` permite leer de a una línea por vez, mientras que el método `readlines` devuelve una lista con todas las líneas.\n",
    "\n",
    "Adicionalmente podemos recorrer el archivo con un bucle for, lo que recorre una línea por iteración."
   ]
  },
  {
   "cell_type": "code",
   "execution_count": null,
   "metadata": {},
   "outputs": [],
   "source": []
  },
  {
   "cell_type": "code",
   "execution_count": null,
   "metadata": {},
   "outputs": [],
   "source": []
  },
  {
   "cell_type": "code",
   "execution_count": null,
   "metadata": {},
   "outputs": [],
   "source": []
  },
  {
   "cell_type": "code",
   "execution_count": null,
   "metadata": {},
   "outputs": [],
   "source": []
  },
  {
   "cell_type": "code",
   "execution_count": null,
   "metadata": {},
   "outputs": [],
   "source": []
  },
  {
   "cell_type": "code",
   "execution_count": null,
   "metadata": {},
   "outputs": [],
   "source": []
  },
  {
   "cell_type": "code",
   "execution_count": null,
   "metadata": {},
   "outputs": [],
   "source": []
  },
  {
   "cell_type": "code",
   "execution_count": null,
   "metadata": {},
   "outputs": [],
   "source": []
  },
  {
   "cell_type": "code",
   "execution_count": null,
   "metadata": {},
   "outputs": [],
   "source": []
  },
  {
   "cell_type": "code",
   "execution_count": null,
   "metadata": {},
   "outputs": [],
   "source": []
  },
  {
   "cell_type": "code",
   "execution_count": null,
   "metadata": {},
   "outputs": [],
   "source": []
  },
  {
   "cell_type": "code",
   "execution_count": null,
   "metadata": {},
   "outputs": [],
   "source": []
  },
  {
   "cell_type": "code",
   "execution_count": null,
   "metadata": {},
   "outputs": [],
   "source": []
  },
  {
   "cell_type": "code",
   "execution_count": null,
   "metadata": {},
   "outputs": [],
   "source": []
  },
  {
   "cell_type": "code",
   "execution_count": null,
   "metadata": {},
   "outputs": [],
   "source": []
  },
  {
   "cell_type": "code",
   "execution_count": null,
   "metadata": {},
   "outputs": [],
   "source": []
  },
  {
   "cell_type": "code",
   "execution_count": null,
   "metadata": {},
   "outputs": [],
   "source": []
  },
  {
   "cell_type": "code",
   "execution_count": null,
   "metadata": {},
   "outputs": [],
   "source": []
  },
  {
   "cell_type": "code",
   "execution_count": null,
   "metadata": {},
   "outputs": [],
   "source": []
  },
  {
   "cell_type": "code",
   "execution_count": null,
   "metadata": {},
   "outputs": [],
   "source": []
  },
  {
   "cell_type": "code",
   "execution_count": null,
   "metadata": {},
   "outputs": [],
   "source": []
  },
  {
   "cell_type": "markdown",
   "metadata": {},
   "source": [
    "Para escribir en un archivo podemos hacerlo mediante el método `write` que escribe un string en el archivo. El método `writelines` Escribe los strings de una lista en el archivo de forma sucesiva."
   ]
  },
  {
   "cell_type": "code",
   "execution_count": null,
   "metadata": {},
   "outputs": [],
   "source": []
  },
  {
   "cell_type": "code",
   "execution_count": null,
   "metadata": {},
   "outputs": [],
   "source": []
  },
  {
   "cell_type": "code",
   "execution_count": null,
   "metadata": {},
   "outputs": [],
   "source": []
  },
  {
   "cell_type": "markdown",
   "metadata": {},
   "source": [
    "### Crear un archivo con n números aleatorios y luego leerlo y calcular el promedio de los números"
   ]
  },
  {
   "cell_type": "code",
   "execution_count": null,
   "metadata": {},
   "outputs": [],
   "source": []
  },
  {
   "cell_type": "code",
   "execution_count": null,
   "metadata": {},
   "outputs": [],
   "source": [
    "\n"
   ]
  },
  {
   "cell_type": "code",
   "execution_count": null,
   "metadata": {},
   "outputs": [],
   "source": []
  },
  {
   "cell_type": "code",
   "execution_count": null,
   "metadata": {},
   "outputs": [],
   "source": []
  },
  {
   "cell_type": "code",
   "execution_count": null,
   "metadata": {},
   "outputs": [],
   "source": []
  },
  {
   "cell_type": "code",
   "execution_count": null,
   "metadata": {},
   "outputs": [],
   "source": []
  },
  {
   "cell_type": "markdown",
   "metadata": {},
   "source": [
    "## La sentencia `with`\n",
    "\n",
    "Es importante cerrar correctamente un archivo después de usarlo. Si no el archivo se puede corromper y se puede perder la información. Un archivo puede no cerrarse porque nos olvidamos de cerrarlo o porque se produce algún error en la ejecución del código y nunca llega a ejecutarse la instrucción en donde se cierra el archivo. \n",
    "\n",
    "Para manejar archivos previendo estas situaciones es que existe la sentencia `with`, que se encarga de abrir y de cerrar el archivo, incluso en el caso de que se produzca un error en nuestro código.\n",
    "\n",
    "```python\n",
    "with open(<ruta>, <modo>) as f:\n",
    "    <operaciones sobre f>\n",
    "```"
   ]
  },
  {
   "cell_type": "code",
   "execution_count": 161,
   "metadata": {},
   "outputs": [
    {
     "name": "stdout",
     "output_type": "stream",
     "text": [
      "Numero  1:   2282180.33333\n",
      "Numero  2:    760726.77778\n",
      "Numero  3:    253575.59259\n",
      "Numero  4:     84525.19753\n",
      "Numero  5:     28175.06584\n",
      "Numero  6:      9391.68861\n",
      "Numero  7:      3130.56287\n",
      "Numero  8:      1043.52096\n",
      "Numero  9:       347.84032\n",
      "Numero 10:       115.94677\n",
      "Numero 11:        38.64892\n",
      "Numero 12:        12.88297\n",
      "Numero 13:         4.29432\n",
      "Numero 14:         1.43144\n",
      "Numero 15:         0.47715\n",
      "Numero 16:         0.15905\n",
      "Numero 17:         0.05302\n",
      "Numero 18:         0.01767\n",
      "Numero 19:         0.00589\n",
      "\n"
     ]
    }
   ],
   "source": [
    "with open(\"numeros.txt\", \"r\") as f:\n",
    "    print(f.read())"
   ]
  },
  {
   "cell_type": "code",
   "execution_count": 163,
   "metadata": {},
   "outputs": [],
   "source": [
    "datos = [(\"Diego\", 38),(\"Mariano\", 25), (\"Lucia\",24)]\n",
    "\n",
    "with open(\"personas.csv\", \"w\") as f:\n",
    "    for nombre, edad in datos:\n",
    "        f.write(\"{}, {}\\n\".format(nombre, edad))"
   ]
  },
  {
   "cell_type": "code",
   "execution_count": null,
   "metadata": {},
   "outputs": [],
   "source": []
  },
  {
   "cell_type": "code",
   "execution_count": null,
   "metadata": {},
   "outputs": [],
   "source": []
  },
  {
   "cell_type": "markdown",
   "metadata": {},
   "source": [
    "### Crear un archivo con n números aleatorios y luego leerlo y calcular el promedio de los números"
   ]
  },
  {
   "cell_type": "code",
   "execution_count": 1,
   "metadata": {},
   "outputs": [
    {
     "name": "stdout",
     "output_type": "stream",
     "text": [
      "Ingrese un entero: 1000000\n"
     ]
    }
   ],
   "source": [
    "import random as rd\n",
    "\n",
    "n = int(input(\"Ingrese un entero: \"))\n",
    "\n",
    "with open(\"al azar.txt\", \"w\") as f:\n",
    "    for i in range(n):\n",
    "        f.write(\"{}\\n\".format(rd.gauss(10,2)))\n",
    "    "
   ]
  },
  {
   "cell_type": "code",
   "execution_count": 5,
   "metadata": {},
   "outputs": [],
   "source": [
    "\n",
    "with open(\"al azar.txt\", \"r\") as f:\n",
    "    suma = 0\n",
    "    cant = 0\n",
    "    for linea in f:\n",
    "        num = float(linea[:-1])\n",
    "        suma = suma + num\n",
    "        cant = cant + 1\n"
   ]
  },
  {
   "cell_type": "code",
   "execution_count": 6,
   "metadata": {},
   "outputs": [
    {
     "name": "stdout",
     "output_type": "stream",
     "text": [
      "El promedio es: 9.996821895889076\n"
     ]
    }
   ],
   "source": [
    "print(\"El promedio es: {}\".format(suma/cant))"
   ]
  },
  {
   "cell_type": "code",
   "execution_count": 7,
   "metadata": {},
   "outputs": [],
   "source": [
    "\n",
    "with open(\"al azar.txt\", \"r\") as f:\n",
    "    numeros = []\n",
    "    for linea in f:\n",
    "        num = float(linea[:-1])\n",
    "        numeros.append(num)\n",
    "\n",
    "promedio = sum(numeros)/len(numeros)\n",
    "        \n"
   ]
  },
  {
   "cell_type": "code",
   "execution_count": 8,
   "metadata": {},
   "outputs": [
    {
     "name": "stdout",
     "output_type": "stream",
     "text": [
      "El promedio es: 9.996821895889076\n"
     ]
    }
   ],
   "source": [
    "print(\"El promedio es: {}\".format(promedio))"
   ]
  },
  {
   "cell_type": "code",
   "execution_count": null,
   "metadata": {},
   "outputs": [],
   "source": []
  },
  {
   "cell_type": "code",
   "execution_count": 19,
   "metadata": {},
   "outputs": [
    {
     "data": {
      "text/plain": [
       "{' Rolo': 4,\n",
       " ' Tuti': 8,\n",
       " ' Pincharrata': 1,\n",
       " ' Marton': 8,\n",
       " ' Emiliano': 4,\n",
       " ' Gabriel': 1,\n",
       " ' Colorado': 4,\n",
       " ' Dante Dottavio': 3,\n",
       " ' Diego': 4}"
      ]
     },
     "execution_count": 19,
     "metadata": {},
     "output_type": "execute_result"
    }
   ],
   "source": [
    "with open(\"wasap.txt\", \"r\") as f:\n",
    "    nombres = []\n",
    "    for linea in f:\n",
    "        \n",
    "        if linea[0].isdigit():\n",
    "            i1 = linea.find(\"-\")\n",
    "            i2 = i1 + linea[i1:].find(\":\")\n",
    "\n",
    "            nombres.append(linea[i1+1:i2])\n",
    "\n",
    "frecuencias= {}\n",
    "for nombre in nombres:\n",
    "    if nombre in frecuencias:\n",
    "        frecuencias[nombre] += 1\n",
    "    else:\n",
    "        frecuencias[nombre] = 1\n",
    "    \n",
    "frecuencias"
   ]
  },
  {
   "cell_type": "code",
   "execution_count": null,
   "metadata": {},
   "outputs": [],
   "source": []
  },
  {
   "cell_type": "code",
   "execution_count": null,
   "metadata": {},
   "outputs": [],
   "source": []
  },
  {
   "cell_type": "code",
   "execution_count": null,
   "metadata": {},
   "outputs": [],
   "source": []
  },
  {
   "cell_type": "code",
   "execution_count": null,
   "metadata": {},
   "outputs": [],
   "source": []
  },
  {
   "cell_type": "code",
   "execution_count": null,
   "metadata": {},
   "outputs": [],
   "source": []
  }
 ],
 "metadata": {
  "kernelspec": {
   "display_name": "Python 3",
   "language": "python",
   "name": "python3"
  },
  "language_info": {
   "codemirror_mode": {
    "name": "ipython",
    "version": 3
   },
   "file_extension": ".py",
   "mimetype": "text/x-python",
   "name": "python",
   "nbconvert_exporter": "python",
   "pygments_lexer": "ipython3",
   "version": "3.8.3"
  }
 },
 "nbformat": 4,
 "nbformat_minor": 2
}
