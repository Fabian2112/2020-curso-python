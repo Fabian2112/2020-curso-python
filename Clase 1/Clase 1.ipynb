{
 "cells": [
  {
   "cell_type": "markdown",
   "metadata": {},
   "source": [
    "# Introducción a la programación en Python\n",
    "\n",
    "*Por Ariel Thenon*"
   ]
  },
  {
   "cell_type": "markdown",
   "metadata": {},
   "source": [
    "#### Consideraciones iniciales\n",
    "\n",
    "*Programar* es definir una serie de instrucciones para que sean ejecutada por un dispositivo programable, como una computadora. Así es como podemos controlar lo que el dispositivo hace. Le podemos decir a una computadora lo que tiene que hacer y la computadora lo hará.\n",
    "\n",
    "Es decir que es una forma de comunicación entre el ser humano (el programador) y la máquina. Y como tal necesita de un lenguaje que las dos partes puedan entender. Un lenguaje que pueda cumplir esa función es lo que se llama *lenguaje de programación*.\n",
    "\n",
    "Existe una gran variedad de lenguajes de programación diseñados con distintas características, lo que hace que algunos sean más apropiados que otros para ciertas tareas. Sin embargo, en todos los casos las instrucciones que se le pueden dar a una máquina no están sujetas a ambigüedad, están perfectamente definidas.\n",
    "\n",
    "Estrictamente hablando, las computadoras sólo pueden entender un único lenguaje para el que fueron diseñadas, el *lenguaje de máquina*. Un microprocesador lo único que puede recibir son voltajes aplicados en sus conectores, que nosotros representamos mediante ceros y unos. Si bien es posible programar directamente en lenguaje de máquina, es extremadamente difícil y tedioso. Por eso es que se diseñan lenguajes de programación de alto nivel para facilitar la tarea de programar. Python es uno de estos lenguajes.\n",
    "\n",
    "Pero para que la computadora pueda entender las instrucciones que escribimos en un lenguaje de alto nivel es necesario \"traducirlas\" a lenguaje de máquina. Precisamente de esto es de lo que se encargan los compiladores y los intérpretes. Por eso hay dos tipos de lenguajes de programación: compilados e interpretados. Podemos pensar en un compilador como un programa que traduce todo el código a lenguaje de máquina produciendo un \"ejecutable\" que después se puede ejecutar. En cambio un intérprete es un programa que ejecuta las instrucciones una a una sin necesidad de traducirlo previamente, como es el caso de Python.\n",
    "\n",
    "Cuando hablamos de Python podemos hacer referencia a dos cosas distintas. Una, Python el lenguaje de programación, y otra, Python el intérprete encargado de ejecutar el código. Cuando decimos \"programar en Python\" hacemos referencia al lenguaje, y cuando decimos \"instalar Python\" hacemos referencia al intérprete.\n",
    "\n",
    "Llamamos programa a la serie de instrucciones escritas en un lenguaje de programación. Los programas tienen por objetivo resolver ciertos problemas o llevar a cabo ciertas tareas. Para eso es necesario desarrollar un algoritmo que es la serie de pasos necesarios para darle solución a un problema. Así, un programa es la implementación de un algoritmo en un lenguaje de programación.\n",
    "\n",
    "\n",
    "#### El entorno de trabajo\n",
    "\n",
    "En este curso usaremos una distribución de Python llamada *Anaconda*, que es una versión de Python equipada con una serie de librerías y programas especialmente pensada para usar en análisis de datos y Machine Learning. El editor de código en el que estamos trabajando, *Jupyter Notebook*, es una de esas herramientas y la utilizaremos en este curso y en los siguientes.\n",
    "\n",
    "\n",
    "Jupyter Notebook una herramienta muy versátil que nos ofrece una serie de facilidades a la hora de trabajar con código, algunas de las cuales son:\n",
    "\n",
    "- Se puede ejecutar desde cualquier navegador web\n",
    "- Permite dividir el código en celdas que se pueden ejecutar independientemente\n",
    "- Permite integrar las visualizaciones dentro del editor\n",
    "- Es posible documentar el código con texto de formato enriquecido, fórmulas e imágenes\n",
    "- Permite realizar presentaciones a partir de las propias celdas\n",
    "\n",
    "\n",
    "#### El lenguaje\n",
    "\n",
    "Python es un lenguaje de programación que se caracteriza por su sintaxis clara y fácil de aprender. Es un lenguaje expresivo y potente ideal para tener un programa funcional con menos líneas de código con que la mayoría de los lenguajes. Se considera que es un lenguaje de mayor nivel de abstracción que otros como C o Java ya que se ocupa automaticamente de administrar la memoria, de inferir los tipos de datos y otras operaciones de las que el programador puede desentenderse. Además, por ser interpretado, el código se puede ejecutar directamente en lugar de tener que esperar a que sea compilado antes de ejecutarse.\n",
    "\n",
    "Para ilustrar estas diferencias podemos ver como luce el código del tradicional programa \"Hello World!\" en Java y en Python:\n",
    "\n",
    "Java:\n",
    "\n",
    ">```java\n",
    "public class HelloWorld {\n",
    "    public static void main(String[] args) {\n",
    "        System.out.println(\"Hello, World!\");\n",
    "    }\n",
    "}``` \n",
    "\n",
    "Python:\n",
    "\n",
    ">```python\n",
    "print(\"Hello, World!\")```\n",
    "\n",
    "\n",
    "\n",
    "\n",
    "\n",
    "\n",
    "\n",
    "\n",
    "\n"
   ]
  },
  {
   "cell_type": "markdown",
   "metadata": {},
   "source": [
    "### Primeros pasos\n",
    "\n",
    "#### Python como una calculadora\n",
    "\n",
    "En Python podemos realizar las operaciones matemáticas más comunes. La precedencia de las operaciones es la usual en matemáticas. Para alterar o aclarar el orden de las operaciones se usan paréntesis `()`. El uso de espacios es opcional y se suele usar para que el código resulte más facil de leer.\n",
    "\n",
    "Algunos ejemplos:"
   ]
  },
  {
   "cell_type": "code",
   "execution_count": null,
   "metadata": {},
   "outputs": [],
   "source": []
  },
  {
   "cell_type": "code",
   "execution_count": null,
   "metadata": {},
   "outputs": [],
   "source": []
  },
  {
   "cell_type": "markdown",
   "metadata": {},
   "source": [
    "Por defecto, Jupyter Notebook muestra el resultado de la última expresión de la celda, pero no muestra las anteriores"
   ]
  },
  {
   "cell_type": "code",
   "execution_count": null,
   "metadata": {},
   "outputs": [],
   "source": []
  },
  {
   "cell_type": "markdown",
   "metadata": {},
   "source": [
    "Para mostrar un resultado en pantalla se utiliza la función `print()`."
   ]
  },
  {
   "cell_type": "code",
   "execution_count": null,
   "metadata": {},
   "outputs": [],
   "source": []
  },
  {
   "cell_type": "markdown",
   "metadata": {},
   "source": [
    "Para indicar que algo es un texto lo encerramos entre comillas. Por ejemplo `\"Hola Mundo\"`.  \n",
    "Se pueden utilizar comillas dobles `\"\"` o comillas simples`''`, pero no se pueden combinar, hay que abrir y cerrar con el mismo tipo de comillas, pero sí se puede utilizar unas dentro de otras."
   ]
  },
  {
   "cell_type": "code",
   "execution_count": null,
   "metadata": {},
   "outputs": [],
   "source": []
  },
  {
   "cell_type": "markdown",
   "metadata": {},
   "source": [
    "El código `5 + 2` es una expresión que Python puede evaluar y dar su resultado. Sin embargo, el código `\"5 + 2\"` lo que hace es crear un texto que coniene los caracteres cinco, más y dos"
   ]
  },
  {
   "cell_type": "code",
   "execution_count": null,
   "metadata": {},
   "outputs": [],
   "source": []
  },
  {
   "cell_type": "code",
   "execution_count": null,
   "metadata": {},
   "outputs": [],
   "source": []
  },
  {
   "cell_type": "markdown",
   "metadata": {},
   "source": [
    "### Variables\n",
    "\n",
    "Las variables nos permiten guardar en la memoria de la computadora cualquier dato que necesitemos recuperar más adelante. La creación de la variable y la asignación se hace en la misma instrucción: `<variable> = <dato>`  \n",
    "Los nombres que podemos usar para una variable debe cumplir:\n",
    "- Sólo puede contener caracteres alfanuméricos y guión bajo (no está permitido ningún caracter especial ni espacios)\n",
    "- Debe comenzar con un caracter alfabético o un guión bajo, no puede empezar con un número\n",
    "- No se puede utilizar el nombre de una palabra reservada\n",
    "- Los nombres de variables son sensibles al uso de mayúsculas\n",
    "\n",
    "Es conveniente usar un nombre que sea descriptivo del contenido de la variable para facilitar la lectura del código"
   ]
  },
  {
   "cell_type": "code",
   "execution_count": 1,
   "metadata": {},
   "outputs": [],
   "source": [
    "nombre = \"Juan\"\n",
    "edad = 25"
   ]
  },
  {
   "cell_type": "code",
   "execution_count": 2,
   "metadata": {},
   "outputs": [
    {
     "name": "stdout",
     "output_type": "stream",
     "text": [
      "Juan 25\n"
     ]
    }
   ],
   "source": [
    "print(nombre, edad)"
   ]
  },
  {
   "cell_type": "code",
   "execution_count": null,
   "metadata": {},
   "outputs": [],
   "source": [
    "\n",
    "\n"
   ]
  },
  {
   "cell_type": "markdown",
   "metadata": {},
   "source": [
    "También se puede asignar directamente el resultado de una expresión"
   ]
  },
  {
   "cell_type": "code",
   "execution_count": null,
   "metadata": {},
   "outputs": [],
   "source": []
  },
  {
   "cell_type": "code",
   "execution_count": null,
   "metadata": {},
   "outputs": [],
   "source": []
  },
  {
   "cell_type": "code",
   "execution_count": null,
   "metadata": {},
   "outputs": [],
   "source": []
  },
  {
   "cell_type": "markdown",
   "metadata": {},
   "source": [
    "## Tipos de datos\n",
    "\n",
    "Como sabemos, las computadoras funcionan con un sistema binario, y unos y ceros son las únicas cosas que puede almacenar en memoria. Por lo tanto, cualquier dato que tengamos está compuesto por una serie de unos y ceros. Para cada dato que querramos almacenar hay que definir una codificación de ese dato en binario. Y a su vez, una serie de unos y ceros puede significar distintas cosas dependiendo de la codificaión. Por eso es que en programación es escencial el concepto de tipo de dato que nos va a permitir almacenar y representar los datos en una computadora.\n",
    "\n",
    "Ahora vamos a ver cuatro tipos de datos básicos y luego las operaciones que se pueden realizar con estos.  \n",
    "Tipos de datos básicos:\n",
    "- Números enteros (integer - int)\n",
    "- Números de coma flotante (float)\n",
    "- Cadenas de caracteres (string - str)\n",
    "- Booleanos (boolean - bool)\n",
    "\n",
    "Los números enteros se expresan como una serie de caracteres numéricos con el guión adelante para los números negativos. En Python no hay límites del lenguaje al tamaño que los enteros puedan tener. El único límite está dado por la memoria de la máquina.\n",
    "\n",
    "Los números de coma flotante tienen una parte entera y otra fraccionaria separadas por un punto (la coma se usa como separador de distintos elementos).\n",
    "\n",
    "Las cadenas de caracteres se representan con una serie de caracteres encerrados entre comillas dobles o simples.\n",
    "\n",
    "Los booleanos es un tipo de dato que sólo puede tener dos valores: verdadero o falso. Estos valores se expresan con las palabras reservadas `True` y  `False`.\n",
    "\n",
    "Para chequear el tipo al que pertenece algún dato se utiliza la función `type()`."
   ]
  },
  {
   "cell_type": "code",
   "execution_count": null,
   "metadata": {},
   "outputs": [],
   "source": []
  },
  {
   "cell_type": "code",
   "execution_count": null,
   "metadata": {},
   "outputs": [],
   "source": []
  },
  {
   "cell_type": "markdown",
   "metadata": {},
   "source": [
    "### Operadores\n",
    "\n",
    "Los operadores son símbolos que realizan operaciones sobre uno o más operandos. Éstos pueden ser valores o variables. \n",
    "\n",
    "#### Operadores aritméticos\n",
    "\n",
    "Para los números podemos encontrar los operadores aritméticos básicos:\n",
    "\n",
    "- suma: `+`\n",
    "- resta : `-`\n",
    "- multiplicación: `*`\n",
    "- división: `/` \n",
    "- potenciación: `**`\n",
    "- división entera: `//`\n",
    "- módulo: `%`\n",
    "\n",
    "Estos operadores permiten operar con enteros, con flotantes o con ambos tipos de datos a la vez"
   ]
  },
  {
   "cell_type": "code",
   "execution_count": null,
   "metadata": {},
   "outputs": [],
   "source": []
  },
  {
   "cell_type": "code",
   "execution_count": null,
   "metadata": {
    "scrolled": true
   },
   "outputs": [],
   "source": []
  },
  {
   "cell_type": "code",
   "execution_count": null,
   "metadata": {},
   "outputs": [],
   "source": []
  },
  {
   "cell_type": "markdown",
   "metadata": {},
   "source": [
    "Algunos de estos operadores también están definidos para trabajar con strings. Por ejemplo el operador `+` permite concatenar dos strings"
   ]
  },
  {
   "cell_type": "code",
   "execution_count": null,
   "metadata": {},
   "outputs": [],
   "source": []
  },
  {
   "cell_type": "code",
   "execution_count": null,
   "metadata": {},
   "outputs": [],
   "source": []
  },
  {
   "cell_type": "markdown",
   "metadata": {},
   "source": [
    "#### Operadores de comparación\n",
    "\n",
    "Los operadores de comparación nos permiten evaluar si una condición es verdadera. Por lo tanto son expresiones que se evalúan a un booleano: `True` o `False`\n",
    "\n",
    "- Igualdad: `==`\n",
    "- desigualdad: `!=`\n",
    "- Mayor que: `>` \n",
    "- Menor que `<`\n",
    "- Mayor o igual que: `>=`\n",
    "- Menor o igual que: `<=`\n",
    "\n",
    "Estas comparaciones sirven para comparar números como es usual. Pero también sirven para strings y para booleanos. El orden usado para strings es el orden unicode de sus caracteres. El número de orden de un caracter se puede averiguar usando la función `ord()`. Para los booleanos `False` vale 0 y `True` vale 1."
   ]
  },
  {
   "cell_type": "code",
   "execution_count": null,
   "metadata": {},
   "outputs": [],
   "source": []
  },
  {
   "cell_type": "code",
   "execution_count": null,
   "metadata": {
    "scrolled": false
   },
   "outputs": [],
   "source": []
  },
  {
   "cell_type": "markdown",
   "metadata": {},
   "source": [
    "#### Operadores lógicos\n",
    "\n",
    "Son operadores que operan con booleanos y retornan un booleano. Son las operacions lógicas:\n",
    "\n",
    "- Conjunción: `and`\n",
    "- Disyunción: `or`\n",
    "- Negación: `not`\n",
    "\n",
    "Los resultados de las operaciones lógicas están dados por las tablas de verdad:\n",
    "\n",
    "\n",
    "\n",
    "\n",
    "<img src=\"./Tablas de verdad.jpg\" width=400/ align=\"left\">"
   ]
  },
  {
   "cell_type": "code",
   "execution_count": null,
   "metadata": {},
   "outputs": [],
   "source": []
  },
  {
   "cell_type": "code",
   "execution_count": null,
   "metadata": {},
   "outputs": [],
   "source": []
  },
  {
   "cell_type": "markdown",
   "metadata": {},
   "source": [
    "### Colecciones\n",
    "\n",
    "Las colecciones son estructuras de datos que permiten agrupar varios objetos. Cada una de estas estructuras es a su vez un tipo de dato.\n",
    "\n",
    "#### Listas\n",
    "\n",
    "Una lista es una colección de ordenada y mutable de elementos. Es una colección porque puede contener muchos elementos. Ordenada porque cada elemento ocupa un lugar, por lo que a sus elementos se le asigna números enteros consecutivos como índice. Y mutable porque se pueden agregar, borrar y modificar sus elementos. Los elementos que agrupa pueden ser cualquier tipo de dato.\n",
    "\n",
    "La definición de las listas se hace mediante corchetes `[]` y sus elementos se separan con comas `,`."
   ]
  },
  {
   "cell_type": "code",
   "execution_count": null,
   "metadata": {},
   "outputs": [],
   "source": []
  },
  {
   "cell_type": "code",
   "execution_count": null,
   "metadata": {},
   "outputs": [],
   "source": []
  },
  {
   "cell_type": "markdown",
   "metadata": {},
   "source": [
    "Se accede a los elementos de una lista a través de su índice. El índice es un número entero que indica la posición del elemento. Los índices comienzan a partir de cero, por lo que el primer elemento de la lista tiene indice `0`, el segundo tiene índice `1`, etc.  \n",
    "También se puede utilizar índices negativos, que empiezan a contar desde el final de la lista. Por lo que el último elemento tiene índice `-1`, el anteúltimo tiene índice `-2`, etc."
   ]
  },
  {
   "cell_type": "code",
   "execution_count": null,
   "metadata": {},
   "outputs": [],
   "source": []
  },
  {
   "cell_type": "markdown",
   "metadata": {},
   "source": [
    "#### Tuplas\n",
    "\n",
    "Las tuplas son colecciones ordenadas e inmutables de elementos. Una vez creadas, no se pueden modificar. Sus elementos se acceden a través de índices y siguen las mismas reglas que las listas"
   ]
  },
  {
   "cell_type": "code",
   "execution_count": null,
   "metadata": {},
   "outputs": [],
   "source": []
  },
  {
   "cell_type": "markdown",
   "metadata": {},
   "source": [
    "#### Diccionarios\n",
    "\n",
    "Un diccionario es una colección no oredenada. Cada entrada de un diccionario consta de dos partes: una clave y un valor. Para definir un diccionario se usan llaves `{}`, las entradas de un diccionario se separan con comas `,` y en cada entrada se usa dos puntos `:` para separar clave y valor.  \n",
    "Ej: `mi_diccionario = {<clave 1>: <valor 1>, <clave 2>: <valor2>, ...}`\n",
    "\n",
    "Las claves funcionana como índice de cada uno de los valores, es decir que podemos acceder a los valores a través de sus respectivas claves."
   ]
  },
  {
   "cell_type": "code",
   "execution_count": null,
   "metadata": {},
   "outputs": [],
   "source": []
  },
  {
   "cell_type": "markdown",
   "metadata": {},
   "source": [
    "Los valores de un diccionario sólo pueden ser tipos de datos inmutables. De los tipos de datos vistos hasta ahora pueden ser: enteros, flotantes, strings, booleanos y tuplas. Sin embargo los valores de un diccionario pueden ser cualquier tipo de dato, incluyendo listas y otros diccionarios."
   ]
  },
  {
   "cell_type": "code",
   "execution_count": null,
   "metadata": {},
   "outputs": [],
   "source": []
  },
  {
   "cell_type": "code",
   "execution_count": null,
   "metadata": {},
   "outputs": [],
   "source": []
  },
  {
   "cell_type": "code",
   "execution_count": null,
   "metadata": {},
   "outputs": [],
   "source": []
  },
  {
   "cell_type": "code",
   "execution_count": null,
   "metadata": {},
   "outputs": [],
   "source": []
  },
  {
   "cell_type": "code",
   "execution_count": null,
   "metadata": {
    "scrolled": true
   },
   "outputs": [],
   "source": []
  }
 ],
 "metadata": {
  "kernelspec": {
   "display_name": "Python 3",
   "language": "python",
   "name": "python3"
  },
  "language_info": {
   "codemirror_mode": {
    "name": "ipython",
    "version": 3
   },
   "file_extension": ".py",
   "mimetype": "text/x-python",
   "name": "python",
   "nbconvert_exporter": "python",
   "pygments_lexer": "ipython3",
   "version": "3.8.3"
  }
 },
 "nbformat": 4,
 "nbformat_minor": 2
}
