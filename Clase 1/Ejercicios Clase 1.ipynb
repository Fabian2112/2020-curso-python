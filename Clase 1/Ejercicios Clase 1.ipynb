{
 "cells": [
  {
   "cell_type": "markdown",
   "metadata": {},
   "source": [
    "# Ejercicios Clase 1"
   ]
  },
  {
   "cell_type": "markdown",
   "metadata": {},
   "source": [
    "#### Pedir al usuario que ingrese su nombre e imprimir un saludo personalizado"
   ]
  },
  {
   "cell_type": "code",
   "execution_count": null,
   "metadata": {},
   "outputs": [],
   "source": []
  },
  {
   "cell_type": "markdown",
   "metadata": {},
   "source": [
    "#### Pedir al usuario que ingrese su nombre y cuantos años cumple durante este año e imprimir un mensaje mostrando cuantos años cumplirá en 2027"
   ]
  },
  {
   "cell_type": "code",
   "execution_count": null,
   "metadata": {},
   "outputs": [],
   "source": []
  },
  {
   "cell_type": "markdown",
   "metadata": {},
   "source": [
    "#### Pedir al usuario que ingrese día, mes y año como números e imprimir un mensaje con la fecha formateada como `<día>/<mes>/<año>`.  \n",
    "Ejemplo:\n",
    "```\n",
    "input 1: 25\n",
    "input 2: 8\n",
    "input 3: 2020\n",
    "\n",
    "output: La fecha ingresada es 25/8/2020\n",
    "```\n"
   ]
  },
  {
   "cell_type": "code",
   "execution_count": null,
   "metadata": {},
   "outputs": [],
   "source": []
  },
  {
   "cell_type": "markdown",
   "metadata": {},
   "source": [
    "#### Pedir al usuario que ingrese el precio de un producto y el impuesto a aplicar como un número entre cero y uno y mostrar el resultado de aplicar el impuesto al producto"
   ]
  },
  {
   "cell_type": "code",
   "execution_count": null,
   "metadata": {},
   "outputs": [],
   "source": []
  },
  {
   "cell_type": "markdown",
   "metadata": {},
   "source": [
    "#### Lo mismo que en el ejercicio anterior pero ingresando el impuesto como un porcentaje"
   ]
  },
  {
   "cell_type": "code",
   "execution_count": null,
   "metadata": {},
   "outputs": [],
   "source": []
  },
  {
   "cell_type": "markdown",
   "metadata": {},
   "source": [
    "#### Dado un punto del plano con coordenadas x=4 e y=6.25, encontrar la distancia de ese punto al origen de coordenadas (recordar que la distancia al origen está dada por $ \\sqrt{x^2+ y^2} $ )"
   ]
  },
  {
   "cell_type": "code",
   "execution_count": null,
   "metadata": {},
   "outputs": [],
   "source": []
  },
  {
   "cell_type": "markdown",
   "metadata": {},
   "source": [
    "#### Pedir al usuario que ingrese las coordenadas del punto y calcular la distancia de ese punto al origen. Imprimir un mensaje que indique cual es esa distancia\n",
    "\n"
   ]
  },
  {
   "cell_type": "code",
   "execution_count": null,
   "metadata": {},
   "outputs": [],
   "source": []
  },
  {
   "cell_type": "markdown",
   "metadata": {},
   "source": [
    "#### Obtener tres mensajes de error distintos"
   ]
  },
  {
   "cell_type": "code",
   "execution_count": null,
   "metadata": {},
   "outputs": [],
   "source": []
  },
  {
   "cell_type": "code",
   "execution_count": null,
   "metadata": {},
   "outputs": [],
   "source": []
  },
  {
   "cell_type": "code",
   "execution_count": null,
   "metadata": {},
   "outputs": [],
   "source": []
  },
  {
   "cell_type": "markdown",
   "metadata": {},
   "source": [
    "#### Una panadería vende la docena de facturas a \\\\$50 y cada factura suelta a \\\\$5. Pedir al usuario la cantidad de facturas que desea llevar y calcular el precio final correspondiente.\n",
    "(Ayuda: usar los operadores `%` y `//`)"
   ]
  },
  {
   "cell_type": "code",
   "execution_count": null,
   "metadata": {},
   "outputs": [],
   "source": []
  },
  {
   "cell_type": "markdown",
   "metadata": {},
   "source": [
    "#### Crear una lista con seis elementos e imprimir el primer, el tercer y el último elemento en líneas separadas."
   ]
  },
  {
   "cell_type": "code",
   "execution_count": null,
   "metadata": {},
   "outputs": [],
   "source": []
  },
  {
   "cell_type": "markdown",
   "metadata": {},
   "source": [
    "#### Dado el string 'palabra' imprimir en pantalla la segunda, cuarta y quinta letra.\n"
   ]
  },
  {
   "cell_type": "code",
   "execution_count": null,
   "metadata": {},
   "outputs": [],
   "source": []
  },
  {
   "cell_type": "markdown",
   "metadata": {},
   "source": [
    "#### Slices: crear una lista con seis elementos e imprimir en una línea la lista de sus dos primeros elementos y la lista de los restantes elementos en la siguiente línea."
   ]
  },
  {
   "cell_type": "code",
   "execution_count": null,
   "metadata": {},
   "outputs": [],
   "source": []
  },
  {
   "cell_type": "markdown",
   "metadata": {},
   "source": [
    "#### Crear una lista y pedirle al usuario un string y agregarlo a la lista"
   ]
  },
  {
   "cell_type": "code",
   "execution_count": null,
   "metadata": {},
   "outputs": [],
   "source": []
  },
  {
   "cell_type": "markdown",
   "metadata": {},
   "source": [
    "#### Dada la siguiente lista pedir al usuario el número de índice del elemento que desea modificar y que ingrese el texto por el que desea reemplazarlo. Luego imprimir la lista"
   ]
  },
  {
   "cell_type": "code",
   "execution_count": null,
   "metadata": {},
   "outputs": [],
   "source": [
    "lista = [\"Hola\", \"mundo\", \"spam\", \"eggs\", \"Monty\", \"Python\"]"
   ]
  },
  {
   "cell_type": "markdown",
   "metadata": {},
   "source": [
    "#### Crear una matriz 3x4 como lista de listas e imprimir el primer elemento de la primer fila, el último de la segunda fila y el segundo de la tercer fila."
   ]
  },
  {
   "cell_type": "code",
   "execution_count": null,
   "metadata": {},
   "outputs": [],
   "source": []
  },
  {
   "cell_type": "markdown",
   "metadata": {},
   "source": [
    "#### Crear un diccionario con códigos de países y sus respectivos nombres (ej: `{\"ar\": \"Argentina\", \"us\": \"Estados Unidos\", etc}`). Pedirle al usuario que ingrese un código y mostrarle el nombre correspondiente."
   ]
  },
  {
   "cell_type": "code",
   "execution_count": null,
   "metadata": {},
   "outputs": [],
   "source": []
  }
 ],
 "metadata": {
  "kernelspec": {
   "display_name": "Python 3",
   "language": "python",
   "name": "python3"
  },
  "language_info": {
   "codemirror_mode": {
    "name": "ipython",
    "version": 3
   },
   "file_extension": ".py",
   "mimetype": "text/x-python",
   "name": "python",
   "nbconvert_exporter": "python",
   "pygments_lexer": "ipython3",
   "version": "3.8.3"
  }
 },
 "nbformat": 4,
 "nbformat_minor": 2
}
